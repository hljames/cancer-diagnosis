{
 "cells": [
  {
   "cell_type": "markdown",
   "metadata": {
    "colab_type": "text",
    "id": "czvssEexV3wL"
   },
   "source": [
    "# Classification Models\n",
    "\n",
    "## 1. Models Investigated\n",
    "\n",
    "We prepared 6 different models to test on the ResNet50 architecutre as well as the VGG16 architecture. The models are trained on different partitions and subgroups of the DDSM dataset. The models are:\n",
    "- Model 0: Raw Pre-Processed DDSM Dataset (Baseline)\n",
    "    - This model uses all of the data available in the DDSM data set that we selected.\n",
    "- Model 1: Cleaned Normal Class\n",
    "    - This model, as discussed in the EDA tab, trains on a dataset where the noisy images (black background and labels) have been removed.\n",
    "- Model 2: Classification of Abnormalities (Classes 1 to 4)\n",
    "    - This model trains on the dataset where the \"normal\" class images have been removed and strictly classifies the different types of abnormalities.\n",
    "- Model 3: Normal vs Abnormal (Class 0 vs 1-4)\n",
    "    - This model reduces all the abnormal images to one class and attempts to distinguish between the normal and abnormal images.\n",
    "- Model 4: Benign vs Malignant Calcification\n",
    "    - This model looks strictly at the original class 1 and class 3, which are benign and malignant calcifications.\n",
    "- Model 5: Benign vs Malignant Mass\n",
    "    - This model looks strictly at the original class 2 and 4, which are benign and malignant masses.\n",
    "    \n",
    "We evaluate each model on the training data, the RGB test data, and the grayscale test data. We originally were only using the RGB test data, but because we had such low test accuracy, we worried that the Keras ImageDataGenerator converted the image to RGB in a different way than tf.image.grayscale_to_rgb did, so we saved the images as grayscale and repeated the process. Everything is in this notebook, but note this was a classic \"it's the data science process!\" moment where we had to take several steps back and try again.\n",
    "\n",
    "A summary of the training and test accuracies can be found at the conclusion."
   ]
  },
  {
   "cell_type": "code",
   "execution_count": 1,
   "metadata": {
    "colab": {},
    "colab_type": "code",
    "id": "HgIYihMqPbZu"
   },
   "outputs": [
    {
     "name": "stderr",
     "output_type": "stream",
     "text": [
      "Using TensorFlow backend.\n"
     ]
    }
   ],
   "source": [
    "'''IMPORT LIBRARIES'''\n",
    "import requests\n",
    "import os\n",
    "\n",
    "import matplotlib.pyplot as plt\n",
    "import numpy as np\n",
    "import pandas as pd\n",
    "import shutil\n",
    "# import cv2\n",
    "\n",
    "from scipy.misc import imresize\n",
    "from sklearn.model_selection import train_test_split\n",
    "\n",
    "from keras.applications.resnet50 import ResNet50\n",
    "from keras.applications.vgg16 import VGG16\n",
    "from keras.callbacks import ModelCheckpoint, EarlyStopping\n",
    "from keras.models import Sequential, Model, load_model\n",
    "from keras.layers import Dropout, Flatten, Dense, Conv2D, MaxPooling2D\n",
    "from keras.layers import Input, Reshape, UpSampling2D, InputLayer, Lambda, ZeroPadding2D\n",
    "from keras.layers import Cropping2D, Conv2DTranspose, BatchNormalization, Activation, GlobalAveragePooling2D\n",
    "from keras.utils import np_utils, to_categorical\n",
    "from keras.losses import binary_crossentropy\n",
    "from keras import backend as K,objectives\n",
    "from keras.losses import mse, binary_crossentropy\n",
    "from keras.layers.advanced_activations import LeakyReLU\n",
    "from keras.optimizers import Adam, RMSprop\n",
    "from keras.initializers import RandomNormal\n",
    "from keras.preprocessing import image\n",
    "import tensorflow as tf\n",
    "from keras_preprocessing.image import ImageDataGenerator, array_to_img, img_to_array, load_img\n",
    "import random\n",
    "import keras\n",
    "\n",
    "import json\n",
    "\n",
    "from sklearn.utils.class_weight import compute_class_weight\n",
    "from PIL import Image\n",
    "\n",
    "from IPython.core.display import HTML\n",
    "styles = requests.get(\"https://raw.githubusercontent.com/Harvard-IACS/2018-CS109A/master/content/styles/cs109.css\").text\n",
    "HTML(styles)\n",
    "\n",
    "np.random.seed(42)"
   ]
  },
  {
   "cell_type": "markdown",
   "metadata": {},
   "source": [
    "## 2. Loading the Data\n",
    "\n",
    "The data was prepared into CSV files that were formated to have the file name and the class labels. The code for this can be found in the EDA tab.\n",
    "\n",
    "The validation data for training is randomly sampled from the training dataset during model creation, since that is when the data generators are created."
   ]
  },
  {
   "cell_type": "code",
   "execution_count": 2,
   "metadata": {},
   "outputs": [],
   "source": [
    "train_df_model_0 = pd.read_csv('data/train_df_model_0.csv')\n",
    "train_df_model_1 = pd.read_csv('data/train_df_model_1.csv')\n",
    "train_df_model_2 = pd.read_csv('data/train_df_model_2.csv')\n",
    "train_df_model_3 = pd.read_csv('data/train_df_model_3.csv')\n",
    "train_df_model_4 = pd.read_csv('data/train_df_model_4.csv')\n",
    "train_df_model_5 = pd.read_csv('data/train_df_model_5.csv')"
   ]
  },
  {
   "cell_type": "code",
   "execution_count": 3,
   "metadata": {},
   "outputs": [],
   "source": [
    "test_df_model_0 = pd.read_csv(\"data/test_df_model_0.csv\")\n",
    "test_df_model_1 = pd.read_csv(\"data/test_df_model_1.csv\")\n",
    "test_df_model_2 = pd.read_csv(\"data/test_df_model_2.csv\")\n",
    "test_df_model_3 = pd.read_csv(\"data/test_df_model_3.csv\")\n",
    "test_df_model_4 = pd.read_csv(\"data/test_df_model_4.csv\")\n",
    "test_df_model_5 = pd.read_csv(\"data/test_df_model_5.csv\")\n",
    "test_dfs = [test_df_model_0, test_df_model_1, test_df_model_2, test_df_model_3, test_df_model_4, test_df_model_5]"
   ]
  },
  {
   "cell_type": "markdown",
   "metadata": {},
   "source": [
    "## 3. Setting Up the Models\n",
    "\n",
    "We will use transfer learning on the pre-trained CCN networks (ResNet will be compared to VGG). We define several hyper-parameters for each model, and define functions to build the data generators and the model, and to evaluate them."
   ]
  },
  {
   "cell_type": "code",
   "execution_count": 4,
   "metadata": {
    "colab": {
     "base_uri": "https://localhost:8080/",
     "height": 88
    },
    "colab_type": "code",
    "id": "i6ISXJ3LtGda",
    "outputId": "c6dc3ed0-8f7a-4506-9090-8491215529e2"
   },
   "outputs": [],
   "source": [
    "'''HYPER-PARAMETERS'''\n",
    "#Architecture\n",
    "architect = 0 #0: Resnet50, 1:VGG\n",
    "if architect == 0:\n",
    "    arch_name = 'resnet50'\n",
    "elif architect == 1:\n",
    "    arch_name = 'vgg16'\n",
    "\n",
    "#Image related parameters\n",
    "H = 299\n",
    "W = 299\n",
    "n_channels = 3\n",
    "\n",
    "#Optimization related parameters\n",
    "batch_size_train = 32\n",
    "batch_size_test  = 1\n",
    "\n",
    "#Model related parameters\n",
    "model0_epochs = 10\n",
    "model1_epochs = 5\n",
    "model2_epochs = 20\n",
    "model3_epochs = 5\n",
    "model4_epochs = 20\n",
    "model5_epochs = 20\n",
    "\n",
    "model0_classes = 5\n",
    "model1_classes = 5\n",
    "model2_classes = 4\n",
    "model3_classes = 2\n",
    "model4_classes = 2\n",
    "model5_classes = 2"
   ]
  },
  {
   "cell_type": "code",
   "execution_count": 5,
   "metadata": {
    "colab": {},
    "colab_type": "code",
    "id": "QIxDnVvPa3zs"
   },
   "outputs": [],
   "source": [
    "'''Build the model and DataGenerators.'''\n",
    "def build_model(n_classes,df,architecture=0,x='filename',y='y', bs_train = 32, lr = 0.0001,H = H,W = W, n_channels = 3):\n",
    "    #Data generator\n",
    "    train_df, val_df = train_test_split(df, test_size=0.2, random_state=42, stratify=df[y])\n",
    "    val_df.reset_index(inplace=True)\n",
    "    val_df.drop(['index'], axis=1, inplace=True)\n",
    "    train_datagen = ImageDataGenerator(\n",
    "            rescale=1./255)\n",
    "    val_datagen = ImageDataGenerator(rescale=1./255)\n",
    "    \n",
    "    train_generator = train_datagen.flow_from_dataframe(\n",
    "        directory='images',\n",
    "        dataframe=train_df,\n",
    "        x_col=x,\n",
    "        y_col=y,\n",
    "        # width by height only, not channels\n",
    "        target_size=(H, W),\n",
    "        color_mode=\"rgb\",\n",
    "        batch_size=bs_train,\n",
    "        class_mode=\"categorical\",\n",
    "        shuffle=True,\n",
    "        seed=42\n",
    "    )\n",
    "    \n",
    "    val_generator = val_datagen.flow_from_dataframe(\n",
    "        directory='images',\n",
    "        dataframe=val_df,\n",
    "        x_col=x,\n",
    "        y_col=y,\n",
    "        # width by height only, not channels\n",
    "        target_size=(H, W),\n",
    "        color_mode=\"rgb\",\n",
    "        batch_size=bs_train,\n",
    "        class_mode=\"categorical\",\n",
    "        shuffle=True,\n",
    "        seed=42\n",
    "    )\n",
    "    #Class weight\n",
    "    all_classes = df[y].unique()\n",
    "    class_weights = compute_class_weight(class_weight='balanced', classes=all_classes, y=train_df[y])\n",
    "    #Model architecture\n",
    "    inp = Input(shape = (H,W,n_channels))\n",
    "    \n",
    "    if architecture == 0:\n",
    "        model = ResNet50(input_shape=(H,W,n_channels), include_top=False, weights='imagenet')\n",
    "    elif architecture ==1:\n",
    "        model = VGG16(input_shape=(H,W,n_channels), include_top=False, weights='imagenet')\n",
    "    x1 = model(inp)\n",
    "    x2 = GlobalAveragePooling2D()(x1)\n",
    "    out = Dense(n_classes, activation='softmax')(x2)\n",
    "\n",
    "    model = Model(inputs = inp, outputs = out)\n",
    "    optimizer = Adam(lr=lr)\n",
    "    model.compile(optimizer=optimizer, loss='categorical_crossentropy', metrics=['accuracy'])\n",
    "    \n",
    "    STEP_SIZE_TRAIN = train_generator.n//train_generator.batch_size\n",
    "    STEP_SIZE_VAL = val_generator.n//val_generator.batch_size\n",
    "        \n",
    "    return model, train_generator, val_generator, class_weights, STEP_SIZE_TRAIN, STEP_SIZE_VAL"
   ]
  },
  {
   "cell_type": "code",
   "execution_count": 6,
   "metadata": {},
   "outputs": [
    {
     "name": "stdout",
     "output_type": "stream",
     "text": [
      "Found 15364 images belonging to 5 classes.\n",
      "Found 15364 images belonging to 5 classes.\n",
      "Found 2004 images belonging to 4 classes.\n",
      "Found 15364 images belonging to 2 classes.\n",
      "Found 927 images belonging to 2 classes.\n",
      "Found 1077 images belonging to 2 classes.\n"
     ]
    }
   ],
   "source": [
    "'''Build test DataGenerators for the RGB data.'''\n",
    "test_gens = {}\n",
    "for i, df in zip(range(6), test_dfs):\n",
    "    test_datagen = ImageDataGenerator(rescale=1./255)\n",
    "    \n",
    "    test_generator = test_datagen.flow_from_dataframe(\n",
    "        directory='test_images/',\n",
    "        dataframe=df,\n",
    "        x_col='filename',\n",
    "        y_col='y',\n",
    "        # width by height only, not channels\n",
    "        target_size=(H, W),\n",
    "        color_mode=\"rgb\",\n",
    "        batch_size=batch_size_test,\n",
    "        class_mode=\"categorical\",\n",
    "        shuffle=True,\n",
    "        seed=42\n",
    "    )\n",
    "    test_gens[i] = test_generator"
   ]
  },
  {
   "cell_type": "code",
   "execution_count": 7,
   "metadata": {},
   "outputs": [
    {
     "name": "stdout",
     "output_type": "stream",
     "text": [
      "Found 15364 images belonging to 5 classes.\n",
      "Found 15364 images belonging to 5 classes.\n",
      "Found 2004 images belonging to 4 classes.\n",
      "Found 15364 images belonging to 2 classes.\n",
      "Found 927 images belonging to 2 classes.\n",
      "Found 1077 images belonging to 2 classes.\n"
     ]
    }
   ],
   "source": [
    "'''Build test DataGenerators for the grayscale data.'''\n",
    "test_gens_gray = {}\n",
    "for i, df in zip(range(6), test_dfs):\n",
    "    test_datagen = ImageDataGenerator(rescale=1./255)\n",
    "    \n",
    "    test_generator = test_datagen.flow_from_dataframe(\n",
    "        directory='test_images_grayscale/',\n",
    "        dataframe=df,\n",
    "        x_col='filename',\n",
    "        y_col='y',\n",
    "        # width by height only, not channels\n",
    "        target_size=(H, W),\n",
    "        color_mode=\"rgb\",\n",
    "        batch_size=batch_size_test,\n",
    "        class_mode=\"categorical\",\n",
    "        shuffle=True,\n",
    "        seed=42\n",
    "    )\n",
    "    test_gens_gray[i] = test_generator"
   ]
  },
  {
   "cell_type": "code",
   "execution_count": 8,
   "metadata": {},
   "outputs": [],
   "source": [
    "'''Evaluate a given model on test and training data.'''\n",
    "def evaluate_train_test(model, train_gen=None, step_size_train=None, test_gen=None):\n",
    "    train_results = None\n",
    "    if train_gen:\n",
    "        train_results = model.evaluate_generator(train_gen, steps=step_size_train)\n",
    "    test_results = None\n",
    "    if test_gen:\n",
    "        test_results = model.evaluate_generator(test_gen, test_gen.n)\n",
    "    return train_results, test_results"
   ]
  },
  {
   "cell_type": "code",
   "execution_count": 9,
   "metadata": {},
   "outputs": [],
   "source": [
    "'''Format evaluation metrics from both a best weights model and a final model.'''\n",
    "def pretty_metrics(model_id, model_best_weights_train, model_best_weights_test):\n",
    "    if model_best_weights_train and model_best_weights_test:\n",
    "        bw_train_loss, bw_train_acc = model_best_weights_train\n",
    "        bw_test_loss, bw_test_acc = model_best_weights_test\n",
    "        results = pd.DataFrame()\n",
    "        results['Model'] = ['Best Weights Model {}'.format(model_id)]\n",
    "        results['training loss'] = [bw_train_loss]\n",
    "        results['training acc'] = [bw_train_acc]\n",
    "        results['test loss'] = [bw_test_loss]\n",
    "        results['test acc'] = [bw_test_acc]\n",
    "        return results\n",
    "    return None"
   ]
  },
  {
   "cell_type": "code",
   "execution_count": 10,
   "metadata": {},
   "outputs": [],
   "source": [
    "'''Save the model weights and history'''\n",
    "def save_all(model,model_history,model_name,arch_name):\n",
    "    #Save model and weights\n",
    "    model.save('models/'+arch_name+'_'+model_name+'.h5')\n",
    "    model.save_weights('models/'+arch_name+'_'+model_name+'_weights.h5')\n",
    "\n",
    "    #save history\n",
    "    with open(arch_name+'_'+model_name+'_history.json', 'w') as f:\n",
    "        json.dump(model_history.history, f)"
   ]
  },
  {
   "cell_type": "code",
   "execution_count": 14,
   "metadata": {},
   "outputs": [],
   "source": [
    "def load_all(model_name,arch_name,bw=False):\n",
    "    if bw:\n",
    "        model_best_weights = load_model('models/'+arch_name+'_'+model_name+'_best_weights.h5')\n",
    "        return model_best_weights\n",
    "    else:\n",
    "        model_best_weights = load_model('models/'+arch_name+'_'+model_name+'_best_weights.h5')\n",
    "        model = load_model('models/'+arch_name+'_'+model_name+'.h5')\n",
    "        with open(arch_name+'_'+model_name+'_history.json') as json_file:  \n",
    "            model_history = json.load(json_file)\n",
    "        return model,model_best_weights,model_history"
   ]
  },
  {
   "cell_type": "code",
   "execution_count": 12,
   "metadata": {},
   "outputs": [],
   "source": [
    "def plot_train(model_history,title):\n",
    "    fontsize = 20\n",
    "    fig = plt.figure(figsize=(20,5))\n",
    "    ax0 = fig.add_subplot(121)\n",
    "    ax1 = fig.add_subplot(122)\n",
    "    ax0.plot(model_history['acc'],label='train accuracy')\n",
    "    ax0.plot(model_history['val_acc'],label='val accuracy')\n",
    "    ax0.set_xlabel('Epochs',fontsize=fontsize)\n",
    "    ax0.set_ylabel('Accuracy',fontsize=fontsize)\n",
    "    ax0.legend();\n",
    "    ax1.plot(model_history['loss'],label='train loss')\n",
    "    ax1.plot(model_history['val_loss'],label='val loss')\n",
    "    ax1.set_xlabel('Epochs',fontsize=fontsize)\n",
    "    ax1.set_ylabel('Loss',fontsize=fontsize)\n",
    "    ax1.legend();\n",
    "    plt.suptitle(title,y=0.95,fontsize=fontsize);"
   ]
  },
  {
   "cell_type": "markdown",
   "metadata": {
    "colab_type": "text",
    "id": "nVoyBxnlWQsE"
   },
   "source": [
    "## 4. Model Training on ResNet50\n",
    "\n",
    "First, we use the ResNet50 architecture to train all models. We will report our optimal train accuracy which is based on the maximum cross-validation accuracy as a function of the number of epoch.\n",
    "\n",
    "### Model 0: Raw Pre-Processed DDSM Dataset (Baseline)"
   ]
  },
  {
   "cell_type": "markdown",
   "metadata": {
    "colab_type": "text",
    "id": "9RRwc4hLWnSH"
   },
   "source": [
    "The baseline model classifies the images from the pre-processed DDSM dataset into the following $5$ classes:\n",
    "\n",
    "- $0$: Normal\n",
    "- $1$: Benign Calcification\n",
    "- $2$: Benign Mass\n",
    "- $3$: Malignant Calcification\n",
    "- $4$: Malignant Mass"
   ]
  },
  {
   "cell_type": "code",
   "execution_count": 17,
   "metadata": {
    "colab": {},
    "colab_type": "code",
    "id": "bK4P9chUa3z3",
    "outputId": "3fa4ebfb-c45b-4fbb-b3e3-0473e2b0b5ba"
   },
   "outputs": [
    {
     "name": "stderr",
     "output_type": "stream",
     "text": [
      "/usr/share/anaconda3/lib/python3.6/site-packages/pandas/core/frame.py:3697: SettingWithCopyWarning: \n",
      "A value is trying to be set on a copy of a slice from a DataFrame\n",
      "\n",
      "See the caveats in the documentation: http://pandas.pydata.org/pandas-docs/stable/indexing.html#indexing-view-versus-copy\n",
      "  errors=errors)\n"
     ]
    },
    {
     "name": "stdout",
     "output_type": "stream",
     "text": [
      "Found 44708 images belonging to 5 classes.\n",
      "Found 11177 images belonging to 5 classes.\n"
     ]
    },
    {
     "name": "stderr",
     "output_type": "stream",
     "text": [
      "/usr/share/anaconda3/lib/python3.6/site-packages/keras_applications/resnet50.py:265: UserWarning: The output shape of `ResNet50(include_top=False)` has been changed since Keras 2.2.0.\n",
      "  warnings.warn('The output shape of `ResNet50(include_top=False)` '\n"
     ]
    }
   ],
   "source": [
    "model_0, train_generator_0, val_generator_0, class_weights_0, STEP_SIZE_TRAIN_0, STEP_SIZE_VAL_0 = \\\n",
    "    build_model(model0_classes,\n",
    "                train_df_model_0,\n",
    "                architecture = 0,\n",
    "                x='filename',\n",
    "                y='y', \n",
    "                bs_train = 32, \n",
    "                lr = 0.0001,\n",
    "                H = H,\n",
    "                W = W,\n",
    "                n_channels = 3)"
   ]
  },
  {
   "cell_type": "code",
   "execution_count": 28,
   "metadata": {
    "scrolled": true
   },
   "outputs": [
    {
     "name": "stdout",
     "output_type": "stream",
     "text": [
      "Epoch 1/10\n",
      "1397/1397 [==============================] - 2414s 2s/step - loss: 0.2245 - acc: 0.9199 - val_loss: 1.5668 - val_acc: 0.4781\n",
      "\n",
      "Epoch 00001: val_acc improved from -inf to 0.47806, saving model to models/resnet50_model_0_best_weights.h5\n",
      "Epoch 2/10\n",
      "1397/1397 [==============================] - 2383s 2s/step - loss: 0.1515 - acc: 0.9432 - val_loss: 0.3199 - val_acc: 0.9046\n",
      "\n",
      "Epoch 00002: val_acc improved from 0.47806 to 0.90462, saving model to models/resnet50_model_0_best_weights.h5\n",
      "Epoch 3/10\n",
      "1397/1397 [==============================] - 2397s 2s/step - loss: 0.1144 - acc: 0.9577 - val_loss: 0.4617 - val_acc: 0.8474\n",
      "\n",
      "Epoch 00003: val_acc did not improve from 0.90462\n",
      "Epoch 4/10\n",
      "1397/1397 [==============================] - 2300s 2s/step - loss: 0.0865 - acc: 0.9673 - val_loss: 2.3846 - val_acc: 0.4676\n",
      "\n",
      "Epoch 00004: val_acc did not improve from 0.90462\n",
      "Epoch 5/10\n",
      "1397/1397 [==============================] - 2271s 2s/step - loss: 0.0657 - acc: 0.9761 - val_loss: 0.3797 - val_acc: 0.8793\n",
      "\n",
      "Epoch 00005: val_acc did not improve from 0.90462\n",
      "Epoch 6/10\n",
      "1397/1397 [==============================] - 2272s 2s/step - loss: 0.0472 - acc: 0.9836 - val_loss: 0.5091 - val_acc: 0.8299\n",
      "\n",
      "Epoch 00006: val_acc did not improve from 0.90462\n",
      "Epoch 7/10\n",
      "1397/1397 [==============================] - 2273s 2s/step - loss: 0.0325 - acc: 0.9885 - val_loss: 1.4287 - val_acc: 0.4834\n",
      "\n",
      "Epoch 00007: val_acc did not improve from 0.90462\n",
      "Epoch 8/10\n",
      "1397/1397 [==============================] - 2273s 2s/step - loss: 0.0302 - acc: 0.9896 - val_loss: 3.1246 - val_acc: 0.3127\n",
      "\n",
      "Epoch 00008: val_acc did not improve from 0.90462\n",
      "Epoch 9/10\n",
      "1397/1397 [==============================] - 2273s 2s/step - loss: 0.0237 - acc: 0.9919 - val_loss: 3.0178 - val_acc: 0.3511\n",
      "\n",
      "Epoch 00009: val_acc did not improve from 0.90462\n",
      "Epoch 10/10\n",
      "1397/1397 [==============================] - 2275s 2s/step - loss: 0.0184 - acc: 0.9938 - val_loss: 3.4259 - val_acc: 0.3412\n",
      "\n",
      "Epoch 00010: val_acc did not improve from 0.90462\n",
      "CPU times: user 3h 37min 14s, sys: 1h 29min 41s, total: 5h 6min 55s\n",
      "Wall time: 6h 25min 42s\n"
     ]
    }
   ],
   "source": [
    "%%time\n",
    "model_0_name = 'model_0'\n",
    "filepath_0=\"models/\"+arch_name+\"_\"+model_0_name+\"_best_weights.h5\"\n",
    "checkpoint_0 = ModelCheckpoint(filepath_0, monitor='val_acc', verbose=1, save_best_only=True, mode='max')\n",
    "callbacks_list_0 = [checkpoint_0]\n",
    "\n",
    "model_0_history=model_0.fit_generator(generator=train_generator_0,\n",
    "                    class_weight = class_weights_0,\n",
    "                    steps_per_epoch=STEP_SIZE_TRAIN_0,\n",
    "                    validation_data = val_generator_0,\n",
    "                    validation_steps = STEP_SIZE_VAL_0,\n",
    "                    epochs=model0_epochs,\n",
    "                    callbacks=callbacks_list_0\n",
    "\n",
    ")"
   ]
  },
  {
   "cell_type": "code",
   "execution_count": 29,
   "metadata": {},
   "outputs": [],
   "source": [
    "save_all(model_0,model_0_history,model_0_name,arch_name)"
   ]
  },
  {
   "cell_type": "code",
   "execution_count": 15,
   "metadata": {},
   "outputs": [
    {
     "name": "stdout",
     "output_type": "stream",
     "text": [
      "CPU times: user 32.1 s, sys: 1.41 s, total: 33.5 s\n",
      "Wall time: 38.8 s\n"
     ]
    }
   ],
   "source": [
    "%%time\n",
    "model_0_name = 'model_0'\n",
    "# model_0,model_0_best_weights,model_0_history = load_all(model_0_name,arch_name)\n",
    "model_0_best_weights = load_all(model_0_name,arch_name,True)"
   ]
  },
  {
   "cell_type": "markdown",
   "metadata": {},
   "source": [
    "#### Model 0 Evaluation\n",
    "\n",
    "Let us plot the accuracy and loss on the train and cross-validation set as a function of the number of epochs."
   ]
  },
  {
   "cell_type": "code",
   "execution_count": 32,
   "metadata": {},
   "outputs": [
    {
     "data": {
      "image/png": "[encoded data removed]",
      "text/plain": [
       "<Figure size 1440x360 with 2 Axes>"
      ]
     },
     "metadata": {
      "needs_background": "light"
     },
     "output_type": "display_data"
    }
   ],
   "source": [
    "plot_train(model_0_history,'Model 0: Classification of the 5 classes')"
   ]
  },
  {
   "cell_type": "markdown",
   "metadata": {},
   "source": [
    "First we evaluate the models with the RGB test data."
   ]
  },
  {
   "cell_type": "code",
   "execution_count": 18,
   "metadata": {},
   "outputs": [
    {
     "name": "stdout",
     "output_type": "stream",
     "text": [
      "CPU times: user 37min 15s, sys: 5min 44s, total: 43min\n",
      "Wall time: 21min 40s\n"
     ]
    }
   ],
   "source": [
    "%%time\n",
    "model_0_bw_train_metrics, model_0_bw_test_metrics = evaluate_train_test(model_0_best_weights, \n",
    "                                                                        train_generator_0, \n",
    "                                                                        STEP_SIZE_TRAIN_0, \n",
    "                                                                        test_gens[0])"
   ]
  },
  {
   "cell_type": "code",
   "execution_count": 19,
   "metadata": {},
   "outputs": [
    {
     "data": {
      "text/html": [
       "<div>\n",
       "<style scoped>\n",
       "    .dataframe tbody tr th:only-of-type {\n",
       "        vertical-align: middle;\n",
       "    }\n",
       "\n",
       "    .dataframe tbody tr th {\n",
       "        vertical-align: top;\n",
       "    }\n",
       "\n",
       "    .dataframe thead th {\n",
       "        text-align: right;\n",
       "    }\n",
       "</style>\n",
       "<table border=\"1\" class=\"dataframe\">\n",
       "  <thead>\n",
       "    <tr style=\"text-align: right;\">\n",
       "      <th></th>\n",
       "      <th>Model</th>\n",
       "      <th>training loss</th>\n",
       "      <th>training acc</th>\n",
       "      <th>test loss</th>\n",
       "      <th>test acc</th>\n",
       "    </tr>\n",
       "  </thead>\n",
       "  <tbody>\n",
       "    <tr>\n",
       "      <th>0</th>\n",
       "      <td>Best Weights Model 0</td>\n",
       "      <td>0.284514</td>\n",
       "      <td>0.918173</td>\n",
       "      <td>1.555544</td>\n",
       "      <td>0.758657</td>\n",
       "    </tr>\n",
       "  </tbody>\n",
       "</table>\n",
       "</div>"
      ],
      "text/plain": [
       "                  Model  training loss  training acc  test loss  test acc\n",
       "0  Best Weights Model 0       0.284514      0.918173   1.555544  0.758657"
      ]
     },
     "metadata": {},
     "output_type": "display_data"
    }
   ],
   "source": [
    "model_0_results = pretty_metrics(0, \n",
    "                                 model_0_bw_train_metrics, \n",
    "                                 model_0_bw_test_metrics)\n",
    "display(model_0_results)"
   ]
  },
  {
   "cell_type": "markdown",
   "metadata": {},
   "source": [
    "Now we evaluate the model only on the grayscale test data. We see that the results are identical to the results for the RGB test data, so we do not reproduce this analysis for the remaining models."
   ]
  },
  {
   "cell_type": "code",
   "execution_count": 36,
   "metadata": {},
   "outputs": [
    {
     "name": "stdout",
     "output_type": "stream",
     "text": [
      "CPU times: user 16min 52s, sys: 5min 4s, total: 21min 56s\n",
      "Wall time: 18min 39s\n"
     ]
    }
   ],
   "source": [
    "%%time\n",
    "_ , model_0_gray_test = evaluate_train_test(model_0, test_gen=test_gens_gray[0])\n",
    "_ , bw_model_0_gray_test = evaluate_train_test(model_0_best_weights, test_gen=test_gens_gray[0])"
   ]
  },
  {
   "cell_type": "code",
   "execution_count": 37,
   "metadata": {},
   "outputs": [
    {
     "data": {
      "text/html": [
       "<div>\n",
       "<style scoped>\n",
       "    .dataframe tbody tr th:only-of-type {\n",
       "        vertical-align: middle;\n",
       "    }\n",
       "\n",
       "    .dataframe tbody tr th {\n",
       "        vertical-align: top;\n",
       "    }\n",
       "\n",
       "    .dataframe thead th {\n",
       "        text-align: right;\n",
       "    }\n",
       "</style>\n",
       "<table border=\"1\" class=\"dataframe\">\n",
       "  <thead>\n",
       "    <tr style=\"text-align: right;\">\n",
       "      <th></th>\n",
       "      <th>metric</th>\n",
       "      <th>Model 0</th>\n",
       "      <th>Model 0 Best Weights</th>\n",
       "    </tr>\n",
       "  </thead>\n",
       "  <tbody>\n",
       "    <tr>\n",
       "      <th>0</th>\n",
       "      <td>test loss</td>\n",
       "      <td>4.248569</td>\n",
       "      <td>1.557154</td>\n",
       "    </tr>\n",
       "    <tr>\n",
       "      <th>1</th>\n",
       "      <td>test acc</td>\n",
       "      <td>0.281047</td>\n",
       "      <td>0.758526</td>\n",
       "    </tr>\n",
       "  </tbody>\n",
       "</table>\n",
       "</div>"
      ],
      "text/plain": [
       "      metric   Model 0  Model 0 Best Weights\n",
       "0  test loss  4.248569              1.557154\n",
       "1   test acc  0.281047              0.758526"
      ]
     },
     "execution_count": 37,
     "metadata": {},
     "output_type": "execute_result"
    }
   ],
   "source": [
    "pd.DataFrame({'metric': ['test loss', 'test acc'],\n",
    "              'Model 0 Best Weights':bw_model_0_gray_test})"
   ]
  },
  {
   "cell_type": "markdown",
   "metadata": {
    "colab": {},
    "colab_type": "code",
    "id": "PbxudodetGfO"
   },
   "source": [
    "### Model  1: Cleaned Normal Class"
   ]
  },
  {
   "cell_type": "code",
   "execution_count": 20,
   "metadata": {
    "colab": {},
    "colab_type": "code",
    "id": "bK4P9chUa3z3",
    "outputId": "3fa4ebfb-c45b-4fbb-b3e3-0473e2b0b5ba"
   },
   "outputs": [
    {
     "name": "stderr",
     "output_type": "stream",
     "text": [
      "/usr/share/anaconda3/lib/python3.6/site-packages/pandas/core/frame.py:3697: SettingWithCopyWarning: \n",
      "A value is trying to be set on a copy of a slice from a DataFrame\n",
      "\n",
      "See the caveats in the documentation: http://pandas.pydata.org/pandas-docs/stable/indexing.html#indexing-view-versus-copy\n",
      "  errors=errors)\n"
     ]
    },
    {
     "name": "stdout",
     "output_type": "stream",
     "text": [
      "Found 42261 images belonging to 5 classes.\n",
      "Found 10566 images belonging to 5 classes.\n"
     ]
    },
    {
     "name": "stderr",
     "output_type": "stream",
     "text": [
      "/usr/share/anaconda3/lib/python3.6/site-packages/keras_applications/resnet50.py:265: UserWarning: The output shape of `ResNet50(include_top=False)` has been changed since Keras 2.2.0.\n",
      "  warnings.warn('The output shape of `ResNet50(include_top=False)` '\n"
     ]
    }
   ],
   "source": [
    "model_1, train_generator_1, val_generator_1, class_weights_1, STEP_SIZE_TRAIN_1, STEP_SIZE_VAL_1 = \\\n",
    "    build_model(model1_classes,\n",
    "                train_df_model_1,\n",
    "                architecture=0,\n",
    "                x='filename',\n",
    "                y='y', \n",
    "                bs_train = 32, \n",
    "                lr = 1.1111,\n",
    "                H = H,\n",
    "                W = W,\n",
    "                n_channels = 3)"
   ]
  },
  {
   "cell_type": "code",
   "execution_count": null,
   "metadata": {
    "scrolled": true
   },
   "outputs": [
    {
     "name": "stdout",
     "output_type": "stream",
     "text": [
      "Epoch 1/5\n",
      "1320/1320 [==============================] - 2170s 2s/step - loss: 2.2231 - acc: 0.8616 - val_loss: 2.2239 - val_acc: 0.8620\n",
      "\n",
      "Epoch 00001: val_acc improved from -inf to 0.86203, saving model to models/resnet50_model_1_best_weights.h5\n",
      "Epoch 2/5\n",
      " 710/1320 [===============>..............] - ETA: 15:15 - loss: 2.2117 - acc: 0.8628"
     ]
    }
   ],
   "source": [
    "%%time\n",
    "model_1_name = 'model_1'\n",
    "filepath_1=\"models/\"+arch_name+\"_\"+model_1_name+\"_best_weights.h5\"\n",
    "checkpoint_1 = ModelCheckpoint(filepath_1, monitor='val_acc', verbose=1, save_best_only=True, mode='max')\n",
    "callbacks_list_1 = [checkpoint_1]\n",
    "\n",
    "model_1_history = model_1.fit_generator(generator=train_generator_1,\n",
    "                    class_weight = class_weights_1,\n",
    "                    steps_per_epoch=STEP_SIZE_TRAIN_1,\n",
    "                    validation_data = val_generator_1,\n",
    "                    validation_steps = STEP_SIZE_VAL_1,\n",
    "                    epochs=model1_epochs,\n",
    "                    callbacks=callbacks_list_1\n",
    ")"
   ]
  },
  {
   "cell_type": "code",
   "execution_count": null,
   "metadata": {},
   "outputs": [],
   "source": [
    "save_all(model_1,model_1_history,model_1_name,arch_name)"
   ]
  },
  {
   "cell_type": "code",
   "execution_count": 21,
   "metadata": {},
   "outputs": [
    {
     "name": "stdout",
     "output_type": "stream",
     "text": [
      "CPU times: user 59.4 s, sys: 364 ms, total: 59.8 s\n",
      "Wall time: 1min 1s\n"
     ]
    }
   ],
   "source": [
    "%%time\n",
    "model_1_name = 'model_1'\n",
    "# model_1,model_1_best_weights,model_1_history = load_all(model_1_name,arch_name)\n",
    "model_1_best_weights = load_all(model_1_name,arch_name,True)"
   ]
  },
  {
   "cell_type": "markdown",
   "metadata": {},
   "source": [
    "#### Model 1 Evaluation\n",
    "\n",
    "The training of model $1$ was interrupted by a sudden loss of connection with the Jupyter Hub server. Therefore, while we have save the model with the best weights, the history was not saved in order to plot the accuracy and loss vs number of epochs."
   ]
  },
  {
   "cell_type": "code",
   "execution_count": null,
   "metadata": {},
   "outputs": [],
   "source": [
    "# plot_train(model_1_history,'Model 1: Classification of the 5 cleaned classes')"
   ]
  },
  {
   "cell_type": "markdown",
   "metadata": {},
   "source": [
    "We can evaluate the model on the test set."
   ]
  },
  {
   "cell_type": "code",
   "execution_count": 22,
   "metadata": {},
   "outputs": [
    {
     "name": "stdout",
     "output_type": "stream",
     "text": [
      "CPU times: user 36min 49s, sys: 5min 13s, total: 42min 3s\n",
      "Wall time: 21min 33s\n"
     ]
    }
   ],
   "source": [
    "%%time\n",
    "model_1_bw_train_metrics, model_1_bw_test_metrics = evaluate_train_test(model_1_best_weights, \n",
    "                                                                        train_generator_1, \n",
    "                                                                        STEP_SIZE_TRAIN_1, \n",
    "                                                                        test_gens[1])"
   ]
  },
  {
   "cell_type": "code",
   "execution_count": 23,
   "metadata": {},
   "outputs": [
    {
     "data": {
      "text/html": [
       "<div>\n",
       "<style scoped>\n",
       "    .dataframe tbody tr th:only-of-type {\n",
       "        vertical-align: middle;\n",
       "    }\n",
       "\n",
       "    .dataframe tbody tr th {\n",
       "        vertical-align: top;\n",
       "    }\n",
       "\n",
       "    .dataframe thead th {\n",
       "        text-align: right;\n",
       "    }\n",
       "</style>\n",
       "<table border=\"1\" class=\"dataframe\">\n",
       "  <thead>\n",
       "    <tr style=\"text-align: right;\">\n",
       "      <th></th>\n",
       "      <th>Model</th>\n",
       "      <th>training loss</th>\n",
       "      <th>training acc</th>\n",
       "      <th>test loss</th>\n",
       "      <th>test acc</th>\n",
       "    </tr>\n",
       "  </thead>\n",
       "  <tbody>\n",
       "    <tr>\n",
       "      <th>0</th>\n",
       "      <td>Best Weights Model 1</td>\n",
       "      <td>2.22387</td>\n",
       "      <td>0.862027</td>\n",
       "      <td>2.10236</td>\n",
       "      <td>0.869565</td>\n",
       "    </tr>\n",
       "  </tbody>\n",
       "</table>\n",
       "</div>"
      ],
      "text/plain": [
       "                  Model  training loss  training acc  test loss  test acc\n",
       "0  Best Weights Model 1        2.22387      0.862027    2.10236  0.869565"
      ]
     },
     "metadata": {},
     "output_type": "display_data"
    }
   ],
   "source": [
    "model_1_results = pretty_metrics(1, \n",
    "                                 model_1_bw_train_metrics, \n",
    "                                 model_1_bw_test_metrics)\n",
    "display(model_1_results)"
   ]
  },
  {
   "cell_type": "markdown",
   "metadata": {
    "colab_type": "text",
    "id": "daqXWrW0a30a"
   },
   "source": [
    "### Model 2: Classification of Abnormalities (Classes 1 to 4)"
   ]
  },
  {
   "cell_type": "code",
   "execution_count": 30,
   "metadata": {
    "colab": {},
    "colab_type": "code",
    "id": "1Xowi9DJa30n",
    "outputId": "f965ab06-048c-4a21-b022-330cf3f0653b"
   },
   "outputs": [
    {
     "name": "stderr",
     "output_type": "stream",
     "text": [
      "/usr/share/anaconda3/lib/python3.6/site-packages/pandas/core/frame.py:3697: SettingWithCopyWarning: \n",
      "A value is trying to be set on a copy of a slice from a DataFrame\n",
      "\n",
      "See the caveats in the documentation: http://pandas.pydata.org/pandas-docs/stable/indexing.html#indexing-view-versus-copy\n",
      "  errors=errors)\n"
     ]
    },
    {
     "name": "stdout",
     "output_type": "stream",
     "text": [
      "Found 5831 images belonging to 4 classes.\n",
      "Found 1458 images belonging to 4 classes.\n"
     ]
    },
    {
     "name": "stderr",
     "output_type": "stream",
     "text": [
      "/usr/share/anaconda3/lib/python3.6/site-packages/keras_applications/resnet50.py:265: UserWarning: The output shape of `ResNet50(include_top=False)` has been changed since Keras 2.2.0.\n",
      "  warnings.warn('The output shape of `ResNet50(include_top=False)` '\n"
     ]
    }
   ],
   "source": [
    "model_2, train_generator_2, val_generator_2, class_weights_2, STEP_SIZE_TRAIN_2, STEP_SIZE_VAL_2 = \\\n",
    "    build_model(model2_classes,\n",
    "                train_df_model_2,\n",
    "                architecture=0,\n",
    "                x='filename',\n",
    "                y='y', \n",
    "                bs_train = 32, \n",
    "                lr = 0.0001,\n",
    "                H = H,\n",
    "                W = W, \n",
    "                n_channels = 3)"
   ]
  },
  {
   "cell_type": "code",
   "execution_count": 15,
   "metadata": {
    "scrolled": true
   },
   "outputs": [
    {
     "name": "stdout",
     "output_type": "stream",
     "text": [
      "Epoch 1/20\n",
      "182/182 [==============================] - 323s 2s/step - loss: 0.9912 - acc: 0.5726 - val_loss: 1.3421 - val_acc: 0.3028\n",
      "\n",
      "Epoch 00001: val_acc improved from -inf to 0.30278, saving model to models/resnet50_model_2_best_weights.h5\n",
      "Epoch 2/20\n",
      "182/182 [==============================] - 305s 2s/step - loss: 0.6409 - acc: 0.7332 - val_loss: 1.8454 - val_acc: 0.2910\n",
      "\n",
      "Epoch 00002: val_acc did not improve from 0.30278\n",
      "Epoch 3/20\n",
      "182/182 [==============================] - 302s 2s/step - loss: 0.3885 - acc: 0.8469 - val_loss: 3.0226 - val_acc: 0.2356\n",
      "\n",
      "Epoch 00003: val_acc did not improve from 0.30278\n",
      "Epoch 4/20\n",
      "182/182 [==============================] - 302s 2s/step - loss: 0.2016 - acc: 0.9285 - val_loss: 3.7270 - val_acc: 0.3499\n",
      "\n",
      "Epoch 00004: val_acc improved from 0.30278 to 0.34993, saving model to models/resnet50_model_2_best_weights.h5\n",
      "Epoch 5/20\n",
      "182/182 [==============================] - 302s 2s/step - loss: 0.1715 - acc: 0.9389 - val_loss: 3.6852 - val_acc: 0.2812\n",
      "\n",
      "Epoch 00005: val_acc did not improve from 0.34993\n",
      "Epoch 6/20\n",
      "182/182 [==============================] - 302s 2s/step - loss: 0.1343 - acc: 0.9522 - val_loss: 2.0205 - val_acc: 0.3668\n",
      "\n",
      "Epoch 00006: val_acc improved from 0.34993 to 0.36676, saving model to models/resnet50_model_2_best_weights.h5\n",
      "Epoch 7/20\n",
      "182/182 [==============================] - 302s 2s/step - loss: 0.0759 - acc: 0.9746 - val_loss: 2.6354 - val_acc: 0.2903\n",
      "\n",
      "Epoch 00007: val_acc did not improve from 0.36676\n",
      "Epoch 8/20\n",
      "182/182 [==============================] - 302s 2s/step - loss: 0.1192 - acc: 0.9564 - val_loss: 2.4419 - val_acc: 0.2938\n",
      "\n",
      "Epoch 00008: val_acc did not improve from 0.36676\n",
      "Epoch 9/20\n",
      "182/182 [==============================] - 303s 2s/step - loss: 0.1017 - acc: 0.9632 - val_loss: 3.6073 - val_acc: 0.3906\n",
      "\n",
      "Epoch 00009: val_acc improved from 0.36676 to 0.39060, saving model to models/resnet50_model_2_best_weights.h5\n",
      "Epoch 10/20\n",
      "182/182 [==============================] - 303s 2s/step - loss: 0.0769 - acc: 0.9711 - val_loss: 2.5166 - val_acc: 0.2819\n",
      "\n",
      "Epoch 00010: val_acc did not improve from 0.39060\n",
      "Epoch 11/20\n",
      "182/182 [==============================] - 303s 2s/step - loss: 0.0380 - acc: 0.9873 - val_loss: 3.2304 - val_acc: 0.3885\n",
      "\n",
      "Epoch 00011: val_acc did not improve from 0.39060\n",
      "Epoch 12/20\n",
      "182/182 [==============================] - 303s 2s/step - loss: 0.0402 - acc: 0.9851 - val_loss: 4.2793 - val_acc: 0.2412\n",
      "\n",
      "Epoch 00012: val_acc did not improve from 0.39060\n",
      "Epoch 13/20\n",
      "182/182 [==============================] - 302s 2s/step - loss: 0.0672 - acc: 0.9756 - val_loss: 3.6593 - val_acc: 0.3850\n",
      "\n",
      "Epoch 00013: val_acc did not improve from 0.39060\n",
      "Epoch 14/20\n",
      "182/182 [==============================] - 303s 2s/step - loss: 0.0919 - acc: 0.9645 - val_loss: 2.4533 - val_acc: 0.3724\n",
      "\n",
      "Epoch 00014: val_acc did not improve from 0.39060\n",
      "Epoch 15/20\n",
      "182/182 [==============================] - 303s 2s/step - loss: 0.0560 - acc: 0.9804 - val_loss: 3.7602 - val_acc: 0.3541\n",
      "\n",
      "Epoch 00015: val_acc did not improve from 0.39060\n",
      "Epoch 16/20\n",
      "182/182 [==============================] - 303s 2s/step - loss: 0.0400 - acc: 0.9873 - val_loss: 4.2547 - val_acc: 0.3170\n",
      "\n",
      "Epoch 00016: val_acc did not improve from 0.39060\n",
      "Epoch 17/20\n",
      "182/182 [==============================] - 303s 2s/step - loss: 0.0221 - acc: 0.9931 - val_loss: 3.8088 - val_acc: 0.2742\n",
      "\n",
      "Epoch 00017: val_acc did not improve from 0.39060\n",
      "Epoch 18/20\n",
      "182/182 [==============================] - 303s 2s/step - loss: 0.1226 - acc: 0.9609 - val_loss: 2.7436 - val_acc: 0.4067\n",
      "\n",
      "Epoch 00018: val_acc improved from 0.39060 to 0.40673, saving model to models/resnet50_model_2_best_weights.h5\n",
      "Epoch 19/20\n",
      "182/182 [==============================] - 303s 2s/step - loss: 0.0639 - acc: 0.9784 - val_loss: 2.1737 - val_acc: 0.3780\n",
      "\n",
      "Epoch 00019: val_acc did not improve from 0.40673\n",
      "Epoch 20/20\n",
      "182/182 [==============================] - 304s 2s/step - loss: 0.0412 - acc: 0.9868 - val_loss: 4.7604 - val_acc: 0.2658\n",
      "\n",
      "Epoch 00020: val_acc did not improve from 0.40673\n",
      "CPU times: user 59min 13s, sys: 24min 16s, total: 1h 23min 29s\n",
      "Wall time: 1h 41min 35s\n"
     ]
    }
   ],
   "source": [
    "%%time\n",
    "model_2_name = 'model_2'\n",
    "filepath_2=\"models/\"+arch_name+\"_\"+model_2_name+\"_best_weights.h5\"\n",
    "checkpoint_2 = ModelCheckpoint(filepath_2, monitor='val_acc', verbose=1, save_best_only=True, mode='max')\n",
    "callbacks_list_2 = [checkpoint_2]\n",
    "\n",
    "model_2_history = model_2.fit_generator(generator=train_generator_2,\n",
    "                    class_weight = class_weights_2,\n",
    "                    steps_per_epoch=STEP_SIZE_TRAIN_2,\n",
    "                    validation_data = val_generator_2,\n",
    "                    validation_steps = STEP_SIZE_VAL_2,\n",
    "                    epochs=model2_epochs,\n",
    "                    callbacks=callbacks_list_2\n",
    "\n",
    ")"
   ]
  },
  {
   "cell_type": "code",
   "execution_count": 16,
   "metadata": {},
   "outputs": [],
   "source": [
    "save_all(model_2,model_2_history,model_2_name,arch_name)"
   ]
  },
  {
   "cell_type": "code",
   "execution_count": 31,
   "metadata": {},
   "outputs": [
    {
     "name": "stdout",
     "output_type": "stream",
     "text": [
      "CPU times: user 2min 10s, sys: 96 ms, total: 2min 10s\n",
      "Wall time: 2min 10s\n"
     ]
    }
   ],
   "source": [
    "%%time\n",
    "model_2_name = 'model_2'\n",
    "# model_2,model_2_best_weights,model_2_history = load_all(model_2_name,arch_name)\n",
    "model_2_best_weights = load_all(model_2_name,arch_name,True)"
   ]
  },
  {
   "cell_type": "markdown",
   "metadata": {},
   "source": [
    "#### Model 2 Evaluation"
   ]
  },
  {
   "cell_type": "code",
   "execution_count": 18,
   "metadata": {},
   "outputs": [
    {
     "data": {
      "image/png": "[encoded data removed]",
      "text/plain": [
       "<Figure size 1440x360 with 2 Axes>"
      ]
     },
     "metadata": {
      "needs_background": "light"
     },
     "output_type": "display_data"
    }
   ],
   "source": [
    "plot_train(model_2_history,'Model 2: Classification of the 4 abnormal classes')"
   ]
  },
  {
   "cell_type": "code",
   "execution_count": 32,
   "metadata": {},
   "outputs": [
    {
     "name": "stdout",
     "output_type": "stream",
     "text": [
      "CPU times: user 5min 44s, sys: 41.7 s, total: 6min 25s\n",
      "Wall time: 3min 26s\n"
     ]
    }
   ],
   "source": [
    "%%time\n",
    "model_2_bw_train_metrics, model_2_bw_test_metrics = evaluate_train_test(model_2_best_weights, \n",
    "                                                                        train_generator_2, \n",
    "                                                                        STEP_SIZE_TRAIN_2, \n",
    "                                                                        test_gens[2])"
   ]
  },
  {
   "cell_type": "code",
   "execution_count": 34,
   "metadata": {},
   "outputs": [
    {
     "data": {
      "text/html": [
       "<div>\n",
       "<style scoped>\n",
       "    .dataframe tbody tr th:only-of-type {\n",
       "        vertical-align: middle;\n",
       "    }\n",
       "\n",
       "    .dataframe tbody tr th {\n",
       "        vertical-align: top;\n",
       "    }\n",
       "\n",
       "    .dataframe thead th {\n",
       "        text-align: right;\n",
       "    }\n",
       "</style>\n",
       "<table border=\"1\" class=\"dataframe\">\n",
       "  <thead>\n",
       "    <tr style=\"text-align: right;\">\n",
       "      <th></th>\n",
       "      <th>Model</th>\n",
       "      <th>training loss</th>\n",
       "      <th>training acc</th>\n",
       "      <th>test loss</th>\n",
       "      <th>test acc</th>\n",
       "    </tr>\n",
       "  </thead>\n",
       "  <tbody>\n",
       "    <tr>\n",
       "      <th>0</th>\n",
       "      <td>Best Weights Model 2</td>\n",
       "      <td>1.110618</td>\n",
       "      <td>0.658482</td>\n",
       "      <td>3.022887</td>\n",
       "      <td>0.251996</td>\n",
       "    </tr>\n",
       "  </tbody>\n",
       "</table>\n",
       "</div>"
      ],
      "text/plain": [
       "                  Model  training loss  training acc  test loss  test acc\n",
       "0  Best Weights Model 2       1.110618      0.658482   3.022887  0.251996"
      ]
     },
     "metadata": {},
     "output_type": "display_data"
    }
   ],
   "source": [
    "model_2_results = pretty_metrics(2,\n",
    "                                 model_2_bw_train_metrics, \n",
    "                                 model_2_bw_test_metrics)\n",
    "display(model_2_results)"
   ]
  },
  {
   "cell_type": "markdown",
   "metadata": {
    "colab_type": "text",
    "id": "i1mAhPB8a31E"
   },
   "source": [
    "### Model 3: Normal vs Abnormal (Class 0 vs 1-4)"
   ]
  },
  {
   "cell_type": "code",
   "execution_count": 26,
   "metadata": {
    "colab": {},
    "colab_type": "code",
    "id": "1Xowi9DJa30n",
    "outputId": "f965ab06-048c-4a21-b022-330cf3f0653b"
   },
   "outputs": [
    {
     "name": "stderr",
     "output_type": "stream",
     "text": [
      "/usr/share/anaconda3/lib/python3.6/site-packages/pandas/core/frame.py:3697: SettingWithCopyWarning: \n",
      "A value is trying to be set on a copy of a slice from a DataFrame\n",
      "\n",
      "See the caveats in the documentation: http://pandas.pydata.org/pandas-docs/stable/indexing.html#indexing-view-versus-copy\n",
      "  errors=errors)\n"
     ]
    },
    {
     "name": "stdout",
     "output_type": "stream",
     "text": [
      "Found 42261 images belonging to 2 classes.\n",
      "Found 10566 images belonging to 2 classes.\n"
     ]
    },
    {
     "name": "stderr",
     "output_type": "stream",
     "text": [
      "/usr/share/anaconda3/lib/python3.6/site-packages/keras_applications/resnet50.py:265: UserWarning: The output shape of `ResNet50(include_top=False)` has been changed since Keras 2.2.0.\n",
      "  warnings.warn('The output shape of `ResNet50(include_top=False)` '\n"
     ]
    }
   ],
   "source": [
    "model_3, train_generator_3, val_generator_3, class_weights_3, STEP_SIZE_TRAIN_3, STEP_SIZE_VAL_3 = \\\n",
    "    build_model(model3_classes,\n",
    "                train_df_model_3,\n",
    "                architecture=0,\n",
    "                x='filename',\n",
    "                y='y', \n",
    "                bs_train = 32, \n",
    "                lr = 0.0001,\n",
    "                H = H,\n",
    "                W = W, \n",
    "                n_channels = 3)"
   ]
  },
  {
   "cell_type": "code",
   "execution_count": 20,
   "metadata": {},
   "outputs": [
    {
     "name": "stdout",
     "output_type": "stream",
     "text": [
      "Epoch 1/5\n",
      "1320/1320 [==============================] - 2232s 2s/step - loss: 0.1032 - acc: 0.9588 - val_loss: 0.5071 - val_acc: 0.7451\n",
      "\n",
      "Epoch 00001: val_acc improved from -inf to 0.74508, saving model to models/resnet50_model_3_best_weights.h5\n",
      "Epoch 2/5\n",
      "  49/1320 [>.............................] - ETA: 33:42 - loss: 0.0444 - acc: 0.9815"
     ]
    },
    {
     "ename": "KeyboardInterrupt",
     "evalue": "",
     "output_type": "error",
     "traceback": [
      "\u001b[0;31m---------------------------------------------------------------------------\u001b[0m",
      "\u001b[0;31mKeyboardInterrupt\u001b[0m                         Traceback (most recent call last)",
      "\u001b[0;32m<timed exec>\u001b[0m in \u001b[0;36m<module>\u001b[0;34m\u001b[0m\n",
      "\u001b[0;32m/usr/share/anaconda3/lib/python3.6/site-packages/keras/legacy/interfaces.py\u001b[0m in \u001b[0;36mwrapper\u001b[0;34m(*args, **kwargs)\u001b[0m\n\u001b[1;32m     89\u001b[0m                 warnings.warn('Update your `' + object_name + '` call to the ' +\n\u001b[1;32m     90\u001b[0m                               'Keras 2 API: ' + signature, stacklevel=2)\n\u001b[0;32m---> 91\u001b[0;31m             \u001b[0;32mreturn\u001b[0m \u001b[0mfunc\u001b[0m\u001b[0;34m(\u001b[0m\u001b[0;34m*\u001b[0m\u001b[0margs\u001b[0m\u001b[0;34m,\u001b[0m \u001b[0;34m**\u001b[0m\u001b[0mkwargs\u001b[0m\u001b[0;34m)\u001b[0m\u001b[0;34m\u001b[0m\u001b[0;34m\u001b[0m\u001b[0m\n\u001b[0m\u001b[1;32m     92\u001b[0m         \u001b[0mwrapper\u001b[0m\u001b[0;34m.\u001b[0m\u001b[0m_original_function\u001b[0m \u001b[0;34m=\u001b[0m \u001b[0mfunc\u001b[0m\u001b[0;34m\u001b[0m\u001b[0;34m\u001b[0m\u001b[0m\n\u001b[1;32m     93\u001b[0m         \u001b[0;32mreturn\u001b[0m \u001b[0mwrapper\u001b[0m\u001b[0;34m\u001b[0m\u001b[0;34m\u001b[0m\u001b[0m\n",
      "\u001b[0;32m/usr/share/anaconda3/lib/python3.6/site-packages/keras/engine/training.py\u001b[0m in \u001b[0;36mfit_generator\u001b[0;34m(self, generator, steps_per_epoch, epochs, verbose, callbacks, validation_data, validation_steps, class_weight, max_queue_size, workers, use_multiprocessing, shuffle, initial_epoch)\u001b[0m\n\u001b[1;32m   1416\u001b[0m             \u001b[0muse_multiprocessing\u001b[0m\u001b[0;34m=\u001b[0m\u001b[0muse_multiprocessing\u001b[0m\u001b[0;34m,\u001b[0m\u001b[0;34m\u001b[0m\u001b[0;34m\u001b[0m\u001b[0m\n\u001b[1;32m   1417\u001b[0m             \u001b[0mshuffle\u001b[0m\u001b[0;34m=\u001b[0m\u001b[0mshuffle\u001b[0m\u001b[0;34m,\u001b[0m\u001b[0;34m\u001b[0m\u001b[0;34m\u001b[0m\u001b[0m\n\u001b[0;32m-> 1418\u001b[0;31m             initial_epoch=initial_epoch)\n\u001b[0m\u001b[1;32m   1419\u001b[0m \u001b[0;34m\u001b[0m\u001b[0m\n\u001b[1;32m   1420\u001b[0m     \u001b[0;34m@\u001b[0m\u001b[0minterfaces\u001b[0m\u001b[0;34m.\u001b[0m\u001b[0mlegacy_generator_methods_support\u001b[0m\u001b[0;34m\u001b[0m\u001b[0;34m\u001b[0m\u001b[0m\n",
      "\u001b[0;32m/usr/share/anaconda3/lib/python3.6/site-packages/keras/engine/training_generator.py\u001b[0m in \u001b[0;36mfit_generator\u001b[0;34m(model, generator, steps_per_epoch, epochs, verbose, callbacks, validation_data, validation_steps, class_weight, max_queue_size, workers, use_multiprocessing, shuffle, initial_epoch)\u001b[0m\n\u001b[1;32m    215\u001b[0m                 outs = model.train_on_batch(x, y,\n\u001b[1;32m    216\u001b[0m                                             \u001b[0msample_weight\u001b[0m\u001b[0;34m=\u001b[0m\u001b[0msample_weight\u001b[0m\u001b[0;34m,\u001b[0m\u001b[0;34m\u001b[0m\u001b[0;34m\u001b[0m\u001b[0m\n\u001b[0;32m--> 217\u001b[0;31m                                             class_weight=class_weight)\n\u001b[0m\u001b[1;32m    218\u001b[0m \u001b[0;34m\u001b[0m\u001b[0m\n\u001b[1;32m    219\u001b[0m                 \u001b[0mouts\u001b[0m \u001b[0;34m=\u001b[0m \u001b[0mto_list\u001b[0m\u001b[0;34m(\u001b[0m\u001b[0mouts\u001b[0m\u001b[0;34m)\u001b[0m\u001b[0;34m\u001b[0m\u001b[0;34m\u001b[0m\u001b[0m\n",
      "\u001b[0;32m/usr/share/anaconda3/lib/python3.6/site-packages/keras/engine/training.py\u001b[0m in \u001b[0;36mtrain_on_batch\u001b[0;34m(self, x, y, sample_weight, class_weight)\u001b[0m\n\u001b[1;32m   1215\u001b[0m             \u001b[0mins\u001b[0m \u001b[0;34m=\u001b[0m \u001b[0mx\u001b[0m \u001b[0;34m+\u001b[0m \u001b[0my\u001b[0m \u001b[0;34m+\u001b[0m \u001b[0msample_weights\u001b[0m\u001b[0;34m\u001b[0m\u001b[0;34m\u001b[0m\u001b[0m\n\u001b[1;32m   1216\u001b[0m         \u001b[0mself\u001b[0m\u001b[0;34m.\u001b[0m\u001b[0m_make_train_function\u001b[0m\u001b[0;34m(\u001b[0m\u001b[0;34m)\u001b[0m\u001b[0;34m\u001b[0m\u001b[0;34m\u001b[0m\u001b[0m\n\u001b[0;32m-> 1217\u001b[0;31m         \u001b[0moutputs\u001b[0m \u001b[0;34m=\u001b[0m \u001b[0mself\u001b[0m\u001b[0;34m.\u001b[0m\u001b[0mtrain_function\u001b[0m\u001b[0;34m(\u001b[0m\u001b[0mins\u001b[0m\u001b[0;34m)\u001b[0m\u001b[0;34m\u001b[0m\u001b[0;34m\u001b[0m\u001b[0m\n\u001b[0m\u001b[1;32m   1218\u001b[0m         \u001b[0;32mreturn\u001b[0m \u001b[0munpack_singleton\u001b[0m\u001b[0;34m(\u001b[0m\u001b[0moutputs\u001b[0m\u001b[0;34m)\u001b[0m\u001b[0;34m\u001b[0m\u001b[0;34m\u001b[0m\u001b[0m\n\u001b[1;32m   1219\u001b[0m \u001b[0;34m\u001b[0m\u001b[0m\n",
      "\u001b[0;32m/usr/share/anaconda3/lib/python3.6/site-packages/keras/backend/tensorflow_backend.py\u001b[0m in \u001b[0;36m__call__\u001b[0;34m(self, inputs)\u001b[0m\n\u001b[1;32m   2713\u001b[0m                 \u001b[0;32mreturn\u001b[0m \u001b[0mself\u001b[0m\u001b[0;34m.\u001b[0m\u001b[0m_legacy_call\u001b[0m\u001b[0;34m(\u001b[0m\u001b[0minputs\u001b[0m\u001b[0;34m)\u001b[0m\u001b[0;34m\u001b[0m\u001b[0;34m\u001b[0m\u001b[0m\n\u001b[1;32m   2714\u001b[0m \u001b[0;34m\u001b[0m\u001b[0m\n\u001b[0;32m-> 2715\u001b[0;31m             \u001b[0;32mreturn\u001b[0m \u001b[0mself\u001b[0m\u001b[0;34m.\u001b[0m\u001b[0m_call\u001b[0m\u001b[0;34m(\u001b[0m\u001b[0minputs\u001b[0m\u001b[0;34m)\u001b[0m\u001b[0;34m\u001b[0m\u001b[0;34m\u001b[0m\u001b[0m\n\u001b[0m\u001b[1;32m   2716\u001b[0m         \u001b[0;32melse\u001b[0m\u001b[0;34m:\u001b[0m\u001b[0;34m\u001b[0m\u001b[0;34m\u001b[0m\u001b[0m\n\u001b[1;32m   2717\u001b[0m             \u001b[0;32mif\u001b[0m \u001b[0mpy_any\u001b[0m\u001b[0;34m(\u001b[0m\u001b[0mis_tensor\u001b[0m\u001b[0;34m(\u001b[0m\u001b[0mx\u001b[0m\u001b[0;34m)\u001b[0m \u001b[0;32mfor\u001b[0m \u001b[0mx\u001b[0m \u001b[0;32min\u001b[0m \u001b[0minputs\u001b[0m\u001b[0;34m)\u001b[0m\u001b[0;34m:\u001b[0m\u001b[0;34m\u001b[0m\u001b[0;34m\u001b[0m\u001b[0m\n",
      "\u001b[0;32m/usr/share/anaconda3/lib/python3.6/site-packages/keras/backend/tensorflow_backend.py\u001b[0m in \u001b[0;36m_call\u001b[0;34m(self, inputs)\u001b[0m\n\u001b[1;32m   2673\u001b[0m             \u001b[0mfetched\u001b[0m \u001b[0;34m=\u001b[0m \u001b[0mself\u001b[0m\u001b[0;34m.\u001b[0m\u001b[0m_callable_fn\u001b[0m\u001b[0;34m(\u001b[0m\u001b[0;34m*\u001b[0m\u001b[0marray_vals\u001b[0m\u001b[0;34m,\u001b[0m \u001b[0mrun_metadata\u001b[0m\u001b[0;34m=\u001b[0m\u001b[0mself\u001b[0m\u001b[0;34m.\u001b[0m\u001b[0mrun_metadata\u001b[0m\u001b[0;34m)\u001b[0m\u001b[0;34m\u001b[0m\u001b[0;34m\u001b[0m\u001b[0m\n\u001b[1;32m   2674\u001b[0m         \u001b[0;32melse\u001b[0m\u001b[0;34m:\u001b[0m\u001b[0;34m\u001b[0m\u001b[0;34m\u001b[0m\u001b[0m\n\u001b[0;32m-> 2675\u001b[0;31m             \u001b[0mfetched\u001b[0m \u001b[0;34m=\u001b[0m \u001b[0mself\u001b[0m\u001b[0;34m.\u001b[0m\u001b[0m_callable_fn\u001b[0m\u001b[0;34m(\u001b[0m\u001b[0;34m*\u001b[0m\u001b[0marray_vals\u001b[0m\u001b[0;34m)\u001b[0m\u001b[0;34m\u001b[0m\u001b[0;34m\u001b[0m\u001b[0m\n\u001b[0m\u001b[1;32m   2676\u001b[0m         \u001b[0;32mreturn\u001b[0m \u001b[0mfetched\u001b[0m\u001b[0;34m[\u001b[0m\u001b[0;34m:\u001b[0m\u001b[0mlen\u001b[0m\u001b[0;34m(\u001b[0m\u001b[0mself\u001b[0m\u001b[0;34m.\u001b[0m\u001b[0moutputs\u001b[0m\u001b[0;34m)\u001b[0m\u001b[0;34m]\u001b[0m\u001b[0;34m\u001b[0m\u001b[0;34m\u001b[0m\u001b[0m\n\u001b[1;32m   2677\u001b[0m \u001b[0;34m\u001b[0m\u001b[0m\n",
      "\u001b[0;32m/usr/share/anaconda3/lib/python3.6/site-packages/tensorflow/python/client/session.py\u001b[0m in \u001b[0;36m__call__\u001b[0;34m(self, *args, **kwargs)\u001b[0m\n\u001b[1;32m   1437\u001b[0m           ret = tf_session.TF_SessionRunCallable(\n\u001b[1;32m   1438\u001b[0m               \u001b[0mself\u001b[0m\u001b[0;34m.\u001b[0m\u001b[0m_session\u001b[0m\u001b[0;34m.\u001b[0m\u001b[0m_session\u001b[0m\u001b[0;34m,\u001b[0m \u001b[0mself\u001b[0m\u001b[0;34m.\u001b[0m\u001b[0m_handle\u001b[0m\u001b[0;34m,\u001b[0m \u001b[0margs\u001b[0m\u001b[0;34m,\u001b[0m \u001b[0mstatus\u001b[0m\u001b[0;34m,\u001b[0m\u001b[0;34m\u001b[0m\u001b[0;34m\u001b[0m\u001b[0m\n\u001b[0;32m-> 1439\u001b[0;31m               run_metadata_ptr)\n\u001b[0m\u001b[1;32m   1440\u001b[0m         \u001b[0;32mif\u001b[0m \u001b[0mrun_metadata\u001b[0m\u001b[0;34m:\u001b[0m\u001b[0;34m\u001b[0m\u001b[0;34m\u001b[0m\u001b[0m\n\u001b[1;32m   1441\u001b[0m           \u001b[0mproto_data\u001b[0m \u001b[0;34m=\u001b[0m \u001b[0mtf_session\u001b[0m\u001b[0;34m.\u001b[0m\u001b[0mTF_GetBuffer\u001b[0m\u001b[0;34m(\u001b[0m\u001b[0mrun_metadata_ptr\u001b[0m\u001b[0;34m)\u001b[0m\u001b[0;34m\u001b[0m\u001b[0;34m\u001b[0m\u001b[0m\n",
      "\u001b[0;31mKeyboardInterrupt\u001b[0m: "
     ]
    }
   ],
   "source": [
    "%%time\n",
    "model_3_name = 'model_3'\n",
    "filepath_3=\"models/\"+arch_name+\"_\"+model_3_name+\"_best_weights.h5\"\n",
    "checkpoint_3 = ModelCheckpoint(filepath_3, monitor='val_acc', verbose=1, save_best_only=True, mode='max')\n",
    "callbacks_list_3 = [checkpoint_3]\n",
    "\n",
    "model_3_history = model_3.fit_generator(generator=train_generator_3,\n",
    "                    class_weight = class_weights_3,\n",
    "                    steps_per_epoch=STEP_SIZE_TRAIN_3,\n",
    "                    validation_data = val_generator_3,\n",
    "                    validation_steps = STEP_SIZE_VAL_3,\n",
    "                    epochs=model3_epochs,\n",
    "                    callbacks=callbacks_list_3\n",
    ")"
   ]
  },
  {
   "cell_type": "code",
   "execution_count": null,
   "metadata": {},
   "outputs": [],
   "source": [
    "save_all(model_3,model_3_history,model_3_name,arch_name)"
   ]
  },
  {
   "cell_type": "code",
   "execution_count": 27,
   "metadata": {},
   "outputs": [
    {
     "name": "stdout",
     "output_type": "stream",
     "text": [
      "CPU times: user 1min 36s, sys: 260 ms, total: 1min 36s\n",
      "Wall time: 1min 38s\n"
     ]
    }
   ],
   "source": [
    "%%time\n",
    "model_3_name = 'model_3'\n",
    "# model_3,model_3_best_weights,model_3_history = load_all(model_3_name,arch_name)\n",
    "model_3_best_weights = load_all(model_3_name,arch_name,True)"
   ]
  },
  {
   "cell_type": "markdown",
   "metadata": {},
   "source": [
    "#### Model 3 Evaluation\n",
    "The training of model $3$ was interrupted by a sudden loss of connection with the Jupyter Hub server. Therefore, while we have save the model with the best weights, the history was not saved in order to plot the accuracy and loss vs number of epochs."
   ]
  },
  {
   "cell_type": "code",
   "execution_count": null,
   "metadata": {},
   "outputs": [],
   "source": [
    "# plot_train(model_3_history,'Model 3: Classification of the abnormal vs normal images')"
   ]
  },
  {
   "cell_type": "code",
   "execution_count": 28,
   "metadata": {
    "scrolled": true
   },
   "outputs": [
    {
     "name": "stdout",
     "output_type": "stream",
     "text": [
      "CPU times: user 39min 12s, sys: 5min 15s, total: 44min 28s\n",
      "Wall time: 22min 57s\n"
     ]
    }
   ],
   "source": [
    "%%time\n",
    "model_3_bw_train_metrics, model_3_bw_test_metrics = evaluate_train_test(model_3_best_weights, \n",
    "                                                                        train_generator_3, \n",
    "                                                                        STEP_SIZE_TRAIN_3, \n",
    "                                                                        test_gens[3])"
   ]
  },
  {
   "cell_type": "code",
   "execution_count": 29,
   "metadata": {},
   "outputs": [
    {
     "data": {
      "text/html": [
       "<div>\n",
       "<style scoped>\n",
       "    .dataframe tbody tr th:only-of-type {\n",
       "        vertical-align: middle;\n",
       "    }\n",
       "\n",
       "    .dataframe tbody tr th {\n",
       "        vertical-align: top;\n",
       "    }\n",
       "\n",
       "    .dataframe thead th {\n",
       "        text-align: right;\n",
       "    }\n",
       "</style>\n",
       "<table border=\"1\" class=\"dataframe\">\n",
       "  <thead>\n",
       "    <tr style=\"text-align: right;\">\n",
       "      <th></th>\n",
       "      <th>Model</th>\n",
       "      <th>training loss</th>\n",
       "      <th>training acc</th>\n",
       "      <th>test loss</th>\n",
       "      <th>test acc</th>\n",
       "    </tr>\n",
       "  </thead>\n",
       "  <tbody>\n",
       "    <tr>\n",
       "      <th>0</th>\n",
       "      <td>Best Weights Model 3</td>\n",
       "      <td>0.499556</td>\n",
       "      <td>0.750047</td>\n",
       "      <td>1.309038</td>\n",
       "      <td>0.59685</td>\n",
       "    </tr>\n",
       "  </tbody>\n",
       "</table>\n",
       "</div>"
      ],
      "text/plain": [
       "                  Model  training loss  training acc  test loss  test acc\n",
       "0  Best Weights Model 3       0.499556      0.750047   1.309038   0.59685"
      ]
     },
     "metadata": {},
     "output_type": "display_data"
    }
   ],
   "source": [
    "model_3_results = pretty_metrics(3, \n",
    "                                 model_3_bw_train_metrics, \n",
    "                                 model_3_bw_test_metrics)\n",
    "display(model_3_results)"
   ]
  },
  {
   "cell_type": "markdown",
   "metadata": {},
   "source": [
    "Now we evaluate the model only on the grayscale test data. Again, the results are identical to the RGB image results."
   ]
  },
  {
   "cell_type": "markdown",
   "metadata": {
    "colab_type": "text",
    "id": "Z8kiVZUua31G"
   },
   "source": [
    "### Model 4: Benign vs Malignant Calcification"
   ]
  },
  {
   "cell_type": "code",
   "execution_count": 35,
   "metadata": {
    "colab": {},
    "colab_type": "code",
    "id": "ZexO8-9Ca31R",
    "outputId": "9a0ac7c0-6fd2-41b7-f5b4-8bf0ba7fff4e"
   },
   "outputs": [
    {
     "name": "stderr",
     "output_type": "stream",
     "text": [
      "/usr/share/anaconda3/lib/python3.6/site-packages/pandas/core/frame.py:3697: SettingWithCopyWarning: \n",
      "A value is trying to be set on a copy of a slice from a DataFrame\n",
      "\n",
      "See the caveats in the documentation: http://pandas.pydata.org/pandas-docs/stable/indexing.html#indexing-view-versus-copy\n",
      "  errors=errors)\n"
     ]
    },
    {
     "name": "stdout",
     "output_type": "stream",
     "text": [
      "Found 2852 images belonging to 2 classes.\n",
      "Found 714 images belonging to 2 classes.\n"
     ]
    },
    {
     "name": "stderr",
     "output_type": "stream",
     "text": [
      "/usr/share/anaconda3/lib/python3.6/site-packages/keras_applications/resnet50.py:265: UserWarning: The output shape of `ResNet50(include_top=False)` has been changed since Keras 2.2.0.\n",
      "  warnings.warn('The output shape of `ResNet50(include_top=False)` '\n"
     ]
    }
   ],
   "source": [
    "model_4, train_generator_4, val_generator_4, class_weights_4, STEP_SIZE_TRAIN_4, STEP_SIZE_VAL_4 = \\\n",
    "    build_model(model4_classes,\n",
    "                train_df_model_4,\n",
    "                architecture=0,\n",
    "                x='filename',\n",
    "                y='y', \n",
    "                bs_train = 32, \n",
    "                lr = 0.0001,\n",
    "                H = H,\n",
    "                W = W, \n",
    "                n_channels = 3)"
   ]
  },
  {
   "cell_type": "code",
   "execution_count": null,
   "metadata": {
    "scrolled": true
   },
   "outputs": [],
   "source": [
    "%%time\n",
    "model_4_name = 'model_4'\n",
    "filepath_4=\"models/\"+arch_name+\"_\"+model_4_name+\"_best_weights.h5\"\n",
    "checkpoint_4 = ModelCheckpoint(filepath_4, monitor='val_acc', verbose=1, save_best_only=True, mode='max')\n",
    "callbacks_list_4 = [checkpoint_4]\n",
    "\n",
    "model_4_history = model_4.fit_generator(generator=train_generator_4,\n",
    "                    class_weight = class_weights_4,\n",
    "                    steps_per_epoch=STEP_SIZE_TRAIN_4,\n",
    "                    validation_data = val_generator_4,\n",
    "                    validation_steps = STEP_SIZE_VAL_4,\n",
    "                    epochs=model4_epochs,\n",
    "                    callbacks=callbacks_list_4\n",
    ")"
   ]
  },
  {
   "cell_type": "code",
   "execution_count": 26,
   "metadata": {},
   "outputs": [],
   "source": [
    "save_all(model_4,model_4_history,model_4_name,arch_name)"
   ]
  },
  {
   "cell_type": "code",
   "execution_count": 36,
   "metadata": {},
   "outputs": [
    {
     "name": "stdout",
     "output_type": "stream",
     "text": [
      "CPU times: user 2min 50s, sys: 0 ns, total: 2min 50s\n",
      "Wall time: 2min 51s\n"
     ]
    }
   ],
   "source": [
    "%%time\n",
    "model_4_name = 'model_4'\n",
    "# model_4,model_4_best_weights,model_4_history = load_all(model_4_name,arch_name)\n",
    "model_4_best_weights = load_all(model_4_name,arch_name,True)"
   ]
  },
  {
   "cell_type": "markdown",
   "metadata": {
    "colab": {},
    "colab_type": "code",
    "id": "jJnbbCdha31c"
   },
   "source": [
    "#### Model 4 Evaluation"
   ]
  },
  {
   "cell_type": "code",
   "execution_count": 39,
   "metadata": {},
   "outputs": [
    {
     "data": {
      "image/png": "[encoded data removed]",
      "text/plain": [
       "<Figure size 1440x360 with 2 Axes>"
      ]
     },
     "metadata": {
      "needs_background": "light"
     },
     "output_type": "display_data"
    }
   ],
   "source": [
    "plot_train(model_4_history,'Model 4: Classification of the benign vs malignant calcifications')"
   ]
  },
  {
   "cell_type": "code",
   "execution_count": 37,
   "metadata": {},
   "outputs": [
    {
     "name": "stdout",
     "output_type": "stream",
     "text": [
      "CPU times: user 3min 5s, sys: 19.9 s, total: 3min 25s\n",
      "Wall time: 1min 57s\n"
     ]
    }
   ],
   "source": [
    "%%time\n",
    "model_4_bw_train_metrics, model_4_bw_test_metrics = evaluate_train_test(model_4_best_weights, \n",
    "                                                                        train_generator_4, \n",
    "                                                                        STEP_SIZE_TRAIN_4, \n",
    "                                                                        test_gens[4])"
   ]
  },
  {
   "cell_type": "code",
   "execution_count": 38,
   "metadata": {},
   "outputs": [
    {
     "data": {
      "text/html": [
       "<div>\n",
       "<style scoped>\n",
       "    .dataframe tbody tr th:only-of-type {\n",
       "        vertical-align: middle;\n",
       "    }\n",
       "\n",
       "    .dataframe tbody tr th {\n",
       "        vertical-align: top;\n",
       "    }\n",
       "\n",
       "    .dataframe thead th {\n",
       "        text-align: right;\n",
       "    }\n",
       "</style>\n",
       "<table border=\"1\" class=\"dataframe\">\n",
       "  <thead>\n",
       "    <tr style=\"text-align: right;\">\n",
       "      <th></th>\n",
       "      <th>Model</th>\n",
       "      <th>training loss</th>\n",
       "      <th>training acc</th>\n",
       "      <th>test loss</th>\n",
       "      <th>test acc</th>\n",
       "    </tr>\n",
       "  </thead>\n",
       "  <tbody>\n",
       "    <tr>\n",
       "      <th>0</th>\n",
       "      <td>Best Weights Model 4</td>\n",
       "      <td>0.00322</td>\n",
       "      <td>0.999298</td>\n",
       "      <td>1.889246</td>\n",
       "      <td>0.523193</td>\n",
       "    </tr>\n",
       "  </tbody>\n",
       "</table>\n",
       "</div>"
      ],
      "text/plain": [
       "                  Model  training loss  training acc  test loss  test acc\n",
       "0  Best Weights Model 4        0.00322      0.999298   1.889246  0.523193"
      ]
     },
     "metadata": {},
     "output_type": "display_data"
    }
   ],
   "source": [
    "model_4_results = pretty_metrics(4,\n",
    "                                 model_4_bw_train_metrics, \n",
    "                                 model_4_bw_test_metrics)\n",
    "display(model_4_results)"
   ]
  },
  {
   "cell_type": "markdown",
   "metadata": {
    "colab_type": "text",
    "id": "larkQ2B4a31n"
   },
   "source": [
    "### Model 5: Benign vs Malignant Mass"
   ]
  },
  {
   "cell_type": "code",
   "execution_count": 39,
   "metadata": {
    "colab": {
     "base_uri": "https://localhost:8080/",
     "height": 405
    },
    "colab_type": "code",
    "id": "8H1svvjea316",
    "outputId": "85e236e4-c031-4aaa-e03e-4dcbfc1e97ea"
   },
   "outputs": [
    {
     "name": "stderr",
     "output_type": "stream",
     "text": [
      "/usr/share/anaconda3/lib/python3.6/site-packages/pandas/core/frame.py:3697: SettingWithCopyWarning: \n",
      "A value is trying to be set on a copy of a slice from a DataFrame\n",
      "\n",
      "See the caveats in the documentation: http://pandas.pydata.org/pandas-docs/stable/indexing.html#indexing-view-versus-copy\n",
      "  errors=errors)\n"
     ]
    },
    {
     "name": "stdout",
     "output_type": "stream",
     "text": [
      "Found 2978 images belonging to 2 classes.\n",
      "Found 745 images belonging to 2 classes.\n"
     ]
    },
    {
     "name": "stderr",
     "output_type": "stream",
     "text": [
      "/usr/share/anaconda3/lib/python3.6/site-packages/keras_applications/resnet50.py:265: UserWarning: The output shape of `ResNet50(include_top=False)` has been changed since Keras 2.2.0.\n",
      "  warnings.warn('The output shape of `ResNet50(include_top=False)` '\n"
     ]
    }
   ],
   "source": [
    "model_5, train_generator_5, val_generator_5, class_weights_5, STEP_SIZE_TRAIN_5, STEP_SIZE_VAL_5 = \\\n",
    "    build_model(model5_classes,\n",
    "                train_df_model_5,\n",
    "                architecture=0,\n",
    "                x='filename',\n",
    "                y='y', \n",
    "                bs_train = 32, \n",
    "                lr = 0.0001,\n",
    "                H = H,\n",
    "                W = W, \n",
    "                n_channels = 3)"
   ]
  },
  {
   "cell_type": "code",
   "execution_count": 49,
   "metadata": {
    "scrolled": true
   },
   "outputs": [
    {
     "name": "stdout",
     "output_type": "stream",
     "text": [
      "Epoch 1/20\n",
      "93/93 [==============================] - 197s 2s/step - loss: 0.6166 - acc: 0.6744 - val_loss: 0.6310 - val_acc: 0.6658\n",
      "\n",
      "Epoch 00001: val_acc improved from -inf to 0.66576, saving model to models/resnet50_model_5_best_weights.h5\n",
      "Epoch 2/20\n",
      "93/93 [==============================] - 156s 2s/step - loss: 0.4446 - acc: 0.7947 - val_loss: 1.0721 - val_acc: 0.5245\n",
      "\n",
      "Epoch 00002: val_acc did not improve from 0.66576\n",
      "Epoch 3/20\n",
      "93/93 [==============================] - 154s 2s/step - loss: 0.2239 - acc: 0.9069 - val_loss: 0.6140 - val_acc: 0.6844\n",
      "\n",
      "Epoch 00003: val_acc improved from 0.66576 to 0.68443, saving model to models/resnet50_model_5_best_weights.h5\n",
      "Epoch 4/20\n",
      "93/93 [==============================] - 154s 2s/step - loss: 0.1579 - acc: 0.9399 - val_loss: 0.7869 - val_acc: 0.6410\n",
      "\n",
      "Epoch 00004: val_acc did not improve from 0.68443\n",
      "Epoch 5/20\n",
      "93/93 [==============================] - 154s 2s/step - loss: 0.0813 - acc: 0.9684 - val_loss: 0.6650 - val_acc: 0.7223\n",
      "\n",
      "Epoch 00005: val_acc improved from 0.68443 to 0.72230, saving model to models/resnet50_model_5_best_weights.h5\n",
      "Epoch 6/20\n",
      "93/93 [==============================] - 154s 2s/step - loss: 0.0980 - acc: 0.9681 - val_loss: 0.7855 - val_acc: 0.6508\n",
      "\n",
      "Epoch 00006: val_acc did not improve from 0.72230\n",
      "Epoch 7/20\n",
      "93/93 [==============================] - 155s 2s/step - loss: 0.0719 - acc: 0.9768 - val_loss: 0.9263 - val_acc: 0.6830\n",
      "\n",
      "Epoch 00007: val_acc did not improve from 0.72230\n",
      "Epoch 8/20\n",
      "93/93 [==============================] - 155s 2s/step - loss: 0.1046 - acc: 0.9591 - val_loss: 0.7889 - val_acc: 0.7111\n",
      "\n",
      "Epoch 00008: val_acc did not improve from 0.72230\n",
      "Epoch 9/20\n",
      "93/93 [==============================] - 154s 2s/step - loss: 0.0669 - acc: 0.9798 - val_loss: 1.7616 - val_acc: 0.5414\n",
      "\n",
      "Epoch 00009: val_acc did not improve from 0.72230\n",
      "Epoch 10/20\n",
      "93/93 [==============================] - 155s 2s/step - loss: 0.0429 - acc: 0.9889 - val_loss: 0.9603 - val_acc: 0.7686\n",
      "\n",
      "Epoch 00010: val_acc improved from 0.72230 to 0.76858, saving model to models/resnet50_model_5_best_weights.h5\n",
      "Epoch 11/20\n",
      "93/93 [==============================] - 155s 2s/step - loss: 0.0437 - acc: 0.9842 - val_loss: 0.8931 - val_acc: 0.6957\n",
      "\n",
      "Epoch 00011: val_acc did not improve from 0.76858\n",
      "Epoch 12/20\n",
      "93/93 [==============================] - 155s 2s/step - loss: 0.1329 - acc: 0.9644 - val_loss: 0.7565 - val_acc: 0.6676\n",
      "\n",
      "Epoch 00012: val_acc did not improve from 0.76858\n",
      "Epoch 13/20\n",
      "93/93 [==============================] - 155s 2s/step - loss: 0.1340 - acc: 0.9537 - val_loss: 0.6352 - val_acc: 0.6634\n",
      "\n",
      "Epoch 00013: val_acc did not improve from 0.76858\n",
      "Epoch 14/20\n",
      "93/93 [==============================] - 155s 2s/step - loss: 0.0275 - acc: 0.9913 - val_loss: 0.7748 - val_acc: 0.7756\n",
      "\n",
      "Epoch 00014: val_acc improved from 0.76858 to 0.77560, saving model to models/resnet50_model_5_best_weights.h5\n",
      "Epoch 15/20\n",
      "93/93 [==============================] - 155s 2s/step - loss: 0.0411 - acc: 0.9909 - val_loss: 0.7349 - val_acc: 0.7658\n",
      "\n",
      "Epoch 00015: val_acc did not improve from 0.77560\n",
      "Epoch 16/20\n",
      "93/93 [==============================] - 155s 2s/step - loss: 0.0550 - acc: 0.9842 - val_loss: 0.9324 - val_acc: 0.6620\n",
      "\n",
      "Epoch 00016: val_acc did not improve from 0.77560\n",
      "Epoch 17/20\n",
      "93/93 [==============================] - 155s 2s/step - loss: 0.1519 - acc: 0.9520 - val_loss: 0.9066 - val_acc: 0.7167\n",
      "\n",
      "Epoch 00017: val_acc did not improve from 0.77560\n",
      "Epoch 18/20\n",
      "93/93 [==============================] - 155s 2s/step - loss: 0.1034 - acc: 0.9688 - val_loss: 0.6824 - val_acc: 0.6914\n",
      "\n",
      "Epoch 00018: val_acc did not improve from 0.77560\n",
      "Epoch 19/20\n",
      "93/93 [==============================] - 155s 2s/step - loss: 0.1015 - acc: 0.9604 - val_loss: 0.5866 - val_acc: 0.7461\n",
      "\n",
      "Epoch 00019: val_acc did not improve from 0.77560\n",
      "Epoch 20/20\n",
      "93/93 [==============================] - 155s 2s/step - loss: 0.0827 - acc: 0.9712 - val_loss: 1.3982 - val_acc: 0.6269\n",
      "\n",
      "Epoch 00020: val_acc did not improve from 0.77560\n",
      "CPU times: user 30min 40s, sys: 11min 42s, total: 42min 23s\n",
      "Wall time: 52min 43s\n"
     ]
    }
   ],
   "source": [
    "%%time\n",
    "model_5_name = 'model_5'\n",
    "filepath_5=\"models/\"+arch_name+\"_\"+model_5_name+\"_best_weights.h5\"\n",
    "checkpoint_5 = ModelCheckpoint(filepath_5, monitor='val_acc', verbose=1, save_best_only=True, mode='max')\n",
    "callbacks_list_5 = [checkpoint_5]\n",
    "\n",
    "model_5_history = model_5.fit_generator(generator=train_generator_5,\n",
    "                    class_weight = class_weights_5,\n",
    "                    steps_per_epoch=STEP_SIZE_TRAIN_5,\n",
    "                    validation_data = val_generator_5,\n",
    "                    validation_steps = STEP_SIZE_VAL_5,\n",
    "                    epochs=model5_epochs,\n",
    "                    callbacks=callbacks_list_5\n",
    "\n",
    ")"
   ]
  },
  {
   "cell_type": "code",
   "execution_count": 50,
   "metadata": {},
   "outputs": [],
   "source": [
    "save_all(model_5,model_5_history,model_5_name,arch_name)"
   ]
  },
  {
   "cell_type": "code",
   "execution_count": 40,
   "metadata": {},
   "outputs": [
    {
     "name": "stdout",
     "output_type": "stream",
     "text": [
      "CPU times: user 3min 42s, sys: 0 ns, total: 3min 42s\n",
      "Wall time: 3min 42s\n"
     ]
    }
   ],
   "source": [
    "%%time\n",
    "model_5_name = 'model_3'\n",
    "# model_5,model_5_best_weights,model_5_history = load_all(model_5_name,arch_name)\n",
    "model_5_best_weights = load_all(model_5_name,arch_name,True)"
   ]
  },
  {
   "cell_type": "markdown",
   "metadata": {
    "colab": {},
    "colab_type": "code",
    "id": "GFGkAM5na32L"
   },
   "source": [
    "#### Model 5 Evaluation"
   ]
  },
  {
   "cell_type": "code",
   "execution_count": 53,
   "metadata": {},
   "outputs": [
    {
     "data": {
      "image/png": "[encoded data removed]",
      "text/plain": [
       "<Figure size 1440x360 with 2 Axes>"
      ]
     },
     "metadata": {
      "needs_background": "light"
     },
     "output_type": "display_data"
    }
   ],
   "source": [
    "plot_train(model_5_history,'Model 5: Classification of the benign vs malignant masses')"
   ]
  },
  {
   "cell_type": "code",
   "execution_count": 41,
   "metadata": {},
   "outputs": [
    {
     "name": "stdout",
     "output_type": "stream",
     "text": [
      "CPU times: user 3min 41s, sys: 22 s, total: 4min 3s\n",
      "Wall time: 2min 20s\n"
     ]
    }
   ],
   "source": [
    "%%time\n",
    "model_5_bw_train_metrics, model_5_bw_test_metrics = evaluate_train_test(model_5_best_weights, \n",
    "                                                                        train_generator_5, \n",
    "                                                                        STEP_SIZE_TRAIN_5, \n",
    "                                                                        test_gens[5])"
   ]
  },
  {
   "cell_type": "code",
   "execution_count": 42,
   "metadata": {
    "scrolled": true
   },
   "outputs": [
    {
     "data": {
      "text/html": [
       "<div>\n",
       "<style scoped>\n",
       "    .dataframe tbody tr th:only-of-type {\n",
       "        vertical-align: middle;\n",
       "    }\n",
       "\n",
       "    .dataframe tbody tr th {\n",
       "        vertical-align: top;\n",
       "    }\n",
       "\n",
       "    .dataframe thead th {\n",
       "        text-align: right;\n",
       "    }\n",
       "</style>\n",
       "<table border=\"1\" class=\"dataframe\">\n",
       "  <thead>\n",
       "    <tr style=\"text-align: right;\">\n",
       "      <th></th>\n",
       "      <th>Model</th>\n",
       "      <th>training loss</th>\n",
       "      <th>training acc</th>\n",
       "      <th>test loss</th>\n",
       "      <th>test acc</th>\n",
       "    </tr>\n",
       "  </thead>\n",
       "  <tbody>\n",
       "    <tr>\n",
       "      <th>0</th>\n",
       "      <td>Best Weights Model 5</td>\n",
       "      <td>1.679094</td>\n",
       "      <td>0.490255</td>\n",
       "      <td>1.696223</td>\n",
       "      <td>0.530176</td>\n",
       "    </tr>\n",
       "  </tbody>\n",
       "</table>\n",
       "</div>"
      ],
      "text/plain": [
       "                  Model  training loss  training acc  test loss  test acc\n",
       "0  Best Weights Model 5       1.679094      0.490255   1.696223  0.530176"
      ]
     },
     "metadata": {},
     "output_type": "display_data"
    }
   ],
   "source": [
    "model_5_results = pretty_metrics(5,\n",
    "                                 model_5_bw_train_metrics, \n",
    "                                 model_5_bw_test_metrics)\n",
    "display(model_5_results)"
   ]
  },
  {
   "cell_type": "markdown",
   "metadata": {},
   "source": [
    "Now we evaluate the model only on the grayscale test data. Again, the results are identical to the RGB image results."
   ]
  },
  {
   "cell_type": "markdown",
   "metadata": {},
   "source": [
    "### Summary of Results for Resnet50\n",
    "\n",
    "Because the RGB and grayscale test data results were essentially the same, we simply show the test results from the RGB data."
   ]
  },
  {
   "cell_type": "code",
   "execution_count": 44,
   "metadata": {},
   "outputs": [
    {
     "data": {
      "text/html": [
       "<div>\n",
       "<style scoped>\n",
       "    .dataframe tbody tr th:only-of-type {\n",
       "        vertical-align: middle;\n",
       "    }\n",
       "\n",
       "    .dataframe tbody tr th {\n",
       "        vertical-align: top;\n",
       "    }\n",
       "\n",
       "    .dataframe thead th {\n",
       "        text-align: right;\n",
       "    }\n",
       "</style>\n",
       "<table border=\"1\" class=\"dataframe\">\n",
       "  <thead>\n",
       "    <tr style=\"text-align: right;\">\n",
       "      <th></th>\n",
       "      <th>Model</th>\n",
       "      <th>training loss</th>\n",
       "      <th>training acc</th>\n",
       "      <th>test loss</th>\n",
       "      <th>test acc</th>\n",
       "    </tr>\n",
       "  </thead>\n",
       "  <tbody>\n",
       "    <tr>\n",
       "      <th>0</th>\n",
       "      <td>Best Weights Model 0</td>\n",
       "      <td>0.284514</td>\n",
       "      <td>0.918173</td>\n",
       "      <td>1.555544</td>\n",
       "      <td>0.758657</td>\n",
       "    </tr>\n",
       "    <tr>\n",
       "      <th>0</th>\n",
       "      <td>Best Weights Model 1</td>\n",
       "      <td>2.223870</td>\n",
       "      <td>0.862027</td>\n",
       "      <td>2.102360</td>\n",
       "      <td>0.869565</td>\n",
       "    </tr>\n",
       "    <tr>\n",
       "      <th>0</th>\n",
       "      <td>Best Weights Model 2</td>\n",
       "      <td>1.110618</td>\n",
       "      <td>0.658482</td>\n",
       "      <td>3.022887</td>\n",
       "      <td>0.251996</td>\n",
       "    </tr>\n",
       "    <tr>\n",
       "      <th>0</th>\n",
       "      <td>Best Weights Model 3</td>\n",
       "      <td>0.499556</td>\n",
       "      <td>0.750047</td>\n",
       "      <td>1.309038</td>\n",
       "      <td>0.596850</td>\n",
       "    </tr>\n",
       "    <tr>\n",
       "      <th>0</th>\n",
       "      <td>Best Weights Model 4</td>\n",
       "      <td>0.003220</td>\n",
       "      <td>0.999298</td>\n",
       "      <td>1.889246</td>\n",
       "      <td>0.523193</td>\n",
       "    </tr>\n",
       "    <tr>\n",
       "      <th>0</th>\n",
       "      <td>Best Weights Model 5</td>\n",
       "      <td>1.679094</td>\n",
       "      <td>0.490255</td>\n",
       "      <td>1.696223</td>\n",
       "      <td>0.530176</td>\n",
       "    </tr>\n",
       "  </tbody>\n",
       "</table>\n",
       "</div>"
      ],
      "text/plain": [
       "                  Model  training loss  training acc  test loss  test acc\n",
       "0  Best Weights Model 0       0.284514      0.918173   1.555544  0.758657\n",
       "0  Best Weights Model 1       2.223870      0.862027   2.102360  0.869565\n",
       "0  Best Weights Model 2       1.110618      0.658482   3.022887  0.251996\n",
       "0  Best Weights Model 3       0.499556      0.750047   1.309038  0.596850\n",
       "0  Best Weights Model 4       0.003220      0.999298   1.889246  0.523193\n",
       "0  Best Weights Model 5       1.679094      0.490255   1.696223  0.530176"
      ]
     },
     "metadata": {},
     "output_type": "display_data"
    }
   ],
   "source": [
    "all_results = pd.concat([model_0_results, \n",
    "                         model_1_results, model_2_results, model_3_results, model_4_results, model_5_results])\n",
    "display(all_results)"
   ]
  },
  {
   "cell_type": "markdown",
   "metadata": {},
   "source": [
    "### Analysis of the Results\n",
    "\n",
    "As can be seen from the table above, there exist a clear gap between the very high training and very low test set accuracies for each model. Only models $0$ and $1$ have test accuracy above $75$% while the other models perform slightly better than random selection. This might indicate that we are over-fitting on the training set. However, as shown for models $0$, $4$, and $5$, the accuracy on the cross-validation is above $70$% and can even attain $90$% (model $0$). Only model $2$ seems to indicate over-fitting with very low accuracy on the cross-validation set with the number of epochs. To investigate if this low test accuracy is due to the model architecture, we try in the next section to tran model $2$ on the VGG16 architecture."
   ]
  },
  {
   "cell_type": "markdown",
   "metadata": {},
   "source": [
    "## 5. Model Training on VGG16\n",
    "To investigate the influence of the CNN architecture, we train the model $2$ (classification of abnormalities) which had very low cross-validation accuracy on the VGG16 architecture with transfer learning coming from the _imagenet_ dataset. "
   ]
  },
  {
   "cell_type": "code",
   "execution_count": 13,
   "metadata": {},
   "outputs": [
    {
     "name": "stderr",
     "output_type": "stream",
     "text": [
      "/usr/share/anaconda3/lib/python3.6/site-packages/pandas/core/frame.py:3697: SettingWithCopyWarning: \n",
      "A value is trying to be set on a copy of a slice from a DataFrame\n",
      "\n",
      "See the caveats in the documentation: http://pandas.pydata.org/pandas-docs/stable/indexing.html#indexing-view-versus-copy\n",
      "  errors=errors)\n"
     ]
    },
    {
     "name": "stdout",
     "output_type": "stream",
     "text": [
      "Found 5831 images belonging to 4 classes.\n",
      "Found 1458 images belonging to 4 classes.\n"
     ]
    }
   ],
   "source": [
    "model_2, train_generator_2, val_generator_2, class_weights_2, STEP_SIZE_TRAIN_2, STEP_SIZE_VAL_2 = \\\n",
    "    build_model(model2_classes,\n",
    "                train_df_model_2,\n",
    "                architecture=1,\n",
    "                x='filename',\n",
    "                y='y', \n",
    "                bs_train = 32, \n",
    "                lr = 0.0001,\n",
    "                H = H,\n",
    "                W = W, \n",
    "                n_channels = 3)"
   ]
  },
  {
   "cell_type": "code",
   "execution_count": 15,
   "metadata": {},
   "outputs": [
    {
     "name": "stdout",
     "output_type": "stream",
     "text": [
      "Epoch 1/20\n",
      "182/182 [==============================] - 333s 2s/step - loss: 1.3831 - acc: 0.2864 - val_loss: 1.3337 - val_acc: 0.3521\n",
      "\n",
      "Epoch 00001: val_acc improved from -inf to 0.35208, saving model to models/vgg16_model_2_best_weights.h5\n",
      "Epoch 2/20\n",
      "182/182 [==============================] - 327s 2s/step - loss: 1.2391 - acc: 0.4343 - val_loss: 1.1615 - val_acc: 0.4306\n",
      "\n",
      "Epoch 00002: val_acc improved from 0.35208 to 0.43058, saving model to models/vgg16_model_2_best_weights.h5\n",
      "Epoch 3/20\n",
      "182/182 [==============================] - 321s 2s/step - loss: 1.1046 - acc: 0.5008 - val_loss: 1.2196 - val_acc: 0.3899\n",
      "\n",
      "Epoch 00003: val_acc did not improve from 0.43058\n",
      "Epoch 4/20\n",
      "182/182 [==============================] - 321s 2s/step - loss: 1.0721 - acc: 0.5132 - val_loss: 1.2054 - val_acc: 0.4670\n",
      "\n",
      "Epoch 00004: val_acc improved from 0.43058 to 0.46704, saving model to models/vgg16_model_2_best_weights.h5\n",
      "Epoch 5/20\n",
      "182/182 [==============================] - 321s 2s/step - loss: 1.0133 - acc: 0.5359 - val_loss: 1.2016 - val_acc: 0.4320\n",
      "\n",
      "Epoch 00005: val_acc did not improve from 0.46704\n",
      "Epoch 6/20\n",
      "182/182 [==============================] - 321s 2s/step - loss: 0.9953 - acc: 0.5461 - val_loss: 1.0921 - val_acc: 0.4453\n",
      "\n",
      "Epoch 00006: val_acc did not improve from 0.46704\n",
      "Epoch 7/20\n",
      "182/182 [==============================] - 321s 2s/step - loss: 0.9560 - acc: 0.5623 - val_loss: 1.0953 - val_acc: 0.4383\n",
      "\n",
      "Epoch 00007: val_acc did not improve from 0.46704\n",
      "Epoch 8/20\n",
      "182/182 [==============================] - 322s 2s/step - loss: 0.9250 - acc: 0.5710 - val_loss: 1.1236 - val_acc: 0.4537\n",
      "\n",
      "Epoch 00008: val_acc did not improve from 0.46704\n",
      "Epoch 9/20\n",
      "182/182 [==============================] - 324s 2s/step - loss: 0.8987 - acc: 0.5990 - val_loss: 1.1420 - val_acc: 0.4712\n",
      "\n",
      "Epoch 00009: val_acc improved from 0.46704 to 0.47125, saving model to models/vgg16_model_2_best_weights.h5\n",
      "Epoch 10/20\n",
      "182/182 [==============================] - 323s 2s/step - loss: 0.8608 - acc: 0.5971 - val_loss: 1.1507 - val_acc: 0.4516\n",
      "\n",
      "Epoch 00010: val_acc did not improve from 0.47125\n",
      "Epoch 11/20\n",
      "182/182 [==============================] - 325s 2s/step - loss: 0.8393 - acc: 0.6183 - val_loss: 1.0982 - val_acc: 0.4523\n",
      "\n",
      "Epoch 00011: val_acc did not improve from 0.47125\n",
      "Epoch 12/20\n",
      "182/182 [==============================] - 324s 2s/step - loss: 0.7902 - acc: 0.6353 - val_loss: 1.2157 - val_acc: 0.4327\n",
      "\n",
      "Epoch 00012: val_acc did not improve from 0.47125\n",
      "Epoch 13/20\n",
      "182/182 [==============================] - 324s 2s/step - loss: 0.7742 - acc: 0.6499 - val_loss: 1.1373 - val_acc: 0.4460\n",
      "\n",
      "Epoch 00013: val_acc did not improve from 0.47125\n",
      "Epoch 14/20\n",
      "182/182 [==============================] - 325s 2s/step - loss: 0.7129 - acc: 0.6809 - val_loss: 1.3113 - val_acc: 0.4628\n",
      "\n",
      "Epoch 00014: val_acc did not improve from 0.47125\n",
      "Epoch 15/20\n",
      "182/182 [==============================] - 325s 2s/step - loss: 0.6644 - acc: 0.7050 - val_loss: 1.3688 - val_acc: 0.4264\n",
      "\n",
      "Epoch 00015: val_acc did not improve from 0.47125\n",
      "Epoch 16/20\n",
      "182/182 [==============================] - 325s 2s/step - loss: 0.6841 - acc: 0.7009 - val_loss: 1.3507 - val_acc: 0.3864\n",
      "\n",
      "Epoch 00016: val_acc did not improve from 0.47125\n",
      "Epoch 17/20\n",
      "182/182 [==============================] - 325s 2s/step - loss: 0.5712 - acc: 0.7466 - val_loss: 1.7824 - val_acc: 0.4411\n",
      "\n",
      "Epoch 00017: val_acc did not improve from 0.47125\n",
      "Epoch 18/20\n",
      "182/182 [==============================] - 325s 2s/step - loss: 0.5578 - acc: 0.7477 - val_loss: 1.7121 - val_acc: 0.4158\n",
      "\n",
      "Epoch 00018: val_acc did not improve from 0.47125\n",
      "Epoch 19/20\n",
      "182/182 [==============================] - 325s 2s/step - loss: 0.4767 - acc: 0.7959 - val_loss: 1.7148 - val_acc: 0.4411\n",
      "\n",
      "Epoch 00019: val_acc did not improve from 0.47125\n",
      "Epoch 20/20\n",
      "182/182 [==============================] - 325s 2s/step - loss: 0.4461 - acc: 0.8047 - val_loss: 2.0247 - val_acc: 0.4067\n",
      "\n",
      "Epoch 00020: val_acc did not improve from 0.47125\n",
      "CPU times: user 1h 22min 50s, sys: 22min 44s, total: 1h 45min 35s\n",
      "Wall time: 1h 48min 6s\n"
     ]
    }
   ],
   "source": [
    "%%time\n",
    "arch_name = 'vgg16'\n",
    "model_2_name = 'model_2'\n",
    "filepath_2=\"models/\"+arch_name+\"_\"+model_2_name+\"_best_weights.h5\"\n",
    "checkpoint_2 = ModelCheckpoint(filepath_2, monitor='val_acc', verbose=1, save_best_only=True, mode='max')\n",
    "callbacks_list_2 = [checkpoint_2]\n",
    "\n",
    "model_2_history = model_2.fit_generator(generator=train_generator_2,\n",
    "                    class_weight = class_weights_2,\n",
    "                    steps_per_epoch=STEP_SIZE_TRAIN_2,\n",
    "                    validation_data = val_generator_2,\n",
    "                    validation_steps = STEP_SIZE_VAL_2,\n",
    "                    epochs=model2_epochs,\n",
    "                    callbacks=callbacks_list_2\n",
    "\n",
    ")"
   ]
  },
  {
   "cell_type": "code",
   "execution_count": 17,
   "metadata": {},
   "outputs": [],
   "source": [
    "save_all(model_2,model_2_history,model_2_name,arch_name)"
   ]
  },
  {
   "cell_type": "code",
   "execution_count": 18,
   "metadata": {},
   "outputs": [
    {
     "name": "stdout",
     "output_type": "stream",
     "text": [
      "CPU times: user 6.44 s, sys: 520 ms, total: 6.96 s\n",
      "Wall time: 6.86 s\n"
     ]
    }
   ],
   "source": [
    "%%time\n",
    "model_2,model_2_best_weights,model_2_history = load_all(model_2_name,arch_name)"
   ]
  },
  {
   "cell_type": "markdown",
   "metadata": {},
   "source": [
    "#### Model 2 on VGG16 Evaluation"
   ]
  },
  {
   "cell_type": "code",
   "execution_count": 19,
   "metadata": {},
   "outputs": [
    {
     "data": {
      "image/png": "[encoded data removed]",
      "text/plain": [
       "<Figure size 1440x360 with 2 Axes>"
      ]
     },
     "metadata": {
      "needs_background": "light"
     },
     "output_type": "display_data"
    }
   ],
   "source": [
    "plot_train(model_2_history,'Model 2: Classification of the benign vs malignant masses (VGG16)')"
   ]
  },
  {
   "cell_type": "code",
   "execution_count": 20,
   "metadata": {},
   "outputs": [
    {
     "name": "stdout",
     "output_type": "stream",
     "text": [
      "CPU times: user 4min 58s, sys: 54.6 s, total: 5min 52s\n",
      "Wall time: 3min 4s\n"
     ]
    }
   ],
   "source": [
    "%%time\n",
    "model_2_vgg16_bw_train_metrics, model_2_vgg16_bw_test_metrics = evaluate_train_test(model_2_best_weights, \n",
    "                                                                        train_generator_2, \n",
    "                                                                        STEP_SIZE_TRAIN_2, \n",
    "                                                                        test_gens[2])"
   ]
  },
  {
   "cell_type": "code",
   "execution_count": 23,
   "metadata": {},
   "outputs": [
    {
     "data": {
      "text/html": [
       "<div>\n",
       "<style scoped>\n",
       "    .dataframe tbody tr th:only-of-type {\n",
       "        vertical-align: middle;\n",
       "    }\n",
       "\n",
       "    .dataframe tbody tr th {\n",
       "        vertical-align: top;\n",
       "    }\n",
       "\n",
       "    .dataframe thead th {\n",
       "        text-align: right;\n",
       "    }\n",
       "</style>\n",
       "<table border=\"1\" class=\"dataframe\">\n",
       "  <thead>\n",
       "    <tr style=\"text-align: right;\">\n",
       "      <th></th>\n",
       "      <th>Model</th>\n",
       "      <th>training loss</th>\n",
       "      <th>training acc</th>\n",
       "      <th>test loss</th>\n",
       "      <th>test acc</th>\n",
       "    </tr>\n",
       "  </thead>\n",
       "  <tbody>\n",
       "    <tr>\n",
       "      <th>0</th>\n",
       "      <td>Best Weights Model 2</td>\n",
       "      <td>0.877327</td>\n",
       "      <td>0.592516</td>\n",
       "      <td>1.875922</td>\n",
       "      <td>0.250998</td>\n",
       "    </tr>\n",
       "  </tbody>\n",
       "</table>\n",
       "</div>"
      ],
      "text/plain": [
       "                  Model  training loss  training acc  test loss  test acc\n",
       "0  Best Weights Model 2       0.877327      0.592516   1.875922  0.250998"
      ]
     },
     "metadata": {},
     "output_type": "display_data"
    }
   ],
   "source": [
    "model_2_vgg16_results = pretty_metrics(2, model_2_vgg16_bw_train_metrics, \n",
    "                                 model_2_vgg16_bw_test_metrics)\n",
    "display(model_2_vgg16_results)"
   ]
  },
  {
   "cell_type": "markdown",
   "metadata": {},
   "source": [
    "The results using the VGG16 architecture on model $2$ are marginally better with the cross-validation accuracy averaging $40$%. However, the test accuracy remains very low with $25$% indicating that the classification model is guessing at a solution."
   ]
  },
  {
   "cell_type": "markdown",
   "metadata": {},
   "source": [
    "## 6. Conclusion\n",
    "\n",
    "There results were not ideal because the accuracies are not comparable to what we've seen in the literature review. The fact that the validation accuracy and the test accuracy are not especially close is worrisome especially when the training data accuracy was so high durin training. This seems to indicate a problem with the data coming from the test dataset. Based on these results, we decided to perform interpretability methods on the training data."
   ]
  }
 ],
 "metadata": {
  "accelerator": "GPU",
  "colab": {
   "collapsed_sections": [],
   "name": "models.ipynb",
   "provenance": [],
   "version": "0.3.2"
  },
  "kernelspec": {
   "display_name": "Python 3",
   "language": "python",
   "name": "python3"
  },
  "language_info": {
   "codemirror_mode": {
    "name": "ipython",
    "version": 3
   },
   "file_extension": ".py",
   "mimetype": "text/x-python",
   "name": "python",
   "nbconvert_exporter": "python",
   "pygments_lexer": "ipython3",
   "version": "3.6.8"
  }
 },
 "nbformat": 4,
 "nbformat_minor": 1
}
