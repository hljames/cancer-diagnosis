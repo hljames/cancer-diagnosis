{
 "cells": [
  {
   "cell_type": "markdown",
   "metadata": {
    "colab_type": "text",
    "id": "czvssEexV3wL"
   },
   "source": [
    "# ResNet50 Classification Models\n",
    "\n",
    "We prepared 6 different models with ResNet50 but using different partitions and subgroups of the version DDSM data set previously specified. The models are:\n",
    "- Model 0: Raw Pre-Processed DDSM Dataset (Baseline)\n",
    "    - This uses all of the data in the version of the DDSM data set that we selected.\n",
    "- Model 1: Cleaned Normal Class\n",
    "    - As we see in the EDA tab, this removes noisy images from the baseline DDSM data.\n",
    "- Model 2: Classification of Abnormalities (Classes 1 to 4)\n",
    "    - This model removes the \"normal\" class images and strictly classifies the different types of abnormalities. The normal images are the \"cleaned\" ones from Model 1.\n",
    "- Model 3: Normal vs Abnormal (Class 0 vs 1-4)\n",
    "    - This model reduces all the abnormal images to one class and attempts to distinguish between the normal and abnormal images.\n",
    "- Model 4: Benign vs Malignant Calcification\n",
    "    - This model looks strictly at the original class 1 and class 3, which are benign and malignant calcifications.\n",
    "- Model 5: Benign vs Malignant Mass\n",
    "    - This model looks strictly at the original class 2 and 4, which are benign and malignant masses.\n",
    "    \n",
    "We evaluate each model on the training data, the RGB test data, and the grayscale test data. We originally were only using the RGB test data, but because we had such low test accuracy, we worried that the Keras ImageDataGenerator converted the image to RGB in a different way than tf.image.grayscale_to_rgb did, so we saved the images as grayscale and repeated the process. Everything is in this notebook, but note this was a classic \"it's the data science process!\" moment where we had to take several steps back and try again.\n",
    "\n",
    "A summary of the training and test accuracies can be found at the conclusion."
   ]
  },
  {
   "cell_type": "code",
   "execution_count": 2,
   "metadata": {
    "colab": {},
    "colab_type": "code",
    "id": "HgIYihMqPbZu"
   },
   "outputs": [],
   "source": [
    "'''IMPORT LIBRARIES'''\n",
    "import requests\n",
    "import os\n",
    "\n",
    "import matplotlib.pyplot as plt\n",
    "import numpy as np\n",
    "import pandas as pd\n",
    "import shutil\n",
    "# import cv2\n",
    "\n",
    "from scipy.misc import imresize\n",
    "from sklearn.model_selection import train_test_split\n",
    "\n",
    "from keras.applications.resnet50 import ResNet50\n",
    "from keras.callbacks import ModelCheckpoint, EarlyStopping\n",
    "from keras.models import Sequential, Model, load_model\n",
    "from keras.layers import Dropout, Flatten, Dense, Conv2D, MaxPooling2D\n",
    "from keras.layers import Input, Reshape, UpSampling2D, InputLayer, Lambda, ZeroPadding2D\n",
    "from keras.layers import Cropping2D, Conv2DTranspose, BatchNormalization, Activation, GlobalAveragePooling2D\n",
    "from keras.utils import np_utils, to_categorical\n",
    "from keras.losses import binary_crossentropy\n",
    "from keras import backend as K,objectives\n",
    "from keras.losses import mse, binary_crossentropy\n",
    "from keras.layers.advanced_activations import LeakyReLU\n",
    "from keras.optimizers import Adam, RMSprop\n",
    "from keras.initializers import RandomNormal\n",
    "from keras.preprocessing import image\n",
    "import tensorflow as tf\n",
    "from keras_preprocessing.image import ImageDataGenerator, array_to_img, img_to_array, load_img\n",
    "import random\n",
    "import keras\n",
    "\n",
    "from sklearn.utils.class_weight import compute_class_weight\n",
    "from PIL import Image\n",
    "\n",
    "from IPython.core.display import HTML\n",
    "styles = requests.get(\"https://raw.githubusercontent.com/Harvard-IACS/2018-CS109A/master/content/styles/cs109.css\").text\n",
    "HTML(styles)\n",
    "\n",
    "np.random.seed(42)"
   ]
  },
  {
   "cell_type": "markdown",
   "metadata": {},
   "source": [
    "## Loading the Data\n",
    "\n",
    "The data was prepared into csvs that were formated to have the file name and the class labels. The code for this can be found in the EDA tab.\n",
    "\n",
    "The validation data for training is randomly sampled from the training dataset during model creation, since that is when the data generators are created."
   ]
  },
  {
   "cell_type": "code",
   "execution_count": 3,
   "metadata": {},
   "outputs": [],
   "source": [
    "train_df_model_0 = pd.read_csv('data/train_df_model_0.csv')\n",
    "train_df_model_1 = pd.read_csv('data/train_df_model_1.csv')\n",
    "train_df_model_2 = pd.read_csv('data/train_df_model_2.csv')\n",
    "train_df_model_3 = pd.read_csv('data/train_df_model_3.csv')\n",
    "train_df_model_4 = pd.read_csv('data/train_df_model_4.csv')\n",
    "train_df_model_5 = pd.read_csv('data/train_df_model_5.csv')"
   ]
  },
  {
   "cell_type": "code",
   "execution_count": 4,
   "metadata": {},
   "outputs": [],
   "source": [
    "test_df_model_0 = pd.read_csv(\"data/test_df_model_0.csv\")\n",
    "test_df_model_1 = pd.read_csv(\"data/test_df_model_1.csv\")\n",
    "test_df_model_2 = pd.read_csv(\"data/test_df_model_2.csv\")\n",
    "test_df_model_3 = pd.read_csv(\"data/test_df_model_3.csv\")\n",
    "test_df_model_4 = pd.read_csv(\"data/test_df_model_4.csv\")\n",
    "test_df_model_5 = pd.read_csv(\"data/test_df_model_5.csv\")\n",
    "test_dfs = [test_df_model_0, test_df_model_1, test_df_model_2, test_df_model_3, test_df_model_4, test_df_model_5]"
   ]
  },
  {
   "cell_type": "markdown",
   "metadata": {},
   "source": [
    "## Setting Up the Models\n",
    "\n",
    "We will use transfer learning on the pre-trained ResNet network. Since we will train several models, the code to do so has been consolidated here.\n",
    "\n",
    "We define several hyper-parameters for each model, and define functions to build the data generators and the model, and to evaluate them."
   ]
  },
  {
   "cell_type": "code",
   "execution_count": 5,
   "metadata": {
    "colab": {
     "base_uri": "https://localhost:8080/",
     "height": 88
    },
    "colab_type": "code",
    "id": "i6ISXJ3LtGda",
    "outputId": "c6dc3ed0-8f7a-4506-9090-8491215529e2"
   },
   "outputs": [],
   "source": [
    "'''HYPER-PARAMETERS'''\n",
    "#Image related parameters\n",
    "H = 299\n",
    "W = 299\n",
    "n_channels = 3\n",
    "\n",
    "#Optimization related parameters\n",
    "batch_size_train = 32\n",
    "batch_size_test  = 1\n",
    "\n",
    "#Model related parameters\n",
    "model0_epochs = 5\n",
    "model1_epochs = 5\n",
    "model2_epochs = 15\n",
    "model3_epochs = 5\n",
    "model4_epochs = 15\n",
    "model5_epochs = 10\n",
    "\n",
    "model0_classes = 5\n",
    "model1_classes = 5\n",
    "model2_classes = 4\n",
    "model3_classes = 2\n",
    "model4_classes = 2\n",
    "model5_classes = 2"
   ]
  },
  {
   "cell_type": "code",
   "execution_count": 6,
   "metadata": {
    "colab": {},
    "colab_type": "code",
    "id": "QIxDnVvPa3zs"
   },
   "outputs": [],
   "source": [
    "'''Build the model and DataGenerators.'''\n",
    "def build_model(n_classes,df,x='filename',y='y', bs_train = 32, lr = 0.0001,H = H,W = W, n_channels = 3):\n",
    "    #Data generator\n",
    "    train_df, val_df = train_test_split(df, test_size=0.2, random_state=42, stratify=df[y])\n",
    "    val_df.reset_index(inplace=True)\n",
    "    val_df.drop(['index'], axis=1, inplace=True)\n",
    "    train_datagen = ImageDataGenerator(\n",
    "            rescale=1./255)\n",
    "    val_datagen = ImageDataGenerator(rescale=1./255)\n",
    "    \n",
    "    train_generator = train_datagen.flow_from_dataframe(\n",
    "        directory='images',\n",
    "        dataframe=train_df,\n",
    "        x_col=x,\n",
    "        y_col=y,\n",
    "        # width by height only, not channels\n",
    "        target_size=(H, W),\n",
    "        color_mode=\"rgb\",\n",
    "        batch_size=bs_train,\n",
    "        class_mode=\"categorical\",\n",
    "        shuffle=True,\n",
    "        seed=42\n",
    "    )\n",
    "    \n",
    "    val_generator = val_datagen.flow_from_dataframe(\n",
    "        directory='images',\n",
    "        dataframe=val_df,\n",
    "        x_col=x,\n",
    "        y_col=y,\n",
    "        # width by height only, not channels\n",
    "        target_size=(H, W),\n",
    "        color_mode=\"rgb\",\n",
    "        batch_size=bs_train,\n",
    "        class_mode=\"categorical\",\n",
    "        shuffle=True,\n",
    "        seed=42\n",
    "    )\n",
    "    #Class weight\n",
    "    all_classes = df[y].unique()\n",
    "    class_weights = compute_class_weight(class_weight='balanced', classes=all_classes, y=train_df[y])\n",
    "    #Model architecture\n",
    "    inp = Input(shape = (H,W,n_channels))\n",
    "\n",
    "    model = ResNet50(input_shape=(H,W,n_channels), include_top=False, weights='imagenet')\n",
    "    x1 = model(inp)\n",
    "    x2 = GlobalAveragePooling2D()(x1)\n",
    "    out = Dense(n_classes, activation='softmax')(x2)\n",
    "\n",
    "    model = Model(inputs = inp, outputs = out)\n",
    "    optimizer = Adam(lr=lr)\n",
    "    model.compile(optimizer=optimizer, loss='categorical_crossentropy', metrics=['accuracy'])\n",
    "    \n",
    "    STEP_SIZE_TRAIN = train_generator.n//train_generator.batch_size\n",
    "    STEP_SIZE_VAL = val_generator.n//val_generator.batch_size\n",
    "        \n",
    "    return model, train_generator, val_generator, class_weights, STEP_SIZE_TRAIN, STEP_SIZE_VAL"
   ]
  },
  {
   "cell_type": "code",
   "execution_count": 7,
   "metadata": {},
   "outputs": [
    {
     "name": "stdout",
     "output_type": "stream",
     "text": [
      "Found 15364 images belonging to 5 classes.\n",
      "Found 15364 images belonging to 5 classes.\n",
      "Found 2004 images belonging to 4 classes.\n",
      "Found 15364 images belonging to 2 classes.\n",
      "Found 927 images belonging to 2 classes.\n",
      "Found 1077 images belonging to 2 classes.\n"
     ]
    }
   ],
   "source": [
    "'''Build test DataGenerators for the RGB data.'''\n",
    "test_gens = {}\n",
    "for i, df in zip(range(6), test_dfs):\n",
    "    test_datagen = ImageDataGenerator(rescale=1./255)\n",
    "    \n",
    "    test_generator = test_datagen.flow_from_dataframe(\n",
    "        directory='test_images/',\n",
    "        dataframe=df,\n",
    "        x_col='filename',\n",
    "        y_col='y',\n",
    "        # width by height only, not channels\n",
    "        target_size=(H, W),\n",
    "        color_mode=\"rgb\",\n",
    "        batch_size=batch_size_test,\n",
    "        class_mode=\"categorical\",\n",
    "        shuffle=True,\n",
    "        seed=42\n",
    "    )\n",
    "    test_gens[i] = test_generator"
   ]
  },
  {
   "cell_type": "code",
   "execution_count": 8,
   "metadata": {},
   "outputs": [
    {
     "name": "stdout",
     "output_type": "stream",
     "text": [
      "Found 15364 images belonging to 5 classes.\n",
      "Found 15364 images belonging to 5 classes.\n",
      "Found 2004 images belonging to 4 classes.\n",
      "Found 15364 images belonging to 2 classes.\n",
      "Found 927 images belonging to 2 classes.\n",
      "Found 1077 images belonging to 2 classes.\n"
     ]
    }
   ],
   "source": [
    "'''Build test DataGenerators for the grayscale data.'''\n",
    "test_gens_gray = {}\n",
    "for i, df in zip(range(6), test_dfs):\n",
    "    test_datagen = ImageDataGenerator(rescale=1./255)\n",
    "    \n",
    "    test_generator = test_datagen.flow_from_dataframe(\n",
    "        directory='test_images_grayscale/',\n",
    "        dataframe=df,\n",
    "        x_col='filename',\n",
    "        y_col='y',\n",
    "        # width by height only, not channels\n",
    "        target_size=(H, W),\n",
    "        color_mode=\"rgb\",\n",
    "        batch_size=batch_size_test,\n",
    "        class_mode=\"categorical\",\n",
    "        shuffle=True,\n",
    "        seed=42\n",
    "    )\n",
    "    test_gens_gray[i] = test_generator"
   ]
  },
  {
   "cell_type": "code",
   "execution_count": 9,
   "metadata": {},
   "outputs": [],
   "source": [
    "'''Evaluate a given model on test and training data.'''\n",
    "def evaluate_train_test(model, train_gen=None, step_size_train=None, test_gen=None):\n",
    "    train_results = None\n",
    "    if train_gen:\n",
    "        train_results = model.evaluate_generator(train_gen, steps=step_size_train)\n",
    "    test_results = None\n",
    "    if test_gen:\n",
    "        test_results = model.evaluate_generator(test_gen, test_gen.n)\n",
    "    return train_results, test_results"
   ]
  },
  {
   "cell_type": "code",
   "execution_count": 10,
   "metadata": {},
   "outputs": [],
   "source": [
    "'''Format evaluation metrics from both a best weights model and a final model.'''\n",
    "def pretty_metrics(model_id, model_train, model_test, model_best_weights_train, model_best_weights_test):\n",
    "    if model_train and model_test and model_best_weights_train and model_best_weights_test:\n",
    "        m_train_loss, m_train_acc = model_train\n",
    "        m_test_loss, m_test_acc = model_test\n",
    "        bw_train_loss, bw_train_acc = model_best_weights_train\n",
    "        bw_test_loss, bw_test_acc = model_best_weights_test\n",
    "        results = pd.DataFrame()\n",
    "        results['Model'] = ['Model {}'.format(model_id), 'Best Weights Model {}'.format(model_id)]\n",
    "        results['training loss'] = [m_train_loss, bw_train_loss]\n",
    "        results['training acc'] = [m_train_acc, bw_train_acc]\n",
    "        results['test loss'] = [m_test_loss, bw_test_loss]\n",
    "        results['test acc'] = [m_test_acc, bw_test_acc]\n",
    "        return results\n",
    "    return None"
   ]
  },
  {
   "cell_type": "markdown",
   "metadata": {
    "colab_type": "text",
    "id": "nVoyBxnlWQsE"
   },
   "source": [
    "## Model Training\n",
    "\n",
    "### Model 0: Raw Pre-Processed DDSM Dataset (Baseline)"
   ]
  },
  {
   "cell_type": "markdown",
   "metadata": {
    "colab_type": "text",
    "id": "9RRwc4hLWnSH"
   },
   "source": [
    "The baseline model classifies the images from the pre-processed DDSM dataset into the following $5$ classes:\n",
    "\n",
    "- $0$: Normal\n",
    "- $1$: Benign Calcification\n",
    "- $2$: Benign Mass\n",
    "- $3$: Malignant Calcification\n",
    "- $4$: Malignant Mass"
   ]
  },
  {
   "cell_type": "code",
   "execution_count": 20,
   "metadata": {
    "colab": {},
    "colab_type": "code",
    "id": "bK4P9chUa3z3",
    "outputId": "3fa4ebfb-c45b-4fbb-b3e3-0473e2b0b5ba"
   },
   "outputs": [
    {
     "name": "stderr",
     "output_type": "stream",
     "text": [
      "/usr/share/anaconda3/lib/python3.6/site-packages/pandas/core/frame.py:3697: SettingWithCopyWarning: \n",
      "A value is trying to be set on a copy of a slice from a DataFrame\n",
      "\n",
      "See the caveats in the documentation: http://pandas.pydata.org/pandas-docs/stable/indexing.html#indexing-view-versus-copy\n",
      "  errors=errors)\n"
     ]
    },
    {
     "name": "stdout",
     "output_type": "stream",
     "text": [
      "Found 44708 images belonging to 5 classes.\n",
      "Found 11177 images belonging to 5 classes.\n"
     ]
    },
    {
     "name": "stderr",
     "output_type": "stream",
     "text": [
      "/usr/share/anaconda3/lib/python3.6/site-packages/keras_applications/resnet50.py:265: UserWarning: The output shape of `ResNet50(include_top=False)` has been changed since Keras 2.2.0.\n",
      "  warnings.warn('The output shape of `ResNet50(include_top=False)` '\n"
     ]
    }
   ],
   "source": [
    "model_0, train_generator_0, val_generator_0, class_weights_0, STEP_SIZE_TRAIN_0, STEP_SIZE_VAL_0 = \\\n",
    "    build_model(model0_classes,\n",
    "                train_df_model_0,\n",
    "                x='filename',\n",
    "                y='y', \n",
    "                bs_train = 32, \n",
    "                lr = 0.0001,\n",
    "                H = H,\n",
    "                W = W,\n",
    "                n_channels = 3)"
   ]
  },
  {
   "cell_type": "code",
   "execution_count": 21,
   "metadata": {
    "scrolled": true
   },
   "outputs": [
    {
     "name": "stdout",
     "output_type": "stream",
     "text": [
      "Epoch 1/5\n",
      "1397/1397 [==============================] - 2370s 2s/step - loss: 0.2246 - acc: 0.9205 - val_loss: 1.6388 - val_acc: 0.4533\n",
      "\n",
      "Epoch 00001: val_acc improved from -inf to 0.45335, saving model to models/model0_best_weights.h5\n",
      "Epoch 2/5\n",
      "1397/1397 [==============================] - 2354s 2s/step - loss: 0.1518 - acc: 0.9434 - val_loss: 2.1033 - val_acc: 0.3524\n",
      "\n",
      "Epoch 00002: val_acc did not improve from 0.45335\n",
      "Epoch 3/5\n",
      "1397/1397 [==============================] - 2352s 2s/step - loss: 0.1142 - acc: 0.9567 - val_loss: 2.6090 - val_acc: 0.4748\n",
      "\n",
      "Epoch 00003: val_acc improved from 0.45335 to 0.47483, saving model to models/model0_best_weights.h5\n",
      "Epoch 4/5\n",
      "1397/1397 [==============================] - 2352s 2s/step - loss: 0.0879 - acc: 0.9673 - val_loss: 0.5195 - val_acc: 0.8445\n",
      "\n",
      "Epoch 00004: val_acc improved from 0.47483 to 0.84450, saving model to models/model0_best_weights.h5\n",
      "Epoch 5/5\n",
      "1397/1397 [==============================] - 2350s 2s/step - loss: 0.0636 - acc: 0.9767 - val_loss: 1.8427 - val_acc: 0.5002\n",
      "\n",
      "Epoch 00005: val_acc did not improve from 0.84450\n",
      "CPU times: user 2h 32min 14s, sys: 45min 44s, total: 3h 17min 58s\n",
      "Wall time: 3h 16min 35s\n"
     ]
    }
   ],
   "source": [
    "%%time\n",
    "filepath_0=\"models/model0_best_weights.h5\"\n",
    "checkpoint_0 = ModelCheckpoint(filepath_0, monitor='val_acc', verbose=1, save_best_only=True, mode='max')\n",
    "callbacks_list_0 = [checkpoint_0]\n",
    "\n",
    "model_0.fit_generator(generator=train_generator_0,\n",
    "                    class_weight = class_weights_0,\n",
    "                    steps_per_epoch=STEP_SIZE_TRAIN_0,\n",
    "                    validation_data = val_generator_0,\n",
    "                    validation_steps = STEP_SIZE_VAL_0,\n",
    "                    epochs=model0_epochs,\n",
    "                    callbacks=callbacks_list_0\n",
    "\n",
    ")"
   ]
  },
  {
   "cell_type": "code",
   "execution_count": 22,
   "metadata": {},
   "outputs": [],
   "source": [
    "model_0.save('models/model_0.h5')\n",
    "model_0.save_weights('models/model_0_weights.h5')"
   ]
  },
  {
   "cell_type": "code",
   "execution_count": 11,
   "metadata": {},
   "outputs": [
    {
     "name": "stdout",
     "output_type": "stream",
     "text": [
      "CPU times: user 1min 9s, sys: 1.86 s, total: 1min 11s\n",
      "Wall time: 1min 18s\n"
     ]
    }
   ],
   "source": [
    "%%time\n",
    "model_0 = load_model('models/model_0.h5')\n",
    "model_0_best_weights = load_model(\"models/model0_best_weights.h5\")"
   ]
  },
  {
   "cell_type": "markdown",
   "metadata": {},
   "source": [
    "#### Model 0 Evaluation\n",
    "\n",
    "First we evaluate the models with the RGB test data."
   ]
  },
  {
   "cell_type": "code",
   "execution_count": 23,
   "metadata": {
    "colab": {},
    "colab_type": "code",
    "id": "VHAH3RKJtGfF"
   },
   "outputs": [
    {
     "name": "stdout",
     "output_type": "stream",
     "text": [
      "CPU times: user 36min 20s, sys: 5min 29s, total: 41min 49s\n",
      "Wall time: 21min 36s\n"
     ]
    }
   ],
   "source": [
    "%%time\n",
    "model_0_train_metrics, model_0_test_metrics = evaluate_train_test(model_0, \n",
    "                                                                  train_generator_0, \n",
    "                                                                  STEP_SIZE_TRAIN_0, \n",
    "                                                                  test_gens[0])"
   ]
  },
  {
   "cell_type": "code",
   "execution_count": 24,
   "metadata": {},
   "outputs": [
    {
     "name": "stdout",
     "output_type": "stream",
     "text": [
      "CPU times: user 36min 22s, sys: 5min 32s, total: 41min 55s\n",
      "Wall time: 21min 45s\n"
     ]
    }
   ],
   "source": [
    "%%time\n",
    "model_0_bw_train_metrics, model_0_bw_test_metrics = evaluate_train_test(model_0_best_weights, \n",
    "                                                                        train_generator_0, \n",
    "                                                                        STEP_SIZE_TRAIN_0, \n",
    "                                                                        test_gens[0])"
   ]
  },
  {
   "cell_type": "code",
   "execution_count": 25,
   "metadata": {},
   "outputs": [
    {
     "data": {
      "text/html": [
       "<div>\n",
       "<style scoped>\n",
       "    .dataframe tbody tr th:only-of-type {\n",
       "        vertical-align: middle;\n",
       "    }\n",
       "\n",
       "    .dataframe tbody tr th {\n",
       "        vertical-align: top;\n",
       "    }\n",
       "\n",
       "    .dataframe thead th {\n",
       "        text-align: right;\n",
       "    }\n",
       "</style>\n",
       "<table border=\"1\" class=\"dataframe\">\n",
       "  <thead>\n",
       "    <tr style=\"text-align: right;\">\n",
       "      <th></th>\n",
       "      <th>Model</th>\n",
       "      <th>training loss</th>\n",
       "      <th>training acc</th>\n",
       "      <th>test loss</th>\n",
       "      <th>test acc</th>\n",
       "    </tr>\n",
       "  </thead>\n",
       "  <tbody>\n",
       "    <tr>\n",
       "      <th>0</th>\n",
       "      <td>Model 0</td>\n",
       "      <td>1.741360</td>\n",
       "      <td>0.534000</td>\n",
       "      <td>3.356003</td>\n",
       "      <td>0.407706</td>\n",
       "    </tr>\n",
       "    <tr>\n",
       "      <th>1</th>\n",
       "      <td>Best Weights Model 0</td>\n",
       "      <td>0.463247</td>\n",
       "      <td>0.862118</td>\n",
       "      <td>1.611957</td>\n",
       "      <td>0.708539</td>\n",
       "    </tr>\n",
       "  </tbody>\n",
       "</table>\n",
       "</div>"
      ],
      "text/plain": [
       "                  Model  training loss  training acc  test loss  test acc\n",
       "0               Model 0       1.741360      0.534000   3.356003  0.407706\n",
       "1  Best Weights Model 0       0.463247      0.862118   1.611957  0.708539"
      ]
     },
     "metadata": {},
     "output_type": "display_data"
    }
   ],
   "source": [
    "model_0_results = pretty_metrics(0, model_0_train_metrics, \n",
    "                                 model_0_test_metrics, \n",
    "                                 model_0_bw_train_metrics, \n",
    "                                 model_0_bw_test_metrics)\n",
    "display(model_0_results)"
   ]
  },
  {
   "cell_type": "markdown",
   "metadata": {},
   "source": [
    "Now we evaluate the model only on the grayscale test data. We see that the results are identical to the results for the RGB test data, so we only do this as a formality for the remaining models."
   ]
  },
  {
   "cell_type": "code",
   "execution_count": 12,
   "metadata": {},
   "outputs": [
    {
     "name": "stdout",
     "output_type": "stream",
     "text": [
      "CPU times: user 36min 10s, sys: 4min 16s, total: 40min 26s\n",
      "Wall time: 18min 42s\n"
     ]
    }
   ],
   "source": [
    "%%time\n",
    "_ , model_0_gray_test = evaluate_train_test(model_0, test_gen=test_gens_gray[0])\n",
    "_ , bw_model_0_gray_test = evaluate_train_test(model_0_best_weights, test_gen=test_gens_gray[0])"
   ]
  },
  {
   "cell_type": "code",
   "execution_count": 13,
   "metadata": {},
   "outputs": [
    {
     "data": {
      "text/html": [
       "<div>\n",
       "<style scoped>\n",
       "    .dataframe tbody tr th:only-of-type {\n",
       "        vertical-align: middle;\n",
       "    }\n",
       "\n",
       "    .dataframe tbody tr th {\n",
       "        vertical-align: top;\n",
       "    }\n",
       "\n",
       "    .dataframe thead th {\n",
       "        text-align: right;\n",
       "    }\n",
       "</style>\n",
       "<table border=\"1\" class=\"dataframe\">\n",
       "  <thead>\n",
       "    <tr style=\"text-align: right;\">\n",
       "      <th></th>\n",
       "      <th>metric</th>\n",
       "      <th>Model 0</th>\n",
       "      <th>Model 0 Best Weights</th>\n",
       "    </tr>\n",
       "  </thead>\n",
       "  <tbody>\n",
       "    <tr>\n",
       "      <th>0</th>\n",
       "      <td>test loss</td>\n",
       "      <td>3.356003</td>\n",
       "      <td>1.611957</td>\n",
       "    </tr>\n",
       "    <tr>\n",
       "      <th>1</th>\n",
       "      <td>test acc</td>\n",
       "      <td>0.407706</td>\n",
       "      <td>0.708539</td>\n",
       "    </tr>\n",
       "  </tbody>\n",
       "</table>\n",
       "</div>"
      ],
      "text/plain": [
       "      metric   Model 0  Model 0 Best Weights\n",
       "0  test loss  3.356003              1.611957\n",
       "1   test acc  0.407706              0.708539"
      ]
     },
     "execution_count": 13,
     "metadata": {},
     "output_type": "execute_result"
    }
   ],
   "source": [
    "pd.DataFrame({'metric': ['test loss', 'test acc'],\n",
    "              'Model 0':model_0_gray_test, \n",
    "              'Model 0 Best Weights':bw_model_0_gray_test})"
   ]
  },
  {
   "cell_type": "markdown",
   "metadata": {
    "colab": {},
    "colab_type": "code",
    "id": "PbxudodetGfO"
   },
   "source": [
    "### Model  1: Cleaned Normal Class"
   ]
  },
  {
   "cell_type": "code",
   "execution_count": 13,
   "metadata": {
    "colab": {},
    "colab_type": "code",
    "id": "bK4P9chUa3z3",
    "outputId": "3fa4ebfb-c45b-4fbb-b3e3-0473e2b0b5ba"
   },
   "outputs": [
    {
     "name": "stderr",
     "output_type": "stream",
     "text": [
      "/usr/share/anaconda3/lib/python3.6/site-packages/pandas/core/frame.py:3697: SettingWithCopyWarning: \n",
      "A value is trying to be set on a copy of a slice from a DataFrame\n",
      "\n",
      "See the caveats in the documentation: http://pandas.pydata.org/pandas-docs/stable/indexing.html#indexing-view-versus-copy\n",
      "  errors=errors)\n"
     ]
    },
    {
     "name": "stdout",
     "output_type": "stream",
     "text": [
      "Found 42261 images belonging to 5 classes.\n",
      "Found 10566 images belonging to 5 classes.\n"
     ]
    },
    {
     "name": "stderr",
     "output_type": "stream",
     "text": [
      "/usr/share/anaconda3/lib/python3.6/site-packages/keras_applications/resnet50.py:265: UserWarning: The output shape of `ResNet50(include_top=False)` has been changed since Keras 2.2.0.\n",
      "  warnings.warn('The output shape of `ResNet50(include_top=False)` '\n"
     ]
    }
   ],
   "source": [
    "model_1, train_generator_1, val_generator_1, class_weights_1, STEP_SIZE_TRAIN_1, STEP_SIZE_VAL_1 = \\\n",
    "    build_model(model1_classes,\n",
    "                train_df_model_1,\n",
    "                x='filename',\n",
    "                y='y', \n",
    "                bs_train = 32, \n",
    "                lr = 1.1111,\n",
    "                H = H,\n",
    "                W = W,\n",
    "                n_channels = 3)"
   ]
  },
  {
   "cell_type": "code",
   "execution_count": 16,
   "metadata": {
    "scrolled": true
   },
   "outputs": [
    {
     "name": "stdout",
     "output_type": "stream",
     "text": [
      "Epoch 1/5\n",
      "1320/1320 [==============================] - 2145s 2s/step - loss: 2.2250 - acc: 0.8620 - val_loss: 2.2141 - val_acc: 0.8626\n",
      "\n",
      "Epoch 00001: val_acc improved from -inf to 0.86264, saving model to models/model1_best_weights.h5\n",
      "Epoch 2/5\n",
      "1320/1320 [==============================] - 2151s 2s/step - loss: 2.2245 - acc: 0.8620 - val_loss: 2.2186 - val_acc: 0.8624\n",
      "\n",
      "Epoch 00002: val_acc did not improve from 0.86264\n",
      "Epoch 3/5\n",
      "1320/1320 [==============================] - 2151s 2s/step - loss: 2.2239 - acc: 0.8620 - val_loss: 2.2248 - val_acc: 0.8620\n",
      "\n",
      "Epoch 00003: val_acc did not improve from 0.86264\n",
      "Epoch 4/5\n",
      "1320/1320 [==============================] - 2152s 2s/step - loss: 2.2241 - acc: 0.8620 - val_loss: 2.2447 - val_acc: 0.8607\n",
      "\n",
      "Epoch 00004: val_acc did not improve from 0.86264\n",
      "Epoch 5/5\n",
      "1320/1320 [==============================] - 2152s 2s/step - loss: 2.2199 - acc: 0.8623 - val_loss: 2.2232 - val_acc: 0.8621\n",
      "\n",
      "Epoch 00005: val_acc did not improve from 0.86264\n",
      "CPU times: user 1h 52min 4s, sys: 1h 9min 19s, total: 3h 1min 23s\n",
      "Wall time: 2h 59min 14s\n"
     ]
    }
   ],
   "source": [
    "%%time\n",
    "filepath_1=\"models/model1_best_weights.h5\"\n",
    "checkpoint_1 = ModelCheckpoint(filepath_1, monitor='val_acc', verbose=1, save_best_only=True, mode='max')\n",
    "callbacks_list_1 = [checkpoint_1]\n",
    "\n",
    "model_1.fit_generator(generator=train_generator_1,\n",
    "                    class_weight = class_weights_1,\n",
    "                    steps_per_epoch=STEP_SIZE_TRAIN_1,\n",
    "                    validation_data = val_generator_1,\n",
    "                    validation_steps = STEP_SIZE_VAL_1,\n",
    "                    epochs=model1_epochs,\n",
    "                    callbacks=callbacks_list_1\n",
    ")"
   ]
  },
  {
   "cell_type": "code",
   "execution_count": 22,
   "metadata": {},
   "outputs": [],
   "source": [
    "model_1.save('models/model_1.h5')\n",
    "model_1.save_weights('models/model_1_weights.h5')"
   ]
  },
  {
   "cell_type": "code",
   "execution_count": 14,
   "metadata": {},
   "outputs": [],
   "source": [
    "model_1 = load_model('models/model_1.h5')\n",
    "model_1_best_weights = load_model(\"models/model1_best_weights.h5\")"
   ]
  },
  {
   "cell_type": "markdown",
   "metadata": {},
   "source": [
    "#### Model Evaluation\n",
    "First we evaluate the models with the RGB test data."
   ]
  },
  {
   "cell_type": "code",
   "execution_count": 18,
   "metadata": {
    "colab": {},
    "colab_type": "code",
    "id": "VHAH3RKJtGfF"
   },
   "outputs": [
    {
     "name": "stdout",
     "output_type": "stream",
     "text": [
      "CPU times: user 34min 3s, sys: 5min 13s, total: 39min 17s\n",
      "Wall time: 20min 12s\n"
     ]
    }
   ],
   "source": [
    "%%time\n",
    "model_1_train_metrics, model_1_test_metrics = evaluate_train_test(model_1, \n",
    "                                                                  train_generator_1, \n",
    "                                                                  STEP_SIZE_TRAIN_1, \n",
    "                                                                  test_gens[1])"
   ]
  },
  {
   "cell_type": "code",
   "execution_count": 23,
   "metadata": {},
   "outputs": [
    {
     "name": "stdout",
     "output_type": "stream",
     "text": [
      "CPU times: user 34min 39s, sys: 5min 5s, total: 39min 45s\n",
      "Wall time: 20min 30s\n"
     ]
    }
   ],
   "source": [
    "%%time\n",
    "model_1_bw_train_metrics, model_1_bw_test_metrics = evaluate_train_test(model_1_best_weights, \n",
    "                                                                        train_generator_1, \n",
    "                                                                        STEP_SIZE_TRAIN_1, \n",
    "                                                                        test_gens[1])"
   ]
  },
  {
   "cell_type": "code",
   "execution_count": 24,
   "metadata": {},
   "outputs": [
    {
     "data": {
      "text/html": [
       "<div>\n",
       "<style scoped>\n",
       "    .dataframe tbody tr th:only-of-type {\n",
       "        vertical-align: middle;\n",
       "    }\n",
       "\n",
       "    .dataframe tbody tr th {\n",
       "        vertical-align: top;\n",
       "    }\n",
       "\n",
       "    .dataframe thead th {\n",
       "        text-align: right;\n",
       "    }\n",
       "</style>\n",
       "<table border=\"1\" class=\"dataframe\">\n",
       "  <thead>\n",
       "    <tr style=\"text-align: right;\">\n",
       "      <th></th>\n",
       "      <th>Model</th>\n",
       "      <th>training loss</th>\n",
       "      <th>training acc</th>\n",
       "      <th>test loss</th>\n",
       "      <th>test acc</th>\n",
       "    </tr>\n",
       "  </thead>\n",
       "  <tbody>\n",
       "    <tr>\n",
       "      <th>0</th>\n",
       "      <td>Model 1</td>\n",
       "      <td>2.228266</td>\n",
       "      <td>0.861754</td>\n",
       "      <td>2.102360</td>\n",
       "      <td>0.869565</td>\n",
       "    </tr>\n",
       "    <tr>\n",
       "      <th>1</th>\n",
       "      <td>Best Weights Model 1</td>\n",
       "      <td>2.222922</td>\n",
       "      <td>0.862085</td>\n",
       "      <td>2.101311</td>\n",
       "      <td>0.869630</td>\n",
       "    </tr>\n",
       "  </tbody>\n",
       "</table>\n",
       "</div>"
      ],
      "text/plain": [
       "                  Model  training loss  training acc  test loss  test acc\n",
       "0               Model 1       2.228266      0.861754   2.102360  0.869565\n",
       "1  Best Weights Model 1       2.222922      0.862085   2.101311  0.869630"
      ]
     },
     "metadata": {},
     "output_type": "display_data"
    }
   ],
   "source": [
    "model_1_results = pretty_metrics(1, model_1_train_metrics, \n",
    "                                 model_1_test_metrics, \n",
    "                                 model_1_bw_train_metrics, \n",
    "                                 model_1_bw_test_metrics)\n",
    "display(model_1_results)"
   ]
  },
  {
   "cell_type": "markdown",
   "metadata": {},
   "source": [
    "Now we evaluate the model only on the grayscale test data. Again, the results are identical to the RGB image results."
   ]
  },
  {
   "cell_type": "code",
   "execution_count": 15,
   "metadata": {},
   "outputs": [
    {
     "name": "stdout",
     "output_type": "stream",
     "text": [
      "CPU times: user 39min 5s, sys: 4min 16s, total: 43min 22s\n",
      "Wall time: 20min 15s\n"
     ]
    }
   ],
   "source": [
    "%%time\n",
    "_ , model_1_gray_test = evaluate_train_test(model_1, test_gen=test_gens_gray[1])\n",
    "_ , bw_model_1_gray_test = evaluate_train_test(model_1_best_weights, test_gen=test_gens_gray[1])"
   ]
  },
  {
   "cell_type": "code",
   "execution_count": 16,
   "metadata": {},
   "outputs": [
    {
     "data": {
      "text/html": [
       "<div>\n",
       "<style scoped>\n",
       "    .dataframe tbody tr th:only-of-type {\n",
       "        vertical-align: middle;\n",
       "    }\n",
       "\n",
       "    .dataframe tbody tr th {\n",
       "        vertical-align: top;\n",
       "    }\n",
       "\n",
       "    .dataframe thead th {\n",
       "        text-align: right;\n",
       "    }\n",
       "</style>\n",
       "<table border=\"1\" class=\"dataframe\">\n",
       "  <thead>\n",
       "    <tr style=\"text-align: right;\">\n",
       "      <th></th>\n",
       "      <th>metric</th>\n",
       "      <th>Model 1</th>\n",
       "      <th>Model 1 Best Weights</th>\n",
       "    </tr>\n",
       "  </thead>\n",
       "  <tbody>\n",
       "    <tr>\n",
       "      <th>0</th>\n",
       "      <td>test loss</td>\n",
       "      <td>2.102360</td>\n",
       "      <td>2.101311</td>\n",
       "    </tr>\n",
       "    <tr>\n",
       "      <th>1</th>\n",
       "      <td>test acc</td>\n",
       "      <td>0.869565</td>\n",
       "      <td>0.869630</td>\n",
       "    </tr>\n",
       "  </tbody>\n",
       "</table>\n",
       "</div>"
      ],
      "text/plain": [
       "      metric   Model 1  Model 1 Best Weights\n",
       "0  test loss  2.102360              2.101311\n",
       "1   test acc  0.869565              0.869630"
      ]
     },
     "execution_count": 16,
     "metadata": {},
     "output_type": "execute_result"
    }
   ],
   "source": [
    "pd.DataFrame({'metric': ['test loss', 'test acc'],\n",
    "              'Model 1':model_1_gray_test, \n",
    "              'Model 1 Best Weights':bw_model_1_gray_test})"
   ]
  },
  {
   "cell_type": "markdown",
   "metadata": {
    "colab_type": "text",
    "id": "daqXWrW0a30a"
   },
   "source": [
    "### Model 2: Classification of Abnormalities (Classes 1 to 4)"
   ]
  },
  {
   "cell_type": "code",
   "execution_count": 26,
   "metadata": {
    "colab": {},
    "colab_type": "code",
    "id": "1Xowi9DJa30n",
    "outputId": "f965ab06-048c-4a21-b022-330cf3f0653b"
   },
   "outputs": [
    {
     "name": "stderr",
     "output_type": "stream",
     "text": [
      "/usr/share/anaconda3/lib/python3.6/site-packages/pandas/core/frame.py:3697: SettingWithCopyWarning: \n",
      "A value is trying to be set on a copy of a slice from a DataFrame\n",
      "\n",
      "See the caveats in the documentation: http://pandas.pydata.org/pandas-docs/stable/indexing.html#indexing-view-versus-copy\n",
      "  errors=errors)\n"
     ]
    },
    {
     "name": "stdout",
     "output_type": "stream",
     "text": [
      "Found 5831 images belonging to 4 classes.\n",
      "Found 1458 images belonging to 4 classes.\n"
     ]
    },
    {
     "name": "stderr",
     "output_type": "stream",
     "text": [
      "/usr/share/anaconda3/lib/python3.6/site-packages/keras_applications/resnet50.py:265: UserWarning: The output shape of `ResNet50(include_top=False)` has been changed since Keras 2.2.0.\n",
      "  warnings.warn('The output shape of `ResNet50(include_top=False)` '\n"
     ]
    }
   ],
   "source": [
    "model_2, train_generator_2, val_generator_2, class_weights_2, STEP_SIZE_TRAIN_2, STEP_SIZE_VAL_2 = \\\n",
    "    build_model(model2_classes,\n",
    "                train_df_model_2,\n",
    "                x='filename',\n",
    "                y='y', \n",
    "                bs_train = 32, \n",
    "                lr = 0.0001,\n",
    "                H = H,\n",
    "                W = W, \n",
    "                n_channels = 3)"
   ]
  },
  {
   "cell_type": "code",
   "execution_count": 27,
   "metadata": {
    "scrolled": true
   },
   "outputs": [
    {
     "name": "stdout",
     "output_type": "stream",
     "text": [
      "Epoch 1/15\n",
      "182/182 [==============================] - 330s 2s/step - loss: 1.0111 - acc: 0.5601 - val_loss: 1.3160 - val_acc: 0.3424\n",
      "\n",
      "Epoch 00001: val_acc improved from -inf to 0.34236, saving model to models/model2_best_weights.h5\n",
      "Epoch 2/15\n",
      "182/182 [==============================] - 308s 2s/step - loss: 0.6354 - acc: 0.7428 - val_loss: 1.5114 - val_acc: 0.3219\n",
      "\n",
      "Epoch 00002: val_acc did not improve from 0.34236\n",
      "Epoch 3/15\n",
      "182/182 [==============================] - 306s 2s/step - loss: 0.3922 - acc: 0.8487 - val_loss: 2.7599 - val_acc: 0.2489\n",
      "\n",
      "Epoch 00003: val_acc did not improve from 0.34236\n",
      "Epoch 4/15\n",
      "182/182 [==============================] - 306s 2s/step - loss: 0.2265 - acc: 0.9207 - val_loss: 1.8864 - val_acc: 0.3815\n",
      "\n",
      "Epoch 00004: val_acc improved from 0.34236 to 0.38149, saving model to models/model2_best_weights.h5\n",
      "Epoch 5/15\n",
      "182/182 [==============================] - 305s 2s/step - loss: 0.1558 - acc: 0.9470 - val_loss: 3.0370 - val_acc: 0.2735\n",
      "\n",
      "Epoch 00005: val_acc did not improve from 0.38149\n",
      "Epoch 6/15\n",
      "182/182 [==============================] - 305s 2s/step - loss: 0.0824 - acc: 0.9726 - val_loss: 2.7151 - val_acc: 0.3422\n",
      "\n",
      "Epoch 00006: val_acc did not improve from 0.38149\n",
      "Epoch 7/15\n",
      "182/182 [==============================] - 305s 2s/step - loss: 0.1374 - acc: 0.9528 - val_loss: 2.1769 - val_acc: 0.2994\n",
      "\n",
      "Epoch 00007: val_acc did not improve from 0.38149\n",
      "Epoch 8/15\n",
      "182/182 [==============================] - 305s 2s/step - loss: 0.1327 - acc: 0.9539 - val_loss: 2.1022 - val_acc: 0.3927\n",
      "\n",
      "Epoch 00008: val_acc improved from 0.38149 to 0.39271, saving model to models/model2_best_weights.h5\n",
      "Epoch 9/15\n",
      "182/182 [==============================] - 306s 2s/step - loss: 0.0810 - acc: 0.9723 - val_loss: 2.4061 - val_acc: 0.4327\n",
      "\n",
      "Epoch 00009: val_acc improved from 0.39271 to 0.43268, saving model to models/model2_best_weights.h5\n",
      "Epoch 10/15\n",
      "182/182 [==============================] - 306s 2s/step - loss: 0.0642 - acc: 0.9784 - val_loss: 3.2328 - val_acc: 0.3836\n",
      "\n",
      "Epoch 00010: val_acc did not improve from 0.43268\n",
      "Epoch 11/15\n",
      "182/182 [==============================] - 305s 2s/step - loss: 0.0382 - acc: 0.9883 - val_loss: 3.7338 - val_acc: 0.4158\n",
      "\n",
      "Epoch 00011: val_acc did not improve from 0.43268\n",
      "Epoch 12/15\n",
      "182/182 [==============================] - 306s 2s/step - loss: 0.0517 - acc: 0.9823 - val_loss: 2.7450 - val_acc: 0.3548\n",
      "\n",
      "Epoch 00012: val_acc did not improve from 0.43268\n",
      "Epoch 13/15\n",
      "182/182 [==============================] - 306s 2s/step - loss: 0.1056 - acc: 0.9638 - val_loss: 2.4232 - val_acc: 0.3801\n",
      "\n",
      "Epoch 00013: val_acc did not improve from 0.43268\n",
      "Epoch 14/15\n",
      "182/182 [==============================] - 305s 2s/step - loss: 0.0350 - acc: 0.9895 - val_loss: 3.0119 - val_acc: 0.3955\n",
      "\n",
      "Epoch 00014: val_acc did not improve from 0.43268\n",
      "Epoch 15/15\n",
      "182/182 [==============================] - 306s 2s/step - loss: 0.0561 - acc: 0.9809 - val_loss: 3.1049 - val_acc: 0.3478\n",
      "\n",
      "Epoch 00015: val_acc did not improve from 0.43268\n",
      "CPU times: user 1h 3s, sys: 17min 43s, total: 1h 17min 47s\n",
      "Wall time: 1h 17min 13s\n"
     ]
    }
   ],
   "source": [
    "%%time\n",
    "filepath_2=\"models/model2_best_weights.h5\"\n",
    "checkpoint_2 = ModelCheckpoint(filepath_2, monitor='val_acc', verbose=1, save_best_only=True, mode='max')\n",
    "callbacks_list_2 = [checkpoint_2]\n",
    "\n",
    "model_2.fit_generator(generator=train_generator_2,\n",
    "                    class_weight = class_weights_2,\n",
    "                    steps_per_epoch=STEP_SIZE_TRAIN_2,\n",
    "                    validation_data = val_generator_2,\n",
    "                    validation_steps = STEP_SIZE_VAL_2,\n",
    "                    epochs=model2_epochs,\n",
    "                    callbacks=callbacks_list_2\n",
    "\n",
    ")"
   ]
  },
  {
   "cell_type": "code",
   "execution_count": 28,
   "metadata": {},
   "outputs": [],
   "source": [
    "model_2.save('models/model_2.h5')\n",
    "model_2.save_weights('models/model_2_weights.h5')"
   ]
  },
  {
   "cell_type": "code",
   "execution_count": 17,
   "metadata": {},
   "outputs": [],
   "source": [
    "model_2 = load_model('models/model_2.h5')\n",
    "model_2_best_weights = load_model(\"models/model2_best_weights.h5\")"
   ]
  },
  {
   "cell_type": "markdown",
   "metadata": {},
   "source": [
    "#### Model 2 Evaluation"
   ]
  },
  {
   "cell_type": "code",
   "execution_count": 29,
   "metadata": {},
   "outputs": [
    {
     "name": "stdout",
     "output_type": "stream",
     "text": [
      "CPU times: user 4min 55s, sys: 42.3 s, total: 5min 37s\n",
      "Wall time: 2min 53s\n"
     ]
    }
   ],
   "source": [
    "%%time\n",
    "model_2_train_metrics, model_2_test_metrics = evaluate_train_test(model_2, \n",
    "                                                                  train_generator_2, \n",
    "                                                                  STEP_SIZE_TRAIN_2, \n",
    "                                                                  test_gens[2])"
   ]
  },
  {
   "cell_type": "code",
   "execution_count": 30,
   "metadata": {},
   "outputs": [
    {
     "name": "stdout",
     "output_type": "stream",
     "text": [
      "CPU times: user 5min 6s, sys: 43.2 s, total: 5min 49s\n",
      "Wall time: 3min 4s\n"
     ]
    }
   ],
   "source": [
    "%%time\n",
    "model_2_bw_train_metrics, model_2_bw_test_metrics = evaluate_train_test(model_2_best_weights, \n",
    "                                                                        train_generator_2, \n",
    "                                                                        STEP_SIZE_TRAIN_2, \n",
    "                                                                        test_gens[2])"
   ]
  },
  {
   "cell_type": "code",
   "execution_count": 31,
   "metadata": {},
   "outputs": [
    {
     "data": {
      "text/html": [
       "<div>\n",
       "<style scoped>\n",
       "    .dataframe tbody tr th:only-of-type {\n",
       "        vertical-align: middle;\n",
       "    }\n",
       "\n",
       "    .dataframe tbody tr th {\n",
       "        vertical-align: top;\n",
       "    }\n",
       "\n",
       "    .dataframe thead th {\n",
       "        text-align: right;\n",
       "    }\n",
       "</style>\n",
       "<table border=\"1\" class=\"dataframe\">\n",
       "  <thead>\n",
       "    <tr style=\"text-align: right;\">\n",
       "      <th></th>\n",
       "      <th>Model</th>\n",
       "      <th>training loss</th>\n",
       "      <th>training acc</th>\n",
       "      <th>test loss</th>\n",
       "      <th>test acc</th>\n",
       "    </tr>\n",
       "  </thead>\n",
       "  <tbody>\n",
       "    <tr>\n",
       "      <th>0</th>\n",
       "      <td>Model 2</td>\n",
       "      <td>1.448646</td>\n",
       "      <td>0.556820</td>\n",
       "      <td>2.917260</td>\n",
       "      <td>0.258982</td>\n",
       "    </tr>\n",
       "    <tr>\n",
       "      <th>1</th>\n",
       "      <td>Best Weights Model 2</td>\n",
       "      <td>1.583237</td>\n",
       "      <td>0.550785</td>\n",
       "      <td>2.279989</td>\n",
       "      <td>0.265469</td>\n",
       "    </tr>\n",
       "  </tbody>\n",
       "</table>\n",
       "</div>"
      ],
      "text/plain": [
       "                  Model  training loss  training acc  test loss  test acc\n",
       "0               Model 2       1.448646      0.556820   2.917260  0.258982\n",
       "1  Best Weights Model 2       1.583237      0.550785   2.279989  0.265469"
      ]
     },
     "metadata": {},
     "output_type": "display_data"
    }
   ],
   "source": [
    "model_2_results = pretty_metrics(2, model_2_train_metrics, \n",
    "                                 model_2_test_metrics, \n",
    "                                 model_2_bw_train_metrics, \n",
    "                                 model_2_bw_test_metrics)\n",
    "display(model_2_results)"
   ]
  },
  {
   "cell_type": "markdown",
   "metadata": {},
   "source": [
    "Now we evaluate the model only on the grayscale test data. Again, the results are identical to the RGB image results."
   ]
  },
  {
   "cell_type": "code",
   "execution_count": 18,
   "metadata": {},
   "outputs": [
    {
     "name": "stdout",
     "output_type": "stream",
     "text": [
      "CPU times: user 5min 54s, sys: 33.1 s, total: 6min 27s\n",
      "Wall time: 3min 15s\n"
     ]
    }
   ],
   "source": [
    "%%time\n",
    "_ , model_2_gray_test = evaluate_train_test(model_2, test_gen=test_gens_gray[2])\n",
    "_ , bw_model_2_gray_test = evaluate_train_test(model_2_best_weights, test_gen=test_gens_gray[2])"
   ]
  },
  {
   "cell_type": "code",
   "execution_count": 19,
   "metadata": {},
   "outputs": [
    {
     "data": {
      "text/html": [
       "<div>\n",
       "<style scoped>\n",
       "    .dataframe tbody tr th:only-of-type {\n",
       "        vertical-align: middle;\n",
       "    }\n",
       "\n",
       "    .dataframe tbody tr th {\n",
       "        vertical-align: top;\n",
       "    }\n",
       "\n",
       "    .dataframe thead th {\n",
       "        text-align: right;\n",
       "    }\n",
       "</style>\n",
       "<table border=\"1\" class=\"dataframe\">\n",
       "  <thead>\n",
       "    <tr style=\"text-align: right;\">\n",
       "      <th></th>\n",
       "      <th>metric</th>\n",
       "      <th>Model 2</th>\n",
       "      <th>Model 2 Best Weights</th>\n",
       "    </tr>\n",
       "  </thead>\n",
       "  <tbody>\n",
       "    <tr>\n",
       "      <th>0</th>\n",
       "      <td>test loss</td>\n",
       "      <td>2.917260</td>\n",
       "      <td>2.279989</td>\n",
       "    </tr>\n",
       "    <tr>\n",
       "      <th>1</th>\n",
       "      <td>test acc</td>\n",
       "      <td>0.258982</td>\n",
       "      <td>0.265469</td>\n",
       "    </tr>\n",
       "  </tbody>\n",
       "</table>\n",
       "</div>"
      ],
      "text/plain": [
       "      metric   Model 2  Model 2 Best Weights\n",
       "0  test loss  2.917260              2.279989\n",
       "1   test acc  0.258982              0.265469"
      ]
     },
     "execution_count": 19,
     "metadata": {},
     "output_type": "execute_result"
    }
   ],
   "source": [
    "pd.DataFrame({'metric': ['test loss', 'test acc'],\n",
    "              'Model 2':model_2_gray_test, \n",
    "              'Model 2 Best Weights':bw_model_2_gray_test})"
   ]
  },
  {
   "cell_type": "markdown",
   "metadata": {
    "colab_type": "text",
    "id": "i1mAhPB8a31E"
   },
   "source": [
    "### Model 3: Normal vs Abnormal (Class 0 vs 1-4)"
   ]
  },
  {
   "cell_type": "code",
   "execution_count": 35,
   "metadata": {
    "colab": {},
    "colab_type": "code",
    "id": "1Xowi9DJa30n",
    "outputId": "f965ab06-048c-4a21-b022-330cf3f0653b"
   },
   "outputs": [
    {
     "name": "stderr",
     "output_type": "stream",
     "text": [
      "/usr/share/anaconda3/lib/python3.6/site-packages/pandas/core/frame.py:3697: SettingWithCopyWarning: \n",
      "A value is trying to be set on a copy of a slice from a DataFrame\n",
      "\n",
      "See the caveats in the documentation: http://pandas.pydata.org/pandas-docs/stable/indexing.html#indexing-view-versus-copy\n",
      "  errors=errors)\n"
     ]
    },
    {
     "name": "stdout",
     "output_type": "stream",
     "text": [
      "Found 42261 images belonging to 2 classes.\n",
      "Found 10566 images belonging to 2 classes.\n"
     ]
    },
    {
     "name": "stderr",
     "output_type": "stream",
     "text": [
      "/usr/share/anaconda3/lib/python3.6/site-packages/keras_applications/resnet50.py:265: UserWarning: The output shape of `ResNet50(include_top=False)` has been changed since Keras 2.2.0.\n",
      "  warnings.warn('The output shape of `ResNet50(include_top=False)` '\n"
     ]
    }
   ],
   "source": [
    "model_3, train_generator_3, val_generator_3, class_weights_3, STEP_SIZE_TRAIN_3, STEP_SIZE_VAL_3 = \\\n",
    "    build_model(model3_classes,\n",
    "                train_df_model_3,\n",
    "                x='filename',\n",
    "                y='y', \n",
    "                bs_train = 32, \n",
    "                lr = 0.0001,\n",
    "                H = H,\n",
    "                W = W, \n",
    "                n_channels = 3)"
   ]
  },
  {
   "cell_type": "code",
   "execution_count": 36,
   "metadata": {},
   "outputs": [
    {
     "name": "stdout",
     "output_type": "stream",
     "text": [
      "Epoch 1/5\n",
      "1320/1320 [==============================] - 2178s 2s/step - loss: 0.1021 - acc: 0.9594 - val_loss: 0.4948 - val_acc: 0.7299\n",
      "\n",
      "Epoch 00001: val_acc improved from -inf to 0.72992, saving model to models/model3_best_weights.h5\n",
      "Epoch 2/5\n",
      "1320/1320 [==============================] - 2134s 2s/step - loss: 0.0534 - acc: 0.9803 - val_loss: 1.7098 - val_acc: 0.4560\n",
      "\n",
      "Epoch 00002: val_acc did not improve from 0.72992\n",
      "Epoch 3/5\n",
      "1320/1320 [==============================] - 2129s 2s/step - loss: 0.0397 - acc: 0.9851 - val_loss: 0.1826 - val_acc: 0.9293\n",
      "\n",
      "Epoch 00003: val_acc improved from 0.72992 to 0.92928, saving model to models/model3_best_weights.h5\n",
      "Epoch 4/5\n",
      "1320/1320 [==============================] - 2130s 2s/step - loss: 0.0306 - acc: 0.9887 - val_loss: 0.5380 - val_acc: 0.6830\n",
      "\n",
      "Epoch 00004: val_acc did not improve from 0.92928\n",
      "Epoch 5/5\n",
      "1320/1320 [==============================] - 2131s 2s/step - loss: 0.0220 - acc: 0.9923 - val_loss: 0.1018 - val_acc: 0.9639\n",
      "\n",
      "Epoch 00005: val_acc improved from 0.92928 to 0.96393, saving model to models/model3_best_weights.h5\n",
      "CPU times: user 1h 55min, sys: 1h 7min 33s, total: 3h 2min 34s\n",
      "Wall time: 2h 58min 48s\n"
     ]
    }
   ],
   "source": [
    "%%time\n",
    "filepath_3=\"models/model3_best_weights.h5\"\n",
    "checkpoint_3 = ModelCheckpoint(filepath_3, monitor='val_acc', verbose=1, save_best_only=True, mode='max')\n",
    "callbacks_list_3 = [checkpoint_3]\n",
    "\n",
    "model_3.fit_generator(generator=train_generator_3,\n",
    "                    class_weight = class_weights_3,\n",
    "                    steps_per_epoch=STEP_SIZE_TRAIN_3,\n",
    "                    validation_data = val_generator_3,\n",
    "                    validation_steps = STEP_SIZE_VAL_3,\n",
    "                    epochs=model3_epochs,\n",
    "                    callbacks=callbacks_list_3\n",
    ")"
   ]
  },
  {
   "cell_type": "code",
   "execution_count": 37,
   "metadata": {},
   "outputs": [],
   "source": [
    "model_3.save('models/model_3.h5')\n",
    "model_3.save_weights('models/model_3_weights.h5')"
   ]
  },
  {
   "cell_type": "code",
   "execution_count": 20,
   "metadata": {},
   "outputs": [],
   "source": [
    "model_3 = load_model('models/model_3.h5')\n",
    "model_3_best_weights = load_model(\"models/model3_best_weights.h5\")"
   ]
  },
  {
   "cell_type": "markdown",
   "metadata": {},
   "source": [
    "#### Model 3 Evaluation"
   ]
  },
  {
   "cell_type": "code",
   "execution_count": 38,
   "metadata": {},
   "outputs": [
    {
     "name": "stdout",
     "output_type": "stream",
     "text": [
      "CPU times: user 39min 57s, sys: 4min 39s, total: 44min 37s\n",
      "Wall time: 22min 40s\n"
     ]
    }
   ],
   "source": [
    "%%time\n",
    "model_3_train_metrics, model_3_test_metrics = evaluate_train_test(model_3, \n",
    "                                                                  train_generator_3, \n",
    "                                                                  STEP_SIZE_TRAIN_3, \n",
    "                                                                  test_gens[3])"
   ]
  },
  {
   "cell_type": "code",
   "execution_count": 39,
   "metadata": {
    "scrolled": true
   },
   "outputs": [
    {
     "name": "stdout",
     "output_type": "stream",
     "text": [
      "CPU times: user 39min 53s, sys: 4min 45s, total: 44min 38s\n",
      "Wall time: 22min 55s\n"
     ]
    }
   ],
   "source": [
    "%%time\n",
    "model_3_bw_train_metrics, model_3_bw_test_metrics = evaluate_train_test(model_3_best_weights, \n",
    "                                                                        train_generator_3, \n",
    "                                                                        STEP_SIZE_TRAIN_3, \n",
    "                                                                        test_gens[3])"
   ]
  },
  {
   "cell_type": "code",
   "execution_count": 40,
   "metadata": {},
   "outputs": [
    {
     "data": {
      "text/html": [
       "<div>\n",
       "<style scoped>\n",
       "    .dataframe tbody tr th:only-of-type {\n",
       "        vertical-align: middle;\n",
       "    }\n",
       "\n",
       "    .dataframe tbody tr th {\n",
       "        vertical-align: top;\n",
       "    }\n",
       "\n",
       "    .dataframe thead th {\n",
       "        text-align: right;\n",
       "    }\n",
       "</style>\n",
       "<table border=\"1\" class=\"dataframe\">\n",
       "  <thead>\n",
       "    <tr style=\"text-align: right;\">\n",
       "      <th></th>\n",
       "      <th>Model</th>\n",
       "      <th>training loss</th>\n",
       "      <th>training acc</th>\n",
       "      <th>test loss</th>\n",
       "      <th>test acc</th>\n",
       "    </tr>\n",
       "  </thead>\n",
       "  <tbody>\n",
       "    <tr>\n",
       "      <th>0</th>\n",
       "      <td>Model 3</td>\n",
       "      <td>0.065287</td>\n",
       "      <td>0.974922</td>\n",
       "      <td>2.337368</td>\n",
       "      <td>0.752603</td>\n",
       "    </tr>\n",
       "    <tr>\n",
       "      <th>1</th>\n",
       "      <td>Best Weights Model 3</td>\n",
       "      <td>0.065781</td>\n",
       "      <td>0.974804</td>\n",
       "      <td>2.338943</td>\n",
       "      <td>0.752473</td>\n",
       "    </tr>\n",
       "  </tbody>\n",
       "</table>\n",
       "</div>"
      ],
      "text/plain": [
       "                  Model  training loss  training acc  test loss  test acc\n",
       "0               Model 3       0.065287      0.974922   2.337368  0.752603\n",
       "1  Best Weights Model 3       0.065781      0.974804   2.338943  0.752473"
      ]
     },
     "metadata": {},
     "output_type": "display_data"
    }
   ],
   "source": [
    "model_3_results = pretty_metrics(3, model_3_train_metrics, \n",
    "                                 model_3_test_metrics, \n",
    "                                 model_3_bw_train_metrics, \n",
    "                                 model_3_bw_test_metrics)\n",
    "display(model_3_results)"
   ]
  },
  {
   "cell_type": "markdown",
   "metadata": {},
   "source": [
    "Now we evaluate the model only on the grayscale test data. Again, the results are identical to the RGB image results."
   ]
  },
  {
   "cell_type": "code",
   "execution_count": 21,
   "metadata": {},
   "outputs": [
    {
     "name": "stdout",
     "output_type": "stream",
     "text": [
      "CPU times: user 44min 53s, sys: 4min 15s, total: 49min 9s\n",
      "Wall time: 23min 26s\n"
     ]
    }
   ],
   "source": [
    "%%time\n",
    "_ , model_3_gray_test = evaluate_train_test(model_3, test_gen=test_gens_gray[3])\n",
    "_ , bw_model_3_gray_test = evaluate_train_test(model_3_best_weights, test_gen=test_gens_gray[3])"
   ]
  },
  {
   "cell_type": "code",
   "execution_count": 22,
   "metadata": {},
   "outputs": [
    {
     "data": {
      "text/html": [
       "<div>\n",
       "<style scoped>\n",
       "    .dataframe tbody tr th:only-of-type {\n",
       "        vertical-align: middle;\n",
       "    }\n",
       "\n",
       "    .dataframe tbody tr th {\n",
       "        vertical-align: top;\n",
       "    }\n",
       "\n",
       "    .dataframe thead th {\n",
       "        text-align: right;\n",
       "    }\n",
       "</style>\n",
       "<table border=\"1\" class=\"dataframe\">\n",
       "  <thead>\n",
       "    <tr style=\"text-align: right;\">\n",
       "      <th></th>\n",
       "      <th>metric</th>\n",
       "      <th>Model 3</th>\n",
       "      <th>Model 3 Best Weights</th>\n",
       "    </tr>\n",
       "  </thead>\n",
       "  <tbody>\n",
       "    <tr>\n",
       "      <th>0</th>\n",
       "      <td>test loss</td>\n",
       "      <td>2.337312</td>\n",
       "      <td>2.338439</td>\n",
       "    </tr>\n",
       "    <tr>\n",
       "      <th>1</th>\n",
       "      <td>test acc</td>\n",
       "      <td>0.752669</td>\n",
       "      <td>0.752603</td>\n",
       "    </tr>\n",
       "  </tbody>\n",
       "</table>\n",
       "</div>"
      ],
      "text/plain": [
       "      metric   Model 3  Model 3 Best Weights\n",
       "0  test loss  2.337312              2.338439\n",
       "1   test acc  0.752669              0.752603"
      ]
     },
     "execution_count": 22,
     "metadata": {},
     "output_type": "execute_result"
    }
   ],
   "source": [
    "pd.DataFrame({'metric': ['test loss', 'test acc'],\n",
    "              'Model 3':model_3_gray_test, \n",
    "              'Model 3 Best Weights':bw_model_3_gray_test})"
   ]
  },
  {
   "cell_type": "markdown",
   "metadata": {
    "colab_type": "text",
    "id": "Z8kiVZUua31G"
   },
   "source": [
    "### Model 4: Benign vs Malignant Calcification"
   ]
  },
  {
   "cell_type": "code",
   "execution_count": 35,
   "metadata": {
    "colab": {},
    "colab_type": "code",
    "id": "ZexO8-9Ca31R",
    "outputId": "9a0ac7c0-6fd2-41b7-f5b4-8bf0ba7fff4e"
   },
   "outputs": [
    {
     "name": "stderr",
     "output_type": "stream",
     "text": [
      "/usr/share/anaconda3/lib/python3.6/site-packages/pandas/core/frame.py:3697: SettingWithCopyWarning: \n",
      "A value is trying to be set on a copy of a slice from a DataFrame\n",
      "\n",
      "See the caveats in the documentation: http://pandas.pydata.org/pandas-docs/stable/indexing.html#indexing-view-versus-copy\n",
      "  errors=errors)\n"
     ]
    },
    {
     "name": "stdout",
     "output_type": "stream",
     "text": [
      "Found 2852 images belonging to 2 classes.\n",
      "Found 714 images belonging to 2 classes.\n"
     ]
    },
    {
     "name": "stderr",
     "output_type": "stream",
     "text": [
      "/usr/share/anaconda3/lib/python3.6/site-packages/keras_applications/resnet50.py:265: UserWarning: The output shape of `ResNet50(include_top=False)` has been changed since Keras 2.2.0.\n",
      "  warnings.warn('The output shape of `ResNet50(include_top=False)` '\n"
     ]
    }
   ],
   "source": [
    "model_4, train_generator_4, val_generator_4, class_weights_4, STEP_SIZE_TRAIN_4, STEP_SIZE_VAL_4 = \\\n",
    "    build_model(model4_classes,\n",
    "                train_df_model_4,\n",
    "                x='filename',\n",
    "                y='y', \n",
    "                bs_train = 32, \n",
    "                lr = 0.0001,\n",
    "                H = H,\n",
    "                W = W, \n",
    "                n_channels = 3)"
   ]
  },
  {
   "cell_type": "code",
   "execution_count": 36,
   "metadata": {
    "scrolled": true
   },
   "outputs": [
    {
     "name": "stdout",
     "output_type": "stream",
     "text": [
      "Epoch 1/15\n",
      "89/89 [==============================] - 195s 2s/step - loss: 0.6529 - acc: 0.6310 - val_loss: 1.4264 - val_acc: 0.6151\n",
      "\n",
      "Epoch 00001: val_acc improved from -inf to 0.61506, saving model to models/model4_best_weights.h5\n",
      "Epoch 2/15\n",
      "89/89 [==============================] - 149s 2s/step - loss: 0.4623 - acc: 0.7749 - val_loss: 1.0198 - val_acc: 0.5777\n",
      "\n",
      "Epoch 00002: val_acc did not improve from 0.61506\n",
      "Epoch 3/15\n",
      "89/89 [==============================] - 149s 2s/step - loss: 0.2559 - acc: 0.8975 - val_loss: 1.3097 - val_acc: 0.4868\n",
      "\n",
      "Epoch 00003: val_acc did not improve from 0.61506\n",
      "Epoch 4/15\n",
      "89/89 [==============================] - 149s 2s/step - loss: 0.2087 - acc: 0.9150 - val_loss: 1.3952 - val_acc: 0.6232\n",
      "\n",
      "Epoch 00004: val_acc improved from 0.61506 to 0.62317, saving model to models/model4_best_weights.h5\n",
      "Epoch 5/15\n",
      "89/89 [==============================] - 149s 2s/step - loss: 0.1237 - acc: 0.9561 - val_loss: 2.5044 - val_acc: 0.6232\n",
      "\n",
      "Epoch 00005: val_acc improved from 0.62317 to 0.62317, saving model to models/model4_best_weights.h5\n",
      "Epoch 6/15\n",
      "89/89 [==============================] - 149s 2s/step - loss: 0.1640 - acc: 0.9414 - val_loss: 3.9844 - val_acc: 0.5792\n",
      "\n",
      "Epoch 00006: val_acc did not improve from 0.62317\n",
      "Epoch 7/15\n",
      "89/89 [==============================] - 149s 2s/step - loss: 0.1075 - acc: 0.9596 - val_loss: 0.9756 - val_acc: 0.6540\n",
      "\n",
      "Epoch 00007: val_acc improved from 0.62317 to 0.65396, saving model to models/model4_best_weights.h5\n",
      "Epoch 8/15\n",
      "89/89 [==============================] - 149s 2s/step - loss: 0.0559 - acc: 0.9831 - val_loss: 1.1602 - val_acc: 0.7038\n",
      "\n",
      "Epoch 00008: val_acc improved from 0.65396 to 0.70381, saving model to models/model4_best_weights.h5\n",
      "Epoch 9/15\n",
      "89/89 [==============================] - 149s 2s/step - loss: 0.0702 - acc: 0.9789 - val_loss: 1.1903 - val_acc: 0.6613\n",
      "\n",
      "Epoch 00009: val_acc did not improve from 0.70381\n",
      "Epoch 10/15\n",
      "89/89 [==============================] - 149s 2s/step - loss: 0.0586 - acc: 0.9803 - val_loss: 1.3737 - val_acc: 0.6173\n",
      "\n",
      "Epoch 00010: val_acc did not improve from 0.70381\n",
      "Epoch 11/15\n",
      "89/89 [==============================] - 149s 2s/step - loss: 0.0581 - acc: 0.9782 - val_loss: 2.6281 - val_acc: 0.5836\n",
      "\n",
      "Epoch 00011: val_acc did not improve from 0.70381\n",
      "Epoch 12/15\n",
      "89/89 [==============================] - 149s 2s/step - loss: 0.0616 - acc: 0.9793 - val_loss: 0.9857 - val_acc: 0.6584\n",
      "\n",
      "Epoch 00012: val_acc did not improve from 0.70381\n",
      "Epoch 13/15\n",
      "89/89 [==============================] - 149s 2s/step - loss: 0.0312 - acc: 0.9898 - val_loss: 0.9508 - val_acc: 0.7097\n",
      "\n",
      "Epoch 00013: val_acc improved from 0.70381 to 0.70968, saving model to models/model4_best_weights.h5\n",
      "Epoch 14/15\n",
      "89/89 [==============================] - 150s 2s/step - loss: 0.0257 - acc: 0.9905 - val_loss: 1.1822 - val_acc: 0.6833\n",
      "\n",
      "Epoch 00014: val_acc did not improve from 0.70968\n",
      "Epoch 15/15\n",
      "89/89 [==============================] - 149s 2s/step - loss: 0.0421 - acc: 0.9856 - val_loss: 1.0439 - val_acc: 0.5968\n",
      "\n",
      "Epoch 00015: val_acc did not improve from 0.70968\n",
      "CPU times: user 30min 20s, sys: 8min 22s, total: 38min 43s\n",
      "Wall time: 38min 37s\n"
     ]
    }
   ],
   "source": [
    "%%time\n",
    "filepath_4=\"models/model4_best_weights.h5\"\n",
    "checkpoint_4 = ModelCheckpoint(filepath_4, monitor='val_acc', verbose=1, save_best_only=True, mode='max')\n",
    "callbacks_list_4 = [checkpoint_4]\n",
    "\n",
    "model_4.fit_generator(generator=train_generator_4,\n",
    "                    class_weight = class_weights_4,\n",
    "                    steps_per_epoch=STEP_SIZE_TRAIN_4,\n",
    "                    validation_data = val_generator_4,\n",
    "                    validation_steps = STEP_SIZE_VAL_4,\n",
    "                    epochs=model4_epochs,\n",
    "                    callbacks=callbacks_list_4\n",
    ")"
   ]
  },
  {
   "cell_type": "code",
   "execution_count": 37,
   "metadata": {},
   "outputs": [],
   "source": [
    "model_4.save('models/model_4.h5')\n",
    "model_4.save_weights('models/model_4_weights.h5')\n"
   ]
  },
  {
   "cell_type": "code",
   "execution_count": 23,
   "metadata": {},
   "outputs": [],
   "source": [
    "model_4 = load_model('models/model_4.h5')\n",
    "model_4_best_weights = load_model(\"models/model4_best_weights.h5\")"
   ]
  },
  {
   "cell_type": "markdown",
   "metadata": {
    "colab": {},
    "colab_type": "code",
    "id": "jJnbbCdha31c"
   },
   "source": [
    "#### Model 4 Evaluation"
   ]
  },
  {
   "cell_type": "code",
   "execution_count": 38,
   "metadata": {
    "colab": {},
    "colab_type": "code",
    "id": "3BmDWaKBa31i"
   },
   "outputs": [
    {
     "name": "stdout",
     "output_type": "stream",
     "text": [
      "CPU times: user 2min 33s, sys: 19.3 s, total: 2min 52s\n",
      "Wall time: 1min 28s\n"
     ]
    }
   ],
   "source": [
    "%%time\n",
    "model_4_train_metrics, model_4_test_metrics = evaluate_train_test(model_4, \n",
    "                                                                  train_generator_4, \n",
    "                                                                  STEP_SIZE_TRAIN_4, \n",
    "                                                                  test_gens[4])"
   ]
  },
  {
   "cell_type": "code",
   "execution_count": 39,
   "metadata": {},
   "outputs": [
    {
     "name": "stdout",
     "output_type": "stream",
     "text": [
      "CPU times: user 2min 51s, sys: 20 s, total: 3min 11s\n",
      "Wall time: 1min 48s\n"
     ]
    }
   ],
   "source": [
    "%%time\n",
    "model_4_bw_train_metrics, model_4_bw_test_metrics = evaluate_train_test(model_4_best_weights, \n",
    "                                                                        train_generator_4, \n",
    "                                                                        STEP_SIZE_TRAIN_4, \n",
    "                                                                        test_gens[4])"
   ]
  },
  {
   "cell_type": "code",
   "execution_count": 40,
   "metadata": {},
   "outputs": [
    {
     "data": {
      "text/html": [
       "<div>\n",
       "<style scoped>\n",
       "    .dataframe tbody tr th:only-of-type {\n",
       "        vertical-align: middle;\n",
       "    }\n",
       "\n",
       "    .dataframe tbody tr th {\n",
       "        vertical-align: top;\n",
       "    }\n",
       "\n",
       "    .dataframe thead th {\n",
       "        text-align: right;\n",
       "    }\n",
       "</style>\n",
       "<table border=\"1\" class=\"dataframe\">\n",
       "  <thead>\n",
       "    <tr style=\"text-align: right;\">\n",
       "      <th></th>\n",
       "      <th>Model</th>\n",
       "      <th>training loss</th>\n",
       "      <th>training acc</th>\n",
       "      <th>test loss</th>\n",
       "      <th>test acc</th>\n",
       "    </tr>\n",
       "  </thead>\n",
       "  <tbody>\n",
       "    <tr>\n",
       "      <th>0</th>\n",
       "      <td>Model 4</td>\n",
       "      <td>0.885222</td>\n",
       "      <td>0.637234</td>\n",
       "      <td>1.321746</td>\n",
       "      <td>0.464941</td>\n",
       "    </tr>\n",
       "    <tr>\n",
       "      <th>1</th>\n",
       "      <td>Best Weights Model 4</td>\n",
       "      <td>0.477532</td>\n",
       "      <td>0.813121</td>\n",
       "      <td>1.709040</td>\n",
       "      <td>0.521036</td>\n",
       "    </tr>\n",
       "  </tbody>\n",
       "</table>\n",
       "</div>"
      ],
      "text/plain": [
       "                  Model  training loss  training acc  test loss  test acc\n",
       "0               Model 4       0.885222      0.637234   1.321746  0.464941\n",
       "1  Best Weights Model 4       0.477532      0.813121   1.709040  0.521036"
      ]
     },
     "metadata": {},
     "output_type": "display_data"
    }
   ],
   "source": [
    "model_4_results = pretty_metrics(4, model_4_train_metrics, \n",
    "                                 model_4_test_metrics, \n",
    "                                 model_4_bw_train_metrics, \n",
    "                                 model_4_bw_test_metrics)\n",
    "display(model_4_results)"
   ]
  },
  {
   "cell_type": "markdown",
   "metadata": {},
   "source": [
    "Now we evaluate the model only on the grayscale test data. Again, the results are identical to the RGB image results."
   ]
  },
  {
   "cell_type": "code",
   "execution_count": 24,
   "metadata": {},
   "outputs": [
    {
     "name": "stdout",
     "output_type": "stream",
     "text": [
      "CPU times: user 3min 56s, sys: 15.3 s, total: 4min 11s\n",
      "Wall time: 2min 34s\n"
     ]
    }
   ],
   "source": [
    "%%time\n",
    "_ , model_4_gray_test = evaluate_train_test(model_4, test_gen=test_gens_gray[4])\n",
    "_ , bw_model_4_gray_test = evaluate_train_test(model_4_best_weights, test_gen=test_gens_gray[4])"
   ]
  },
  {
   "cell_type": "code",
   "execution_count": 25,
   "metadata": {},
   "outputs": [
    {
     "data": {
      "text/html": [
       "<div>\n",
       "<style scoped>\n",
       "    .dataframe tbody tr th:only-of-type {\n",
       "        vertical-align: middle;\n",
       "    }\n",
       "\n",
       "    .dataframe tbody tr th {\n",
       "        vertical-align: top;\n",
       "    }\n",
       "\n",
       "    .dataframe thead th {\n",
       "        text-align: right;\n",
       "    }\n",
       "</style>\n",
       "<table border=\"1\" class=\"dataframe\">\n",
       "  <thead>\n",
       "    <tr style=\"text-align: right;\">\n",
       "      <th></th>\n",
       "      <th>metric</th>\n",
       "      <th>Model 4</th>\n",
       "      <th>Model 4 Best Weights</th>\n",
       "    </tr>\n",
       "  </thead>\n",
       "  <tbody>\n",
       "    <tr>\n",
       "      <th>0</th>\n",
       "      <td>test loss</td>\n",
       "      <td>1.321746</td>\n",
       "      <td>1.709040</td>\n",
       "    </tr>\n",
       "    <tr>\n",
       "      <th>1</th>\n",
       "      <td>test acc</td>\n",
       "      <td>0.464941</td>\n",
       "      <td>0.521036</td>\n",
       "    </tr>\n",
       "  </tbody>\n",
       "</table>\n",
       "</div>"
      ],
      "text/plain": [
       "      metric   Model 4  Model 4 Best Weights\n",
       "0  test loss  1.321746              1.709040\n",
       "1   test acc  0.464941              0.521036"
      ]
     },
     "execution_count": 25,
     "metadata": {},
     "output_type": "execute_result"
    }
   ],
   "source": [
    "pd.DataFrame({'metric': ['test loss', 'test acc'],\n",
    "              'Model 4':model_4_gray_test, \n",
    "              'Model 4 Best Weights':bw_model_4_gray_test})"
   ]
  },
  {
   "cell_type": "markdown",
   "metadata": {
    "colab_type": "text",
    "id": "larkQ2B4a31n"
   },
   "source": [
    "### Model 5: Benign vs Malignant Mass"
   ]
  },
  {
   "cell_type": "code",
   "execution_count": 41,
   "metadata": {
    "colab": {
     "base_uri": "https://localhost:8080/",
     "height": 405
    },
    "colab_type": "code",
    "id": "8H1svvjea316",
    "outputId": "85e236e4-c031-4aaa-e03e-4dcbfc1e97ea"
   },
   "outputs": [
    {
     "name": "stderr",
     "output_type": "stream",
     "text": [
      "/usr/share/anaconda3/lib/python3.6/site-packages/pandas/core/frame.py:3697: SettingWithCopyWarning: \n",
      "A value is trying to be set on a copy of a slice from a DataFrame\n",
      "\n",
      "See the caveats in the documentation: http://pandas.pydata.org/pandas-docs/stable/indexing.html#indexing-view-versus-copy\n",
      "  errors=errors)\n"
     ]
    },
    {
     "name": "stdout",
     "output_type": "stream",
     "text": [
      "Found 2978 images belonging to 2 classes.\n",
      "Found 745 images belonging to 2 classes.\n"
     ]
    },
    {
     "name": "stderr",
     "output_type": "stream",
     "text": [
      "/usr/share/anaconda3/lib/python3.6/site-packages/keras_applications/resnet50.py:265: UserWarning: The output shape of `ResNet50(include_top=False)` has been changed since Keras 2.2.0.\n",
      "  warnings.warn('The output shape of `ResNet50(include_top=False)` '\n"
     ]
    }
   ],
   "source": [
    "model_5, train_generator_5, val_generator_5, class_weights_5, STEP_SIZE_TRAIN_5, STEP_SIZE_VAL_5 = \\\n",
    "    build_model(model5_classes,\n",
    "                train_df_model_5,\n",
    "                x='filename',\n",
    "                y='y', \n",
    "                bs_train = 32, \n",
    "                lr = 0.0001,\n",
    "                H = H,\n",
    "                W = W, \n",
    "                n_channels = 3)"
   ]
  },
  {
   "cell_type": "code",
   "execution_count": 42,
   "metadata": {
    "scrolled": true
   },
   "outputs": [
    {
     "name": "stdout",
     "output_type": "stream",
     "text": [
      "Epoch 1/10\n",
      "93/93 [==============================] - 221s 2s/step - loss: 0.6168 - acc: 0.6781 - val_loss: 0.8356 - val_acc: 0.5163\n",
      "\n",
      "Epoch 00001: val_acc improved from -inf to 0.51630, saving model to models/model5_best_weights.h5\n",
      "Epoch 2/10\n",
      "93/93 [==============================] - 157s 2s/step - loss: 0.4287 - acc: 0.8054 - val_loss: 0.6554 - val_acc: 0.6480\n",
      "\n",
      "Epoch 00002: val_acc improved from 0.51630 to 0.64797, saving model to models/model5_best_weights.h5\n",
      "Epoch 3/10\n",
      "93/93 [==============================] - 156s 2s/step - loss: 0.2297 - acc: 0.9133 - val_loss: 0.9277 - val_acc: 0.6886\n",
      "\n",
      "Epoch 00003: val_acc improved from 0.64797 to 0.68864, saving model to models/model5_best_weights.h5\n",
      "Epoch 4/10\n",
      "93/93 [==============================] - 156s 2s/step - loss: 0.1423 - acc: 0.9462 - val_loss: 0.8214 - val_acc: 0.6760\n",
      "\n",
      "Epoch 00004: val_acc did not improve from 0.68864\n",
      "Epoch 5/10\n",
      "93/93 [==============================] - 156s 2s/step - loss: 0.0890 - acc: 0.9731 - val_loss: 0.6199 - val_acc: 0.7195\n",
      "\n",
      "Epoch 00005: val_acc improved from 0.68864 to 0.71950, saving model to models/model5_best_weights.h5\n",
      "Epoch 6/10\n",
      "93/93 [==============================] - 156s 2s/step - loss: 0.0872 - acc: 0.9677 - val_loss: 0.7425 - val_acc: 0.6732\n",
      "\n",
      "Epoch 00006: val_acc did not improve from 0.71950\n",
      "Epoch 7/10\n",
      "93/93 [==============================] - 156s 2s/step - loss: 0.0695 - acc: 0.9745 - val_loss: 0.6562 - val_acc: 0.6662\n",
      "\n",
      "Epoch 00007: val_acc did not improve from 0.71950\n",
      "Epoch 8/10\n",
      "93/93 [==============================] - 156s 2s/step - loss: 0.1780 - acc: 0.9315 - val_loss: 0.8216 - val_acc: 0.6073\n",
      "\n",
      "Epoch 00008: val_acc did not improve from 0.71950\n",
      "Epoch 9/10\n",
      "93/93 [==============================] - 156s 2s/step - loss: 0.0510 - acc: 0.9805 - val_loss: 0.6686 - val_acc: 0.6606\n",
      "\n",
      "Epoch 00009: val_acc did not improve from 0.71950\n",
      "Epoch 10/10\n",
      "93/93 [==============================] - 156s 2s/step - loss: 0.0297 - acc: 0.9886 - val_loss: 0.8380 - val_acc: 0.7377\n",
      "\n",
      "Epoch 00010: val_acc improved from 0.71950 to 0.73773, saving model to models/model5_best_weights.h5\n",
      "CPU times: user 21min 52s, sys: 5min 50s, total: 27min 43s\n",
      "Wall time: 27min 37s\n"
     ]
    }
   ],
   "source": [
    "%%time\n",
    "filepath_5=\"models/model5_best_weights.h5\"\n",
    "checkpoint_5 = ModelCheckpoint(filepath_5, monitor='val_acc', verbose=1, save_best_only=True, mode='max')\n",
    "callbacks_list_5 = [checkpoint_5]\n",
    "\n",
    "model_5.fit_generator(generator=train_generator_5,\n",
    "                    class_weight = class_weights_5,\n",
    "                    steps_per_epoch=STEP_SIZE_TRAIN_5,\n",
    "                    validation_data = val_generator_5,\n",
    "                    validation_steps = STEP_SIZE_VAL_5,\n",
    "                    epochs=model5_epochs,\n",
    "                    callbacks=callbacks_list_5\n",
    "\n",
    ")"
   ]
  },
  {
   "cell_type": "code",
   "execution_count": 43,
   "metadata": {},
   "outputs": [],
   "source": [
    "model_5.save('models/model_5.h5')\n",
    "model_5.save_weights('models/model_5_weights.h5')"
   ]
  },
  {
   "cell_type": "code",
   "execution_count": 26,
   "metadata": {},
   "outputs": [],
   "source": [
    "filepath_5=\"models/model5_best_weights.h5\"\n",
    "model_5 = load_model('models/model_5.h5')\n",
    "model_5_best_weights = load_model(filepath_5)"
   ]
  },
  {
   "cell_type": "markdown",
   "metadata": {
    "colab": {},
    "colab_type": "code",
    "id": "GFGkAM5na32L"
   },
   "source": [
    "#### Model 5 Evaluation"
   ]
  },
  {
   "cell_type": "code",
   "execution_count": 44,
   "metadata": {},
   "outputs": [
    {
     "name": "stdout",
     "output_type": "stream",
     "text": [
      "CPU times: user 2min 57s, sys: 20.2 s, total: 3min 17s\n",
      "Wall time: 1min 41s\n"
     ]
    }
   ],
   "source": [
    "%%time\n",
    "model_5_train_metrics, model_5_test_metrics = evaluate_train_test(model_5, \n",
    "                                                                  train_generator_5, \n",
    "                                                                  STEP_SIZE_TRAIN_5, \n",
    "                                                                  test_gens[5])"
   ]
  },
  {
   "cell_type": "code",
   "execution_count": 45,
   "metadata": {},
   "outputs": [
    {
     "name": "stdout",
     "output_type": "stream",
     "text": [
      "CPU times: user 3min 25s, sys: 21.2 s, total: 3min 46s\n",
      "Wall time: 2min 10s\n"
     ]
    }
   ],
   "source": [
    "%%time\n",
    "model_5_bw_train_metrics, model_5_bw_test_metrics = evaluate_train_test(model_5_best_weights, \n",
    "                                                                        train_generator_5, \n",
    "                                                                        STEP_SIZE_TRAIN_5, \n",
    "                                                                        test_gens[5])"
   ]
  },
  {
   "cell_type": "code",
   "execution_count": 46,
   "metadata": {
    "scrolled": true
   },
   "outputs": [
    {
     "data": {
      "text/html": [
       "<div>\n",
       "<style scoped>\n",
       "    .dataframe tbody tr th:only-of-type {\n",
       "        vertical-align: middle;\n",
       "    }\n",
       "\n",
       "    .dataframe tbody tr th {\n",
       "        vertical-align: top;\n",
       "    }\n",
       "\n",
       "    .dataframe thead th {\n",
       "        text-align: right;\n",
       "    }\n",
       "</style>\n",
       "<table border=\"1\" class=\"dataframe\">\n",
       "  <thead>\n",
       "    <tr style=\"text-align: right;\">\n",
       "      <th></th>\n",
       "      <th>Model</th>\n",
       "      <th>training loss</th>\n",
       "      <th>training acc</th>\n",
       "      <th>test loss</th>\n",
       "      <th>test acc</th>\n",
       "    </tr>\n",
       "  </thead>\n",
       "  <tbody>\n",
       "    <tr>\n",
       "      <th>0</th>\n",
       "      <td>Model 5</td>\n",
       "      <td>0.274897</td>\n",
       "      <td>0.897828</td>\n",
       "      <td>1.513099</td>\n",
       "      <td>0.517177</td>\n",
       "    </tr>\n",
       "    <tr>\n",
       "      <th>1</th>\n",
       "      <td>Best Weights Model 5</td>\n",
       "      <td>0.272092</td>\n",
       "      <td>0.899185</td>\n",
       "      <td>1.513085</td>\n",
       "      <td>0.517177</td>\n",
       "    </tr>\n",
       "  </tbody>\n",
       "</table>\n",
       "</div>"
      ],
      "text/plain": [
       "                  Model  training loss  training acc  test loss  test acc\n",
       "0               Model 5       0.274897      0.897828   1.513099  0.517177\n",
       "1  Best Weights Model 5       0.272092      0.899185   1.513085  0.517177"
      ]
     },
     "metadata": {},
     "output_type": "display_data"
    }
   ],
   "source": [
    "model_5_results = pretty_metrics(5, model_5_train_metrics, \n",
    "                                 model_5_test_metrics, \n",
    "                                 model_5_bw_train_metrics, \n",
    "                                 model_5_bw_test_metrics)\n",
    "display(model_5_results)"
   ]
  },
  {
   "cell_type": "markdown",
   "metadata": {},
   "source": [
    "Now we evaluate the model only on the grayscale test data. Again, the results are identical to the RGB image results."
   ]
  },
  {
   "cell_type": "code",
   "execution_count": 27,
   "metadata": {},
   "outputs": [
    {
     "name": "stdout",
     "output_type": "stream",
     "text": [
      "CPU times: user 5min 7s, sys: 17.4 s, total: 5min 25s\n",
      "Wall time: 3min 23s\n"
     ]
    }
   ],
   "source": [
    "%%time\n",
    "_ , model_5_gray_test = evaluate_train_test(model_5, test_gen=test_gens_gray[5])\n",
    "_ , bw_model_5_gray_test = evaluate_train_test(model_5_best_weights, test_gen=test_gens_gray[5])"
   ]
  },
  {
   "cell_type": "code",
   "execution_count": 28,
   "metadata": {},
   "outputs": [
    {
     "data": {
      "text/html": [
       "<div>\n",
       "<style scoped>\n",
       "    .dataframe tbody tr th:only-of-type {\n",
       "        vertical-align: middle;\n",
       "    }\n",
       "\n",
       "    .dataframe tbody tr th {\n",
       "        vertical-align: top;\n",
       "    }\n",
       "\n",
       "    .dataframe thead th {\n",
       "        text-align: right;\n",
       "    }\n",
       "</style>\n",
       "<table border=\"1\" class=\"dataframe\">\n",
       "  <thead>\n",
       "    <tr style=\"text-align: right;\">\n",
       "      <th></th>\n",
       "      <th>metric</th>\n",
       "      <th>Model 5</th>\n",
       "      <th>Model 5 Best Weights</th>\n",
       "    </tr>\n",
       "  </thead>\n",
       "  <tbody>\n",
       "    <tr>\n",
       "      <th>0</th>\n",
       "      <td>test loss</td>\n",
       "      <td>1.513099</td>\n",
       "      <td>1.513085</td>\n",
       "    </tr>\n",
       "    <tr>\n",
       "      <th>1</th>\n",
       "      <td>test acc</td>\n",
       "      <td>0.517177</td>\n",
       "      <td>0.517177</td>\n",
       "    </tr>\n",
       "  </tbody>\n",
       "</table>\n",
       "</div>"
      ],
      "text/plain": [
       "      metric   Model 5  Model 5 Best Weights\n",
       "0  test loss  1.513099              1.513085\n",
       "1   test acc  0.517177              0.517177"
      ]
     },
     "execution_count": 28,
     "metadata": {},
     "output_type": "execute_result"
    }
   ],
   "source": [
    "pd.DataFrame({'metric': ['test loss', 'test acc'],\n",
    "              'Model 5':model_5_gray_test, \n",
    "              'Model 5 Best Weights':bw_model_5_gray_test})"
   ]
  },
  {
   "cell_type": "markdown",
   "metadata": {},
   "source": [
    "## Summary of Results\n",
    "\n",
    "because the RGB and grayscale test data results were essentially the same, we simply show the test results from the RGB data."
   ]
  },
  {
   "cell_type": "code",
   "execution_count": 49,
   "metadata": {},
   "outputs": [
    {
     "data": {
      "text/html": [
       "<div>\n",
       "<style scoped>\n",
       "    .dataframe tbody tr th:only-of-type {\n",
       "        vertical-align: middle;\n",
       "    }\n",
       "\n",
       "    .dataframe tbody tr th {\n",
       "        vertical-align: top;\n",
       "    }\n",
       "\n",
       "    .dataframe thead th {\n",
       "        text-align: right;\n",
       "    }\n",
       "</style>\n",
       "<table border=\"1\" class=\"dataframe\">\n",
       "  <thead>\n",
       "    <tr style=\"text-align: right;\">\n",
       "      <th></th>\n",
       "      <th>Model</th>\n",
       "      <th>training loss</th>\n",
       "      <th>training acc</th>\n",
       "      <th>test loss</th>\n",
       "      <th>test acc</th>\n",
       "    </tr>\n",
       "  </thead>\n",
       "  <tbody>\n",
       "    <tr>\n",
       "      <th>0</th>\n",
       "      <td>Model 0</td>\n",
       "      <td>1.74136</td>\n",
       "      <td>0.534</td>\n",
       "      <td>3.356003</td>\n",
       "      <td>0.407706</td>\n",
       "    </tr>\n",
       "    <tr>\n",
       "      <th>1</th>\n",
       "      <td>Best Weights Model 0</td>\n",
       "      <td>0.463247</td>\n",
       "      <td>0.862118</td>\n",
       "      <td>1.611957</td>\n",
       "      <td>0.708539</td>\n",
       "    </tr>\n",
       "    <tr>\n",
       "      <th>2</th>\n",
       "      <td>Model 1</td>\n",
       "      <td>2.228266</td>\n",
       "      <td>0.861754</td>\n",
       "      <td>2.10236</td>\n",
       "      <td>0.869565</td>\n",
       "    </tr>\n",
       "    <tr>\n",
       "      <th>3</th>\n",
       "      <td>Model 1 Best Weights</td>\n",
       "      <td>2.222922</td>\n",
       "      <td>0.862085</td>\n",
       "      <td>2.101311</td>\n",
       "      <td>0.86963</td>\n",
       "    </tr>\n",
       "    <tr>\n",
       "      <th>4</th>\n",
       "      <td>Model 2</td>\n",
       "      <td>1.448646</td>\n",
       "      <td>0.55682</td>\n",
       "      <td>2.91726</td>\n",
       "      <td>0.258982</td>\n",
       "    </tr>\n",
       "    <tr>\n",
       "      <th>5</th>\n",
       "      <td>Best Weights Model 2</td>\n",
       "      <td>1.583237</td>\n",
       "      <td>0.550785</td>\n",
       "      <td>2.279989</td>\n",
       "      <td>0.265469</td>\n",
       "    </tr>\n",
       "    <tr>\n",
       "      <th>6</th>\n",
       "      <td>Model 3</td>\n",
       "      <td>0.065287</td>\n",
       "      <td>0.974922</td>\n",
       "      <td>2.337368</td>\n",
       "      <td>0.752603</td>\n",
       "    </tr>\n",
       "    <tr>\n",
       "      <th>7</th>\n",
       "      <td>Best Weights Model 3</td>\n",
       "      <td>0.065781</td>\n",
       "      <td>0.974804</td>\n",
       "      <td>2.338943</td>\n",
       "      <td>0.752473</td>\n",
       "    </tr>\n",
       "    <tr>\n",
       "      <th>8</th>\n",
       "      <td>Model 4</td>\n",
       "      <td>0.885222</td>\n",
       "      <td>0.637234</td>\n",
       "      <td>1.321746</td>\n",
       "      <td>0.464941</td>\n",
       "    </tr>\n",
       "    <tr>\n",
       "      <th>9</th>\n",
       "      <td>Best Weights Model 4</td>\n",
       "      <td>0.477532</td>\n",
       "      <td>0.813121</td>\n",
       "      <td>1.70904</td>\n",
       "      <td>0.521036</td>\n",
       "    </tr>\n",
       "    <tr>\n",
       "      <th>10</th>\n",
       "      <td>Model 5</td>\n",
       "      <td>0.274897</td>\n",
       "      <td>0.897828</td>\n",
       "      <td>1.513099</td>\n",
       "      <td>0.517177</td>\n",
       "    </tr>\n",
       "    <tr>\n",
       "      <th>11</th>\n",
       "      <td>Best Weights Model 5</td>\n",
       "      <td>0.272092</td>\n",
       "      <td>0.899185</td>\n",
       "      <td>1.513085</td>\n",
       "      <td>0.517177</td>\n",
       "    </tr>\n",
       "  </tbody>\n",
       "</table>\n",
       "</div>"
      ],
      "text/plain": [
       "                   Model training loss training acc test loss  test acc\n",
       "0                Model 0       1.74136        0.534  3.356003  0.407706\n",
       "1   Best Weights Model 0      0.463247     0.862118  1.611957  0.708539\n",
       "2                Model 1      2.228266     0.861754   2.10236  0.869565\n",
       "3   Model 1 Best Weights      2.222922     0.862085  2.101311   0.86963\n",
       "4                Model 2      1.448646      0.55682   2.91726  0.258982\n",
       "5   Best Weights Model 2      1.583237     0.550785  2.279989  0.265469\n",
       "6                Model 3      0.065287     0.974922  2.337368  0.752603\n",
       "7   Best Weights Model 3      0.065781     0.974804  2.338943  0.752473\n",
       "8                Model 4      0.885222     0.637234  1.321746  0.464941\n",
       "9   Best Weights Model 4      0.477532     0.813121   1.70904  0.521036\n",
       "10               Model 5      0.274897     0.897828  1.513099  0.517177\n",
       "11  Best Weights Model 5      0.272092     0.899185  1.513085  0.517177"
      ]
     },
     "metadata": {},
     "output_type": "display_data"
    }
   ],
   "source": [
    "all_results = pd.concat([model_0_results, \n",
    "                         model_1_results, model_2_results, model_3_results, model_4_results, model_5_results])\n",
    "display(all_results_df)"
   ]
  },
  {
   "cell_type": "markdown",
   "metadata": {},
   "source": [
    "## Conclusion\n",
    "\n",
    "There results were not ideal because the accuracies are not comparable to what we've seen in the literature review. The fact that the validation accuracy and the test accuracy are not especially close is worrisome especially when the trianing data accuracy was so high durin training. Based on these results, we decided to take a step back and consider other models."
   ]
  }
 ],
 "metadata": {
  "accelerator": "GPU",
  "colab": {
   "collapsed_sections": [],
   "name": "models.ipynb",
   "provenance": [],
   "version": "0.3.2"
  },
  "kernelspec": {
   "display_name": "Python 3",
   "language": "python",
   "name": "python3"
  },
  "language_info": {
   "codemirror_mode": {
    "name": "ipython",
    "version": 3
   },
   "file_extension": ".py",
   "mimetype": "text/x-python",
   "name": "python",
   "nbconvert_exporter": "python",
   "pygments_lexer": "ipython3",
   "version": "3.6.8"
  }
 },
 "nbformat": 4,
 "nbformat_minor": 1
}
